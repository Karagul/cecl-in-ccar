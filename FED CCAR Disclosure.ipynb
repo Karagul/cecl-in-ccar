{
 "cells": [
  {
   "cell_type": "markdown",
   "metadata": {
    "hideCode": false,
    "hidePrompt": false
   },
   "source": [
    "# FED CCAR Disclosure "
   ]
  },
  {
   "cell_type": "code",
   "execution_count": 9,
   "metadata": {
    "hideCode": false,
    "hidePrompt": false
   },
   "outputs": [],
   "source": [
    "import plotly_express as px\n",
    "import matplotlib.pyplot as plt\n",
    "import pandas as pds\n",
    "from ipywidgets import interact, interactive, fixed, interact_manual, HBox, VBox\n",
    "import ipywidgets as widgets\n",
    "import seaborn as sns\n",
    "from ipywidgets.embed import embed_minimal_html"
   ]
  },
  {
   "cell_type": "code",
   "execution_count": 3,
   "metadata": {
    "hideCode": false,
    "hidePrompt": false
   },
   "outputs": [],
   "source": [
    "table_20 = pds.read_excel(\"Table20_21_FED.xlsx\")\n",
    "table_20_t = table_20.melt(id_vars=['risk_catI', 'risk_catII'])\n",
    "table_20_t.rename(columns = {'variable': 'result_cat', 'value': 'percentage'}, inplace = True)"
   ]
  },
  {
   "cell_type": "markdown",
   "metadata": {
    "hideCode": false,
    "hidePrompt": false
   },
   "source": [
    "## Plot # 1 (Option 1): Table 20 & 21 "
   ]
  },
  {
   "cell_type": "code",
   "execution_count": 4,
   "metadata": {
    "hideCode": false,
    "hidePrompt": false
   },
   "outputs": [],
   "source": [
    "def f1 (grade, fi, sec, cat):\n",
    "    if grade == 'Investment Grade':\n",
    "        if fi == 'Financial Sector':\n",
    "            if sec == 'Secured': x = 'IG_FIN_S'\n",
    "            else: x = 'IG_FIN_US'\n",
    "        else:\n",
    "            if sec == 'Secured': x = 'IG_NFIN_S'\n",
    "            else: x = 'IG_NFIN_US'\n",
    "    else:\n",
    "        if fi == 'Financial Sector':\n",
    "            if sec == 'Secured': x = 'NIG_FIN_S'\n",
    "            else: x = 'NIG_FIN_US'\n",
    "        else:\n",
    "            if sec == 'Secured': x = 'NIG_NFIN_S'\n",
    "            else: x = 'NIG_NFIN_US'\n",
    "    \n",
    "    if cat == 'Facility Type': y = 'Facility_type'\n",
    "    elif cat == 'Rating': y = 'Rating'\n",
    "    elif cat == 'Lien Position': y = 'Lien_position' \n",
    "    elif cat == 'Interest Rate': y = 'IR_variability'\n",
    "    elif cat == 'Industry': y = 'Industry'\n",
    "    elif cat == 'Guarantor': y = 'Guarantor_flag'\n",
    "    elif cat == 'Other': y = 'Other'\n",
    "    else: y = 'Loss_Rate'\n",
    "      \n",
    "    cm = sns.light_palette(\"green\", as_cmap=True)\n",
    "    display(px.bar(table_20_t[(table_20_t.result_cat == x) & (table_20_t.risk_catI == y)], \\\n",
    "                   x=\"risk_catII\", y=\"percentage\", orientation=\"v\", title = cat, \\\n",
    "                   labels = {'percentage': 'Pct (%)', 'risk_catII': 'Risk Category'}))\n",
    "    \n",
    "    table_print = table_20[['risk_catI', 'risk_catII', x]][table_20.risk_catI == y] \\\n",
    "            .style.background_gradient(cmap=cm, subset=[x]) \\\n",
    "            .highlight_max(subset=[x])\n",
    "    \n",
    "    display(table_print)"
   ]
  },
  {
   "cell_type": "code",
   "execution_count": 12,
   "metadata": {
    "hideCode": false,
    "hidePrompt": false,
    "scrolled": false
   },
   "outputs": [
    {
     "data": {
      "application/vnd.jupyter.widget-view+json": {
       "model_id": "59fe293a1dcc454aae28df301027d649",
       "version_major": 2,
       "version_minor": 0
      },
      "text/plain": [
       "Tab(children=(VBox(children=(Dropdown(description='Rating:', options=('Investment Grade', 'Non-investment Grad…"
      ]
     },
     "metadata": {},
     "output_type": "display_data"
    }
   ],
   "source": [
    "grade = widgets.Dropdown( \\\n",
    "    options=['Investment Grade', 'Non-investment Grade'], \\\n",
    "    value='Investment Grade', \\\n",
    "    description='Rating:', \\\n",
    "    disabled=False, \\\n",
    ")\n",
    "\n",
    "fi = widgets.Dropdown( \\\n",
    "    options=['Financial Sector', 'Non-financial Sector'], \\\n",
    "    value='Non-financial Sector', \\\n",
    "    description='Sector:', \\\n",
    "    disabled=False, \\\n",
    ")\n",
    "\n",
    "sec = widgets.Dropdown( \\\n",
    "    options=['Secured', 'Unsecured'], \\\n",
    "    value='Secured', \\\n",
    "    description='Collateral:', \\\n",
    "    disabled=False, \\\n",
    ")\n",
    "\n",
    "cat = widgets.RadioButtons(\n",
    "    options=['Facility Type', 'Rating', 'Lien Position', 'Interest Rate', 'Industry', 'Guarantor', 'Other', 'Loss Rate'],\n",
    "    value='Loss Rate',\n",
    "    description='Risk Category:',\n",
    "    disabled=False\n",
    ")\n",
    "\n",
    "# widgets.interactive(f, grade = grade, fi = fi, sec = sec, cat = cat)\n",
    "\n",
    "tab = widgets.Tab()\n",
    "tab.set_title(0, 'Interactive Plots')\n",
    "\n",
    "k = widgets.interactive(f1, grade = grade, fi = fi, sec = sec, cat = cat)\n",
    "tab.children = [VBox(children = k.children)]\n",
    "display(tab)\n"
   ]
  },
  {
   "cell_type": "markdown",
   "metadata": {
    "hideCode": false,
    "hidePrompt": false
   },
   "source": [
    "## Plot # 1 (Option 2): Table 20 & 21 "
   ]
  },
  {
   "cell_type": "code",
   "execution_count": 13,
   "metadata": {
    "hideCode": false,
    "hidePrompt": false
   },
   "outputs": [],
   "source": [
    "def f1 (grade, fi, sec, cat):\n",
    "    if grade == 'Investment Grade':\n",
    "        if fi == 'Financial Sector':\n",
    "            if sec == 'Secured': x = 'IG_FIN_S'\n",
    "            else: x = 'IG_FIN_US'\n",
    "        else:\n",
    "            if sec == 'Secured': x = 'IG_NFIN_S'\n",
    "            else: x = 'IG_NFIN_US'\n",
    "    else:\n",
    "        if fi == 'Financial Sector':\n",
    "            if sec == 'Secured': x = 'NIG_FIN_S'\n",
    "            else: x = 'NIG_FIN_US'\n",
    "        else:\n",
    "            if sec == 'Secured': x = 'NIG_NFIN_S'\n",
    "            else: x = 'NIG_NFIN_US'\n",
    "    \n",
    "    if cat == 'Facility Type': y = 'Facility_type'\n",
    "    elif cat == 'Rating': y = 'Rating'\n",
    "    elif cat == 'Lien Position': y = 'Lien_position' \n",
    "    elif cat == 'Interest Rate': y = 'IR_variability'\n",
    "    elif cat == 'Industry': y = 'Industry'\n",
    "    elif cat == 'Guarantor': y = 'Guarantor_flag'\n",
    "    elif cat == 'Other': y = 'Other'\n",
    "    else: y = 'Loss_Rate'\n",
    "      \n",
    "    cm = sns.light_palette(\"green\", as_cmap=True)\n",
    "    display(px.bar(table_20_t[(table_20_t.result_cat == x) & (table_20_t.risk_catI == y)], \\\n",
    "                   x=\"risk_catII\", y=\"percentage\", orientation=\"v\", title = cat, \\\n",
    "                   labels = {'percentage': 'Pct (%)', 'risk_catII': 'Risk Category'}))\n",
    "    \n",
    "    table_print = table_20[['risk_catI', 'risk_catII', x]][table_20.risk_catI == y] \\\n",
    "            .style.background_gradient(cmap=cm, subset=[x]) \\\n",
    "            .highlight_max(subset=[x])\n",
    "    \n",
    "    display(table_print)"
   ]
  },
  {
   "cell_type": "code",
   "execution_count": null,
   "metadata": {},
   "outputs": [],
   "source": []
  }
 ],
 "metadata": {
  "hide_code_all_hidden": false,
  "kernelspec": {
   "display_name": "Python 3",
   "language": "python",
   "name": "python3"
  },
  "language_info": {
   "codemirror_mode": {
    "name": "ipython",
    "version": 3
   },
   "file_extension": ".py",
   "mimetype": "text/x-python",
   "name": "python",
   "nbconvert_exporter": "python",
   "pygments_lexer": "ipython3",
   "version": "3.7.1"
  },
  "widgets": {
   "application/vnd.jupyter.widget-state+json": {
    "state": {
     "01dfde5cfd2b486c8b3de53d8acbf9e7": {
      "model_module": "@jupyter-widgets/base",
      "model_module_version": "1.1.0",
      "model_name": "LayoutModel",
      "state": {}
     },
     "05d729fcef884a64a098a46c3fb9955b": {
      "model_module": "@jupyter-widgets/controls",
      "model_module_version": "1.4.0",
      "model_name": "VBoxModel",
      "state": {
       "children": [
        "IPY_MODEL_1149f41250634810bca8f3b96f9e087b",
        "IPY_MODEL_fc193502d49c4e2aaffb0dbf579927c8",
        "IPY_MODEL_28988e73fb0f43cfaa7b4c8137db4462",
        "IPY_MODEL_1f4a5e2a76bb499dbb8920515dc1f777",
        "IPY_MODEL_a6e7568fae2440cf9cade4639fcb50da"
       ],
       "layout": "IPY_MODEL_7bd98befbdc64f46a4a9c496c768f0f4"
      }
     },
     "0600c8d0dbad4e3c957d341bdd622ea2": {
      "model_module": "@jupyter-widgets/controls",
      "model_module_version": "1.4.0",
      "model_name": "DropdownModel",
      "state": {
       "_options_labels": [
        "Investment Grade",
        "Non-investment Grade"
       ],
       "description": "Rating:",
       "index": 0,
       "layout": "IPY_MODEL_d62a3915f4c34a2d9d535c30e04c816e",
       "style": "IPY_MODEL_b94f0778f315421fbf4b70c5843ed9a5"
      }
     },
     "0adf70213aad4d148dbf434d1723f3b1": {
      "model_module": "@jupyter-widgets/controls",
      "model_module_version": "1.4.0",
      "model_name": "VBoxModel",
      "state": {
       "children": [
        "IPY_MODEL_c05d0983c4e0479b848fb63ef9cf518f",
        "IPY_MODEL_c5bab00b8e624a1d96718fe6a23a53fe",
        "IPY_MODEL_183236f31fb843ba9a685a63d7a5264a",
        "IPY_MODEL_f6ecf980d89b4190b298d1932070b3a8",
        "IPY_MODEL_7b5f661f46de455689e3b0e8e6ceeb8f"
       ],
       "layout": "IPY_MODEL_354cab75639d474ea0091d38a0331fd5"
      }
     },
     "0d952aca5d3b4a82889089971abe781d": {
      "model_module": "@jupyter-widgets/controls",
      "model_module_version": "1.4.0",
      "model_name": "TabModel",
      "state": {
       "_titles": {
        "0": "Interactive Plots"
       },
       "children": [
        "IPY_MODEL_cf1841b3e9d0488a8da206086b44e379"
       ],
       "layout": "IPY_MODEL_ad3391acc3294564a9001171fad9dfcd"
      }
     },
     "0ed025d7b6b148499ef7432aac6d382e": {
      "model_module": "@jupyter-widgets/base",
      "model_module_version": "1.1.0",
      "model_name": "LayoutModel",
      "state": {}
     },
     "107e72500ccb48b08dcb25ecb4013420": {
      "model_module": "@jupyter-widgets/controls",
      "model_module_version": "1.4.0",
      "model_name": "DescriptionStyleModel",
      "state": {
       "description_width": ""
      }
     },
     "1092425114e24de69e30f5013e966340": {
      "model_module": "@jupyter-widgets/controls",
      "model_module_version": "1.4.0",
      "model_name": "DescriptionStyleModel",
      "state": {
       "description_width": ""
      }
     },
     "1149f41250634810bca8f3b96f9e087b": {
      "model_module": "@jupyter-widgets/controls",
      "model_module_version": "1.4.0",
      "model_name": "DropdownModel",
      "state": {
       "_options_labels": [
        "Investment Grade",
        "Non-investment Grade"
       ],
       "description": "Rating:",
       "index": 0,
       "layout": "IPY_MODEL_350952745961420fa7ab97d929ebc447",
       "style": "IPY_MODEL_dc44df364cee4896b7db1c820395e2e0"
      }
     },
     "11f19074780e43ecad04bfde8de11477": {
      "model_module": "@jupyter-widgets/controls",
      "model_module_version": "1.4.0",
      "model_name": "DescriptionStyleModel",
      "state": {
       "description_width": ""
      }
     },
     "12d6434000854c61a8aa6c24ed700b62": {
      "model_module": "@jupyter-widgets/base",
      "model_module_version": "1.1.0",
      "model_name": "LayoutModel",
      "state": {}
     },
     "14a0a1aaa1a0437bbf66272dcb5fd47e": {
      "model_module": "@jupyter-widgets/controls",
      "model_module_version": "1.4.0",
      "model_name": "DescriptionStyleModel",
      "state": {
       "description_width": ""
      }
     },
     "183236f31fb843ba9a685a63d7a5264a": {
      "model_module": "@jupyter-widgets/controls",
      "model_module_version": "1.4.0",
      "model_name": "DropdownModel",
      "state": {
       "_options_labels": [
        "Secured",
        "Unsecured"
       ],
       "description": "Collateral:",
       "index": 0,
       "layout": "IPY_MODEL_1fd90ff2580e450bb4c4ad040d2a9e8c",
       "style": "IPY_MODEL_107e72500ccb48b08dcb25ecb4013420"
      }
     },
     "1859dcf96d63428eaeaa208cfbff0ebe": {
      "model_module": "@jupyter-widgets/base",
      "model_module_version": "1.1.0",
      "model_name": "LayoutModel",
      "state": {}
     },
     "1876a2d33dd54d7095811f62c08dba04": {
      "model_module": "@jupyter-widgets/base",
      "model_module_version": "1.1.0",
      "model_name": "LayoutModel",
      "state": {}
     },
     "188a47535c4f416899a2be677ff6a2d1": {
      "model_module": "@jupyter-widgets/controls",
      "model_module_version": "1.4.0",
      "model_name": "DescriptionStyleModel",
      "state": {
       "description_width": ""
      }
     },
     "19e7dffe00824666a45b5896962354c4": {
      "model_module": "@jupyter-widgets/base",
      "model_module_version": "1.1.0",
      "model_name": "LayoutModel",
      "state": {}
     },
     "1f4a5e2a76bb499dbb8920515dc1f777": {
      "model_module": "@jupyter-widgets/controls",
      "model_module_version": "1.4.0",
      "model_name": "RadioButtonsModel",
      "state": {
       "_options_labels": [
        "Facility Type",
        "Rating",
        "Lien Position",
        "Interest Rate",
        "Industry",
        "Guarantor",
        "Other",
        "Loss Rate"
       ],
       "description": "Risk Category:",
       "index": 0,
       "layout": "IPY_MODEL_49a9302faa8a430eac544faabe0ca0ed",
       "style": "IPY_MODEL_11f19074780e43ecad04bfde8de11477"
      }
     },
     "1fd90ff2580e450bb4c4ad040d2a9e8c": {
      "model_module": "@jupyter-widgets/base",
      "model_module_version": "1.1.0",
      "model_name": "LayoutModel",
      "state": {}
     },
     "286cdf9568ae4ab5892ea461eca80e45": {
      "model_module": "@jupyter-widgets/base",
      "model_module_version": "1.1.0",
      "model_name": "LayoutModel",
      "state": {}
     },
     "28988e73fb0f43cfaa7b4c8137db4462": {
      "model_module": "@jupyter-widgets/controls",
      "model_module_version": "1.4.0",
      "model_name": "DropdownModel",
      "state": {
       "_options_labels": [
        "Secured",
        "Unsecured"
       ],
       "description": "Collateral:",
       "index": 0,
       "layout": "IPY_MODEL_59502f48a5e6497f8e8586b668a08e62",
       "style": "IPY_MODEL_fc52523f62994f078cfdbf384ef46484"
      }
     },
     "28eb941ece8a474a982f6a918148ae82": {
      "model_module": "@jupyter-widgets/base",
      "model_module_version": "1.1.0",
      "model_name": "LayoutModel",
      "state": {}
     },
     "2b6d03fad42c45e58608b01ef2d7268e": {
      "model_module": "@jupyter-widgets/base",
      "model_module_version": "1.1.0",
      "model_name": "LayoutModel",
      "state": {}
     },
     "2d4465d2e5ee4d2798c48fac5cff370f": {
      "model_module": "@jupyter-widgets/base",
      "model_module_version": "1.1.0",
      "model_name": "LayoutModel",
      "state": {}
     },
     "3385c95c75d248d2be97cb1d4a619204": {
      "model_module": "@jupyter-widgets/base",
      "model_module_version": "1.1.0",
      "model_name": "LayoutModel",
      "state": {}
     },
     "350952745961420fa7ab97d929ebc447": {
      "model_module": "@jupyter-widgets/base",
      "model_module_version": "1.1.0",
      "model_name": "LayoutModel",
      "state": {}
     },
     "354cab75639d474ea0091d38a0331fd5": {
      "model_module": "@jupyter-widgets/base",
      "model_module_version": "1.1.0",
      "model_name": "LayoutModel",
      "state": {}
     },
     "3570a2230e0c4a73ab96311da71442ea": {
      "model_module": "@jupyter-widgets/base",
      "model_module_version": "1.1.0",
      "model_name": "LayoutModel",
      "state": {}
     },
     "3590e606823f4cf789a73628d8fda405": {
      "model_module": "@jupyter-widgets/controls",
      "model_module_version": "1.4.0",
      "model_name": "VBoxModel",
      "state": {
       "_dom_classes": [
        "widget-interact"
       ],
       "children": [
        "IPY_MODEL_c05d0983c4e0479b848fb63ef9cf518f",
        "IPY_MODEL_c5bab00b8e624a1d96718fe6a23a53fe",
        "IPY_MODEL_183236f31fb843ba9a685a63d7a5264a",
        "IPY_MODEL_f6ecf980d89b4190b298d1932070b3a8",
        "IPY_MODEL_7b5f661f46de455689e3b0e8e6ceeb8f"
       ],
       "layout": "IPY_MODEL_e9033796319a477ca42a9ed69d63f622"
      }
     },
     "36b1810558aa4446ae2ae0b5dd472b3c": {
      "model_module": "@jupyter-widgets/base",
      "model_module_version": "1.1.0",
      "model_name": "LayoutModel",
      "state": {}
     },
     "370eda92f6cf48489b026d3b8e4b6b02": {
      "model_module": "@jupyter-widgets/controls",
      "model_module_version": "1.4.0",
      "model_name": "DropdownModel",
      "state": {
       "_options_labels": [
        "Secured",
        "Unsecured"
       ],
       "description": "Collateral:",
       "index": 0,
       "layout": "IPY_MODEL_df8a1098a410451a9b7d5df11ec37f34",
       "style": "IPY_MODEL_e0719fe499834d20b59e95888568260b"
      }
     },
     "392103f3e1b844748d3effc8beb78a9b": {
      "model_module": "@jupyter-widgets/controls",
      "model_module_version": "1.4.0",
      "model_name": "DescriptionStyleModel",
      "state": {
       "description_width": ""
      }
     },
     "3b6f022b63174222b220f29d091b50f7": {
      "model_module": "@jupyter-widgets/controls",
      "model_module_version": "1.4.0",
      "model_name": "DescriptionStyleModel",
      "state": {
       "description_width": ""
      }
     },
     "3ce021b530c94026960083982d6671f1": {
      "model_module": "@jupyter-widgets/base",
      "model_module_version": "1.1.0",
      "model_name": "LayoutModel",
      "state": {}
     },
     "42a8574244ae4c37bf512566765a948d": {
      "model_module": "@jupyter-widgets/controls",
      "model_module_version": "1.4.0",
      "model_name": "VBoxModel",
      "state": {
       "_dom_classes": [
        "widget-interact"
       ],
       "children": [
        "IPY_MODEL_86688460e7ce4e60a77f5d5d8d44adb0",
        "IPY_MODEL_df1981de43f745a0a2e81d7794dcaec4",
        "IPY_MODEL_370eda92f6cf48489b026d3b8e4b6b02",
        "IPY_MODEL_673dfab26c6144c089610fc94a4dbe6d",
        "IPY_MODEL_df1fb567eb7a4b3d9f92d257e8f8e2b7"
       ],
       "layout": "IPY_MODEL_e57dae0a40d74c74a554600f1a061b2d"
      }
     },
     "477b469803d740d0828f94e5d276dc51": {
      "model_module": "@jupyter-widgets/base",
      "model_module_version": "1.1.0",
      "model_name": "LayoutModel",
      "state": {}
     },
     "49a9302faa8a430eac544faabe0ca0ed": {
      "model_module": "@jupyter-widgets/base",
      "model_module_version": "1.1.0",
      "model_name": "LayoutModel",
      "state": {}
     },
     "4ca19df1cf954ea8b2636dcbb03b730a": {
      "model_module": "@jupyter-widgets/base",
      "model_module_version": "1.1.0",
      "model_name": "LayoutModel",
      "state": {}
     },
     "54d68c9d535844fe84d3e31dcdcdf470": {
      "model_module": "@jupyter-widgets/output",
      "model_module_version": "1.0.0",
      "model_name": "OutputModel",
      "state": {
       "layout": "IPY_MODEL_1859dcf96d63428eaeaa208cfbff0ebe"
      }
     },
     "5506779c229d4a16af87c79f2e291d50": {
      "model_module": "@jupyter-widgets/controls",
      "model_module_version": "1.4.0",
      "model_name": "TabModel",
      "state": {
       "_titles": {
        "0": "Interactive Plots"
       },
       "children": [
        "IPY_MODEL_ed92cdb83b4f4bab81062ad569a22197"
       ],
       "layout": "IPY_MODEL_3385c95c75d248d2be97cb1d4a619204"
      }
     },
     "55a682a0861b45e09583537ddc128aa9": {
      "model_module": "@jupyter-widgets/base",
      "model_module_version": "1.1.0",
      "model_name": "LayoutModel",
      "state": {}
     },
     "5741736c7d784fafa28f7b7e7a0c90ed": {
      "model_module": "@jupyter-widgets/controls",
      "model_module_version": "1.4.0",
      "model_name": "VBoxModel",
      "state": {
       "_dom_classes": [
        "widget-interact"
       ],
       "children": [
        "IPY_MODEL_af37e634f26a4c6782ebf7a4038a38c1",
        "IPY_MODEL_7663fe29965e4d93aa984460cd7a58e0",
        "IPY_MODEL_609f7e3905e84e7f99538b23226cd30a",
        "IPY_MODEL_c31863bb302c4a66b5f179f286e074a9",
        "IPY_MODEL_54d68c9d535844fe84d3e31dcdcdf470"
       ],
       "layout": "IPY_MODEL_8d133220af1c43ea831afdaf9d203975"
      }
     },
     "58505c82f0cc4a17a84488da8bf3c64a": {
      "model_module": "@jupyter-widgets/output",
      "model_module_version": "1.0.0",
      "model_name": "OutputModel",
      "state": {
       "layout": "IPY_MODEL_6be63aa9b5dd4b4ca21d8dd0df2ca2fb"
      }
     },
     "58cefa38407e4cb4a1433a01f47d4388": {
      "model_module": "@jupyter-widgets/controls",
      "model_module_version": "1.4.0",
      "model_name": "DescriptionStyleModel",
      "state": {
       "description_width": ""
      }
     },
     "58f99d49a7bc4c10802825adf14157b5": {
      "model_module": "@jupyter-widgets/controls",
      "model_module_version": "1.4.0",
      "model_name": "DescriptionStyleModel",
      "state": {
       "description_width": ""
      }
     },
     "59502f48a5e6497f8e8586b668a08e62": {
      "model_module": "@jupyter-widgets/base",
      "model_module_version": "1.1.0",
      "model_name": "LayoutModel",
      "state": {}
     },
     "59fe293a1dcc454aae28df301027d649": {
      "model_module": "@jupyter-widgets/controls",
      "model_module_version": "1.4.0",
      "model_name": "TabModel",
      "state": {
       "_titles": {
        "0": "Interactive Plots"
       },
       "children": [
        "IPY_MODEL_05d729fcef884a64a098a46c3fb9955b"
       ],
       "layout": "IPY_MODEL_c1ca5f550f8d420faeaf511540ea3ac3"
      }
     },
     "5d8f94f4d2a54a01b9d2778dd330360d": {
      "model_module": "@jupyter-widgets/controls",
      "model_module_version": "1.4.0",
      "model_name": "DescriptionStyleModel",
      "state": {
       "description_width": ""
      }
     },
     "5dfcbb1580704c15a8f4fe8e23f36496": {
      "model_module": "@jupyter-widgets/base",
      "model_module_version": "1.1.0",
      "model_name": "LayoutModel",
      "state": {}
     },
     "5e5742666de147a8896294808672205a": {
      "model_module": "@jupyter-widgets/controls",
      "model_module_version": "1.4.0",
      "model_name": "DescriptionStyleModel",
      "state": {
       "description_width": ""
      }
     },
     "609f7e3905e84e7f99538b23226cd30a": {
      "model_module": "@jupyter-widgets/controls",
      "model_module_version": "1.4.0",
      "model_name": "DropdownModel",
      "state": {
       "_options_labels": [
        "Secured",
        "Unsecured"
       ],
       "description": "Collateral:",
       "index": 0,
       "layout": "IPY_MODEL_95ba58b514884042bfe0df061d62d906",
       "style": "IPY_MODEL_6bc0f45cf31745bcba690b10828a5343"
      }
     },
     "673dfab26c6144c089610fc94a4dbe6d": {
      "model_module": "@jupyter-widgets/controls",
      "model_module_version": "1.4.0",
      "model_name": "RadioButtonsModel",
      "state": {
       "_options_labels": [
        "Facility Type",
        "Rating",
        "Lien Position",
        "Interest Rate",
        "Industry",
        "Guarantor",
        "Other",
        "Loss Rate"
       ],
       "description": "Risk Category:",
       "index": 1,
       "layout": "IPY_MODEL_dcd2c16a4af049de9b4777c4a47e2ee6",
       "style": "IPY_MODEL_5e5742666de147a8896294808672205a"
      }
     },
     "67f6cd760639445985a18ca435e70d91": {
      "model_module": "@jupyter-widgets/base",
      "model_module_version": "1.1.0",
      "model_name": "LayoutModel",
      "state": {}
     },
     "687c96d23370432294516ad7b299fe01": {
      "model_module": "@jupyter-widgets/controls",
      "model_module_version": "1.4.0",
      "model_name": "RadioButtonsModel",
      "state": {
       "_options_labels": [
        "Facility Type",
        "Rating",
        "Lien Position",
        "Interest Rate",
        "Industry",
        "Guarantor",
        "Other",
        "Loss Rate"
       ],
       "description": "Risk Category:",
       "index": 3,
       "layout": "IPY_MODEL_286cdf9568ae4ab5892ea461eca80e45",
       "style": "IPY_MODEL_8351acf8cf764ffbb80e00ac61a13041"
      }
     },
     "6bc0f45cf31745bcba690b10828a5343": {
      "model_module": "@jupyter-widgets/controls",
      "model_module_version": "1.4.0",
      "model_name": "DescriptionStyleModel",
      "state": {
       "description_width": ""
      }
     },
     "6be63aa9b5dd4b4ca21d8dd0df2ca2fb": {
      "model_module": "@jupyter-widgets/base",
      "model_module_version": "1.1.0",
      "model_name": "LayoutModel",
      "state": {}
     },
     "7663fe29965e4d93aa984460cd7a58e0": {
      "model_module": "@jupyter-widgets/controls",
      "model_module_version": "1.4.0",
      "model_name": "DropdownModel",
      "state": {
       "_options_labels": [
        "Financial Sector",
        "Non-financial Sector"
       ],
       "description": "Sector:",
       "index": 1,
       "layout": "IPY_MODEL_55a682a0861b45e09583537ddc128aa9",
       "style": "IPY_MODEL_3b6f022b63174222b220f29d091b50f7"
      }
     },
     "77f231b993c24d5b9a138e5797a39125": {
      "model_module": "@jupyter-widgets/controls",
      "model_module_version": "1.4.0",
      "model_name": "VBoxModel",
      "state": {
       "children": [
        "IPY_MODEL_86688460e7ce4e60a77f5d5d8d44adb0",
        "IPY_MODEL_df1981de43f745a0a2e81d7794dcaec4",
        "IPY_MODEL_370eda92f6cf48489b026d3b8e4b6b02",
        "IPY_MODEL_673dfab26c6144c089610fc94a4dbe6d",
        "IPY_MODEL_df1fb567eb7a4b3d9f92d257e8f8e2b7"
       ],
       "layout": "IPY_MODEL_28eb941ece8a474a982f6a918148ae82"
      }
     },
     "7855af0194a94431bee63db28846fa33": {
      "model_module": "@jupyter-widgets/base",
      "model_module_version": "1.1.0",
      "model_name": "LayoutModel",
      "state": {}
     },
     "7b5f661f46de455689e3b0e8e6ceeb8f": {
      "model_module": "@jupyter-widgets/output",
      "model_module_version": "1.0.0",
      "model_name": "OutputModel",
      "state": {
       "layout": "IPY_MODEL_3570a2230e0c4a73ab96311da71442ea",
       "outputs": [
        {
         "data": {
          "application/vnd.plotly.v1+json": {
           "config": {
            "linkText": "Export to plot.ly",
            "plotlyServerURL": "https://plot.ly",
            "showLink": false
           },
           "data": [
            {
             "alignmentgroup": "True",
             "hovertemplate": "Risk Category=%{x}<br>Pct (%)=%{y}<extra></extra>",
             "legendgroup": "",
             "marker": {
              "color": "#636efa"
             },
             "name": " ",
             "offsetgroup": "",
             "orientation": "v",
             "showlegend": false,
             "textposition": "auto",
             "type": "bar",
             "uid": "4e30f2a8-979b-4bdc-a2f2-ee168f9433b8",
             "x": [
              "Agriculture",
              "Natural resources, utilities, and construction",
              "Manufacturing ",
              "Trade and transportation",
              "Technological and business services ",
              "Finance and insurance ",
              "Education, health care, and social assistance",
              "Entertainment and lodging",
              "Other services "
             ],
             "xaxis": "x",
             "y": [
              0.54,
              5.04,
              13.21,
              25.62,
              20.57,
              0,
              14.51,
              4.47,
              16.03
             ],
             "yaxis": "y"
            }
           ],
           "layout": {
            "barmode": "relative",
            "grid": {
             "xaxes": [
              "x"
             ],
             "xgap": 0.1,
             "xside": "bottom",
             "yaxes": [
              "y"
             ],
             "ygap": 0.1,
             "yside": "left"
            },
            "height": 600,
            "legend": {
             "tracegroupgap": 0
            },
            "template": {
             "data": {
              "bar": [
               {
                "marker": {
                 "line": {
                  "color": "#E5ECF6",
                  "width": 0.5
                 }
                },
                "type": "bar"
               }
              ],
              "barpolar": [
               {
                "marker": {
                 "line": {
                  "color": "#E5ECF6",
                  "width": 0.5
                 }
                },
                "type": "barpolar"
               }
              ],
              "carpet": [
               {
                "aaxis": {
                 "endlinecolor": "#2a3f5f",
                 "gridcolor": "white",
                 "linecolor": "white",
                 "minorgridcolor": "white",
                 "startlinecolor": "#2a3f5f"
                },
                "baxis": {
                 "endlinecolor": "#2a3f5f",
                 "gridcolor": "white",
                 "linecolor": "white",
                 "minorgridcolor": "white",
                 "startlinecolor": "#2a3f5f"
                },
                "type": "carpet"
               }
              ],
              "choropleth": [
               {
                "colorbar": {
                 "outlinewidth": 0,
                 "ticks": ""
                },
                "type": "choropleth"
               }
              ],
              "contour": [
               {
                "autocolorscale": true,
                "colorbar": {
                 "outlinewidth": 0,
                 "ticks": ""
                },
                "type": "contour"
               }
              ],
              "contourcarpet": [
               {
                "colorbar": {
                 "outlinewidth": 0,
                 "ticks": ""
                },
                "type": "contourcarpet"
               }
              ],
              "heatmap": [
               {
                "autocolorscale": true,
                "colorbar": {
                 "outlinewidth": 0,
                 "ticks": ""
                },
                "type": "heatmap"
               }
              ],
              "heatmapgl": [
               {
                "colorbar": {
                 "outlinewidth": 0,
                 "ticks": ""
                },
                "type": "heatmapgl"
               }
              ],
              "histogram": [
               {
                "marker": {
                 "colorbar": {
                  "outlinewidth": 0,
                  "ticks": ""
                 }
                },
                "type": "histogram"
               }
              ],
              "histogram2d": [
               {
                "autocolorscale": true,
                "colorbar": {
                 "outlinewidth": 0,
                 "ticks": ""
                },
                "type": "histogram2d"
               }
              ],
              "histogram2dcontour": [
               {
                "autocolorscale": true,
                "colorbar": {
                 "outlinewidth": 0,
                 "ticks": ""
                },
                "type": "histogram2dcontour"
               }
              ],
              "mesh3d": [
               {
                "colorbar": {
                 "outlinewidth": 0,
                 "ticks": ""
                },
                "type": "mesh3d"
               }
              ],
              "parcoords": [
               {
                "line": {
                 "colorbar": {
                  "outlinewidth": 0,
                  "ticks": ""
                 }
                },
                "type": "parcoords"
               }
              ],
              "scatter": [
               {
                "marker": {
                 "colorbar": {
                  "outlinewidth": 0,
                  "ticks": ""
                 }
                },
                "type": "scatter"
               }
              ],
              "scatter3d": [
               {
                "marker": {
                 "colorbar": {
                  "outlinewidth": 0,
                  "ticks": ""
                 }
                },
                "type": "scatter3d"
               }
              ],
              "scattercarpet": [
               {
                "marker": {
                 "colorbar": {
                  "outlinewidth": 0,
                  "ticks": ""
                 }
                },
                "type": "scattercarpet"
               }
              ],
              "scattergeo": [
               {
                "marker": {
                 "colorbar": {
                  "outlinewidth": 0,
                  "ticks": ""
                 }
                },
                "type": "scattergeo"
               }
              ],
              "scattergl": [
               {
                "marker": {
                 "colorbar": {
                  "outlinewidth": 0,
                  "ticks": ""
                 }
                },
                "type": "scattergl"
               }
              ],
              "scattermapbox": [
               {
                "marker": {
                 "colorbar": {
                  "outlinewidth": 0,
                  "ticks": ""
                 }
                },
                "type": "scattermapbox"
               }
              ],
              "scatterpolar": [
               {
                "marker": {
                 "colorbar": {
                  "outlinewidth": 0,
                  "ticks": ""
                 }
                },
                "type": "scatterpolar"
               }
              ],
              "scatterpolargl": [
               {
                "marker": {
                 "colorbar": {
                  "outlinewidth": 0,
                  "ticks": ""
                 }
                },
                "type": "scatterpolargl"
               }
              ],
              "scatterternary": [
               {
                "marker": {
                 "colorbar": {
                  "outlinewidth": 0,
                  "ticks": ""
                 }
                },
                "type": "scatterternary"
               }
              ],
              "surface": [
               {
                "colorbar": {
                 "outlinewidth": 0,
                 "ticks": ""
                },
                "type": "surface"
               }
              ],
              "table": [
               {
                "cells": {
                 "fill": {
                  "color": "#EBF0F8"
                 },
                 "line": {
                  "color": "white"
                 }
                },
                "header": {
                 "fill": {
                  "color": "#C8D4E3"
                 },
                 "line": {
                  "color": "white"
                 }
                },
                "type": "table"
               }
              ]
             },
             "layout": {
              "annotationdefaults": {
               "arrowcolor": "#506784",
               "arrowhead": 0,
               "arrowwidth": 1
              },
              "colorscale": {
               "diverging": [
                [
                 0,
                 "#8e0152"
                ],
                [
                 0.1,
                 "#c51b7d"
                ],
                [
                 0.2,
                 "#de77ae"
                ],
                [
                 0.3,
                 "#f1b6da"
                ],
                [
                 0.4,
                 "#fde0ef"
                ],
                [
                 0.5,
                 "#f7f7f7"
                ],
                [
                 0.6,
                 "#e6f5d0"
                ],
                [
                 0.7,
                 "#b8e186"
                ],
                [
                 0.8,
                 "#7fbc41"
                ],
                [
                 0.9,
                 "#4d9221"
                ],
                [
                 1,
                 "#276419"
                ]
               ],
               "sequential": [
                [
                 0,
                 "#0508b8"
                ],
                [
                 0.0893854748603352,
                 "#1910d8"
                ],
                [
                 0.1787709497206704,
                 "#3c19f0"
                ],
                [
                 0.2681564245810056,
                 "#6b1cfb"
                ],
                [
                 0.3575418994413408,
                 "#981cfd"
                ],
                [
                 0.44692737430167595,
                 "#bf1cfd"
                ],
                [
                 0.5363128491620112,
                 "#dd2bfd"
                ],
                [
                 0.6256983240223464,
                 "#f246fe"
                ],
                [
                 0.7150837988826816,
                 "#fc67fd"
                ],
                [
                 0.8044692737430168,
                 "#fe88fc"
                ],
                [
                 0.8938547486033519,
                 "#fea5fd"
                ],
                [
                 0.9832402234636871,
                 "#febefe"
                ],
                [
                 1,
                 "#fec3fe"
                ]
               ],
               "sequentialminus": [
                [
                 0,
                 "#0508b8"
                ],
                [
                 0.0893854748603352,
                 "#1910d8"
                ],
                [
                 0.1787709497206704,
                 "#3c19f0"
                ],
                [
                 0.2681564245810056,
                 "#6b1cfb"
                ],
                [
                 0.3575418994413408,
                 "#981cfd"
                ],
                [
                 0.44692737430167595,
                 "#bf1cfd"
                ],
                [
                 0.5363128491620112,
                 "#dd2bfd"
                ],
                [
                 0.6256983240223464,
                 "#f246fe"
                ],
                [
                 0.7150837988826816,
                 "#fc67fd"
                ],
                [
                 0.8044692737430168,
                 "#fe88fc"
                ],
                [
                 0.8938547486033519,
                 "#fea5fd"
                ],
                [
                 0.9832402234636871,
                 "#febefe"
                ],
                [
                 1,
                 "#fec3fe"
                ]
               ]
              },
              "colorway": [
               "#636efa",
               "#EF553B",
               "#00cc96",
               "#ab63fa",
               "#19d3f3",
               "#e763fa",
               "#FECB52",
               "#FFA15A",
               "#FF6692",
               "#B6E880"
              ],
              "font": {
               "color": "#2a3f5f"
              },
              "geo": {
               "bgcolor": "white",
               "lakecolor": "white",
               "landcolor": "#E5ECF6",
               "showlakes": true,
               "showland": true,
               "subunitcolor": "white"
              },
              "hovermode": "closest",
              "mapbox": {
               "style": "light"
              },
              "paper_bgcolor": "white",
              "plot_bgcolor": "#E5ECF6",
              "polar": {
               "angularaxis": {
                "gridcolor": "white",
                "linecolor": "white",
                "ticks": ""
               },
               "bgcolor": "#E5ECF6",
               "radialaxis": {
                "gridcolor": "white",
                "linecolor": "white",
                "ticks": ""
               }
              },
              "scene": {
               "xaxis": {
                "backgroundcolor": "#E5ECF6",
                "gridcolor": "white",
                "gridwidth": 2,
                "linecolor": "white",
                "showbackground": true,
                "ticks": "",
                "zerolinecolor": "white"
               },
               "yaxis": {
                "backgroundcolor": "#E5ECF6",
                "gridcolor": "white",
                "gridwidth": 2,
                "linecolor": "white",
                "showbackground": true,
                "ticks": "",
                "zerolinecolor": "white"
               },
               "zaxis": {
                "backgroundcolor": "#E5ECF6",
                "gridcolor": "white",
                "gridwidth": 2,
                "linecolor": "white",
                "showbackground": true,
                "ticks": "",
                "zerolinecolor": "white"
               }
              },
              "shapedefaults": {
               "fillcolor": "#506784",
               "line": {
                "width": 0
               },
               "opacity": 0.4
              },
              "ternary": {
               "aaxis": {
                "gridcolor": "white",
                "linecolor": "white",
                "ticks": ""
               },
               "baxis": {
                "gridcolor": "white",
                "linecolor": "white",
                "ticks": ""
               },
               "bgcolor": "#E5ECF6",
               "caxis": {
                "gridcolor": "white",
                "linecolor": "white",
                "ticks": ""
               }
              },
              "title": {
               "x": 0.05
              },
              "xaxis": {
               "automargin": true,
               "gridcolor": "white",
               "linecolor": "white",
               "ticks": "",
               "zerolinecolor": "white",
               "zerolinewidth": 2
              },
              "yaxis": {
               "automargin": true,
               "gridcolor": "white",
               "linecolor": "white",
               "ticks": "",
               "zerolinecolor": "white",
               "zerolinewidth": 2
              }
             }
            },
            "title": {
             "text": "Industry"
            },
            "xaxis": {
             "title": {
              "text": "Risk Category"
             }
            },
            "yaxis": {
             "title": {
              "text": "Pct (%)"
             }
            }
           }
          },
          "text/html": "<div id=\"d57c8239-4681-4678-ae9c-7b3356eea888\" style=\"height: 600px; width: 100%;\" class=\"plotly-graph-div\"></div><script type=\"text/javascript\">require([\"plotly\"], function(Plotly) { window.PLOTLYENV=window.PLOTLYENV || {};window.PLOTLYENV.BASE_URL=\"https://plot.ly\";\nif (document.getElementById(\"d57c8239-4681-4678-ae9c-7b3356eea888\")) {\n    Plotly.newPlot(\"d57c8239-4681-4678-ae9c-7b3356eea888\", [{\"alignmentgroup\": \"True\", \"hovertemplate\": \"Risk Category=%{x}<br>Pct (%)=%{y}<extra></extra>\", \"legendgroup\": \"\", \"marker\": {\"color\": \"#636efa\"}, \"name\": \" \", \"offsetgroup\": \"\", \"orientation\": \"v\", \"showlegend\": false, \"textposition\": \"auto\", \"x\": [\"Agriculture\", \"Natural resources, utilities, and construction\", \"Manufacturing \", \"Trade and transportation\", \"Technological and business services \", \"Finance and insurance \", \"Education, health care, and social assistance\", \"Entertainment and lodging\", \"Other services \"], \"xaxis\": \"x\", \"y\": [0.54, 5.04, 13.21, 25.62, 20.57, 0.0, 14.51, 4.47, 16.03], \"yaxis\": \"y\", \"type\": \"bar\", \"uid\": \"4e30f2a8-979b-4bdc-a2f2-ee168f9433b8\"}], {\"barmode\": \"relative\", \"height\": 600, \"legend\": {\"tracegroupgap\": 0}, \"template\": {\"data\": {\"barpolar\": [{\"marker\": {\"line\": {\"color\": \"#E5ECF6\", \"width\": 0.5}}, \"type\": \"barpolar\"}], \"bar\": [{\"marker\": {\"line\": {\"color\": \"#E5ECF6\", \"width\": 0.5}}, \"type\": \"bar\"}], \"carpet\": [{\"aaxis\": {\"endlinecolor\": \"#2a3f5f\", \"gridcolor\": \"white\", \"linecolor\": \"white\", \"minorgridcolor\": \"white\", \"startlinecolor\": \"#2a3f5f\"}, \"baxis\": {\"endlinecolor\": \"#2a3f5f\", \"gridcolor\": \"white\", \"linecolor\": \"white\", \"minorgridcolor\": \"white\", \"startlinecolor\": \"#2a3f5f\"}, \"type\": \"carpet\"}], \"choropleth\": [{\"colorbar\": {\"outlinewidth\": 0, \"ticks\": \"\"}, \"type\": \"choropleth\"}], \"contourcarpet\": [{\"colorbar\": {\"outlinewidth\": 0, \"ticks\": \"\"}, \"type\": \"contourcarpet\"}], \"contour\": [{\"autocolorscale\": true, \"colorbar\": {\"outlinewidth\": 0, \"ticks\": \"\"}, \"type\": \"contour\"}], \"heatmapgl\": [{\"colorbar\": {\"outlinewidth\": 0, \"ticks\": \"\"}, \"type\": \"heatmapgl\"}], \"heatmap\": [{\"autocolorscale\": true, \"colorbar\": {\"outlinewidth\": 0, \"ticks\": \"\"}, \"type\": \"heatmap\"}], \"histogram2dcontour\": [{\"autocolorscale\": true, \"colorbar\": {\"outlinewidth\": 0, \"ticks\": \"\"}, \"type\": \"histogram2dcontour\"}], \"histogram2d\": [{\"autocolorscale\": true, \"colorbar\": {\"outlinewidth\": 0, \"ticks\": \"\"}, \"type\": \"histogram2d\"}], \"histogram\": [{\"marker\": {\"colorbar\": {\"outlinewidth\": 0, \"ticks\": \"\"}}, \"type\": \"histogram\"}], \"mesh3d\": [{\"colorbar\": {\"outlinewidth\": 0, \"ticks\": \"\"}, \"type\": \"mesh3d\"}], \"parcoords\": [{\"line\": {\"colorbar\": {\"outlinewidth\": 0, \"ticks\": \"\"}}, \"type\": \"parcoords\"}], \"scatter3d\": [{\"marker\": {\"colorbar\": {\"outlinewidth\": 0, \"ticks\": \"\"}}, \"type\": \"scatter3d\"}], \"scattercarpet\": [{\"marker\": {\"colorbar\": {\"outlinewidth\": 0, \"ticks\": \"\"}}, \"type\": \"scattercarpet\"}], \"scattergeo\": [{\"marker\": {\"colorbar\": {\"outlinewidth\": 0, \"ticks\": \"\"}}, \"type\": \"scattergeo\"}], \"scattergl\": [{\"marker\": {\"colorbar\": {\"outlinewidth\": 0, \"ticks\": \"\"}}, \"type\": \"scattergl\"}], \"scattermapbox\": [{\"marker\": {\"colorbar\": {\"outlinewidth\": 0, \"ticks\": \"\"}}, \"type\": \"scattermapbox\"}], \"scatterpolargl\": [{\"marker\": {\"colorbar\": {\"outlinewidth\": 0, \"ticks\": \"\"}}, \"type\": \"scatterpolargl\"}], \"scatterpolar\": [{\"marker\": {\"colorbar\": {\"outlinewidth\": 0, \"ticks\": \"\"}}, \"type\": \"scatterpolar\"}], \"scatter\": [{\"marker\": {\"colorbar\": {\"outlinewidth\": 0, \"ticks\": \"\"}}, \"type\": \"scatter\"}], \"scatterternary\": [{\"marker\": {\"colorbar\": {\"outlinewidth\": 0, \"ticks\": \"\"}}, \"type\": \"scatterternary\"}], \"surface\": [{\"colorbar\": {\"outlinewidth\": 0, \"ticks\": \"\"}, \"type\": \"surface\"}], \"table\": [{\"cells\": {\"fill\": {\"color\": \"#EBF0F8\"}, \"line\": {\"color\": \"white\"}}, \"header\": {\"fill\": {\"color\": \"#C8D4E3\"}, \"line\": {\"color\": \"white\"}}, \"type\": \"table\"}]}, \"layout\": {\"annotationdefaults\": {\"arrowcolor\": \"#506784\", \"arrowhead\": 0, \"arrowwidth\": 1}, \"colorscale\": {\"diverging\": [[0, \"#8e0152\"], [0.1, \"#c51b7d\"], [0.2, \"#de77ae\"], [0.3, \"#f1b6da\"], [0.4, \"#fde0ef\"], [0.5, \"#f7f7f7\"], [0.6, \"#e6f5d0\"], [0.7, \"#b8e186\"], [0.8, \"#7fbc41\"], [0.9, \"#4d9221\"], [1, \"#276419\"]], \"sequential\": [[0.0, \"#0508b8\"], [0.0893854748603352, \"#1910d8\"], [0.1787709497206704, \"#3c19f0\"], [0.2681564245810056, \"#6b1cfb\"], [0.3575418994413408, \"#981cfd\"], [0.44692737430167595, \"#bf1cfd\"], [0.5363128491620112, \"#dd2bfd\"], [0.6256983240223464, \"#f246fe\"], [0.7150837988826816, \"#fc67fd\"], [0.8044692737430168, \"#fe88fc\"], [0.8938547486033519, \"#fea5fd\"], [0.9832402234636871, \"#febefe\"], [1.0, \"#fec3fe\"]], \"sequentialminus\": [[0.0, \"#0508b8\"], [0.0893854748603352, \"#1910d8\"], [0.1787709497206704, \"#3c19f0\"], [0.2681564245810056, \"#6b1cfb\"], [0.3575418994413408, \"#981cfd\"], [0.44692737430167595, \"#bf1cfd\"], [0.5363128491620112, \"#dd2bfd\"], [0.6256983240223464, \"#f246fe\"], [0.7150837988826816, \"#fc67fd\"], [0.8044692737430168, \"#fe88fc\"], [0.8938547486033519, \"#fea5fd\"], [0.9832402234636871, \"#febefe\"], [1.0, \"#fec3fe\"]]}, \"colorway\": [\"#636efa\", \"#EF553B\", \"#00cc96\", \"#ab63fa\", \"#19d3f3\", \"#e763fa\", \"#FECB52\", \"#FFA15A\", \"#FF6692\", \"#B6E880\"], \"font\": {\"color\": \"#2a3f5f\"}, \"geo\": {\"bgcolor\": \"white\", \"lakecolor\": \"white\", \"landcolor\": \"#E5ECF6\", \"showlakes\": true, \"showland\": true, \"subunitcolor\": \"white\"}, \"hovermode\": \"closest\", \"mapbox\": {\"style\": \"light\"}, \"paper_bgcolor\": \"white\", \"plot_bgcolor\": \"#E5ECF6\", \"polar\": {\"angularaxis\": {\"gridcolor\": \"white\", \"linecolor\": \"white\", \"ticks\": \"\"}, \"bgcolor\": \"#E5ECF6\", \"radialaxis\": {\"gridcolor\": \"white\", \"linecolor\": \"white\", \"ticks\": \"\"}}, \"scene\": {\"xaxis\": {\"backgroundcolor\": \"#E5ECF6\", \"gridcolor\": \"white\", \"gridwidth\": 2, \"linecolor\": \"white\", \"showbackground\": true, \"ticks\": \"\", \"zerolinecolor\": \"white\"}, \"yaxis\": {\"backgroundcolor\": \"#E5ECF6\", \"gridcolor\": \"white\", \"gridwidth\": 2, \"linecolor\": \"white\", \"showbackground\": true, \"ticks\": \"\", \"zerolinecolor\": \"white\"}, \"zaxis\": {\"backgroundcolor\": \"#E5ECF6\", \"gridcolor\": \"white\", \"gridwidth\": 2, \"linecolor\": \"white\", \"showbackground\": true, \"ticks\": \"\", \"zerolinecolor\": \"white\"}}, \"shapedefaults\": {\"fillcolor\": \"#506784\", \"line\": {\"width\": 0}, \"opacity\": 0.4}, \"ternary\": {\"aaxis\": {\"gridcolor\": \"white\", \"linecolor\": \"white\", \"ticks\": \"\"}, \"baxis\": {\"gridcolor\": \"white\", \"linecolor\": \"white\", \"ticks\": \"\"}, \"bgcolor\": \"#E5ECF6\", \"caxis\": {\"gridcolor\": \"white\", \"linecolor\": \"white\", \"ticks\": \"\"}}, \"title\": {\"x\": 0.05}, \"xaxis\": {\"automargin\": true, \"gridcolor\": \"white\", \"linecolor\": \"white\", \"ticks\": \"\", \"zerolinecolor\": \"white\", \"zerolinewidth\": 2}, \"yaxis\": {\"automargin\": true, \"gridcolor\": \"white\", \"linecolor\": \"white\", \"ticks\": \"\", \"zerolinecolor\": \"white\", \"zerolinewidth\": 2}}}, \"title\": {\"text\": \"Industry\"}, \"grid\": {\"xaxes\": [\"x\"], \"yaxes\": [\"y\"], \"xgap\": 0.1, \"ygap\": 0.1, \"xside\": \"bottom\", \"yside\": \"left\"}, \"xaxis\": {\"title\": {\"text\": \"Risk Category\"}}, \"yaxis\": {\"title\": {\"text\": \"Pct (%)\"}}}, {\"showLink\": false, \"linkText\": \"Export to plot.ly\", \"plotlyServerURL\": \"https://plot.ly\"}); \n}\n});</script><script type=\"text/javascript\">window.addEventListener(\"resize\", function(){if (document.getElementById(\"d57c8239-4681-4678-ae9c-7b3356eea888\")) {window._Plotly.Plots.resize(document.getElementById(\"d57c8239-4681-4678-ae9c-7b3356eea888\"));};})</script>",
          "text/vnd.plotly.v1+html": "<div id=\"d57c8239-4681-4678-ae9c-7b3356eea888\" style=\"height: 600px; width: 100%;\" class=\"plotly-graph-div\"></div><script type=\"text/javascript\">require([\"plotly\"], function(Plotly) { window.PLOTLYENV=window.PLOTLYENV || {};window.PLOTLYENV.BASE_URL=\"https://plot.ly\";\nif (document.getElementById(\"d57c8239-4681-4678-ae9c-7b3356eea888\")) {\n    Plotly.newPlot(\"d57c8239-4681-4678-ae9c-7b3356eea888\", [{\"alignmentgroup\": \"True\", \"hovertemplate\": \"Risk Category=%{x}<br>Pct (%)=%{y}<extra></extra>\", \"legendgroup\": \"\", \"marker\": {\"color\": \"#636efa\"}, \"name\": \" \", \"offsetgroup\": \"\", \"orientation\": \"v\", \"showlegend\": false, \"textposition\": \"auto\", \"x\": [\"Agriculture\", \"Natural resources, utilities, and construction\", \"Manufacturing \", \"Trade and transportation\", \"Technological and business services \", \"Finance and insurance \", \"Education, health care, and social assistance\", \"Entertainment and lodging\", \"Other services \"], \"xaxis\": \"x\", \"y\": [0.54, 5.04, 13.21, 25.62, 20.57, 0.0, 14.51, 4.47, 16.03], \"yaxis\": \"y\", \"type\": \"bar\", \"uid\": \"4e30f2a8-979b-4bdc-a2f2-ee168f9433b8\"}], {\"barmode\": \"relative\", \"height\": 600, \"legend\": {\"tracegroupgap\": 0}, \"template\": {\"data\": {\"barpolar\": [{\"marker\": {\"line\": {\"color\": \"#E5ECF6\", \"width\": 0.5}}, \"type\": \"barpolar\"}], \"bar\": [{\"marker\": {\"line\": {\"color\": \"#E5ECF6\", \"width\": 0.5}}, \"type\": \"bar\"}], \"carpet\": [{\"aaxis\": {\"endlinecolor\": \"#2a3f5f\", \"gridcolor\": \"white\", \"linecolor\": \"white\", \"minorgridcolor\": \"white\", \"startlinecolor\": \"#2a3f5f\"}, \"baxis\": {\"endlinecolor\": \"#2a3f5f\", \"gridcolor\": \"white\", \"linecolor\": \"white\", \"minorgridcolor\": \"white\", \"startlinecolor\": \"#2a3f5f\"}, \"type\": \"carpet\"}], \"choropleth\": [{\"colorbar\": {\"outlinewidth\": 0, \"ticks\": \"\"}, \"type\": \"choropleth\"}], \"contourcarpet\": [{\"colorbar\": {\"outlinewidth\": 0, \"ticks\": \"\"}, \"type\": \"contourcarpet\"}], \"contour\": [{\"autocolorscale\": true, \"colorbar\": {\"outlinewidth\": 0, \"ticks\": \"\"}, \"type\": \"contour\"}], \"heatmapgl\": [{\"colorbar\": {\"outlinewidth\": 0, \"ticks\": \"\"}, \"type\": \"heatmapgl\"}], \"heatmap\": [{\"autocolorscale\": true, \"colorbar\": {\"outlinewidth\": 0, \"ticks\": \"\"}, \"type\": \"heatmap\"}], \"histogram2dcontour\": [{\"autocolorscale\": true, \"colorbar\": {\"outlinewidth\": 0, \"ticks\": \"\"}, \"type\": \"histogram2dcontour\"}], \"histogram2d\": [{\"autocolorscale\": true, \"colorbar\": {\"outlinewidth\": 0, \"ticks\": \"\"}, \"type\": \"histogram2d\"}], \"histogram\": [{\"marker\": {\"colorbar\": {\"outlinewidth\": 0, \"ticks\": \"\"}}, \"type\": \"histogram\"}], \"mesh3d\": [{\"colorbar\": {\"outlinewidth\": 0, \"ticks\": \"\"}, \"type\": \"mesh3d\"}], \"parcoords\": [{\"line\": {\"colorbar\": {\"outlinewidth\": 0, \"ticks\": \"\"}}, \"type\": \"parcoords\"}], \"scatter3d\": [{\"marker\": {\"colorbar\": {\"outlinewidth\": 0, \"ticks\": \"\"}}, \"type\": \"scatter3d\"}], \"scattercarpet\": [{\"marker\": {\"colorbar\": {\"outlinewidth\": 0, \"ticks\": \"\"}}, \"type\": \"scattercarpet\"}], \"scattergeo\": [{\"marker\": {\"colorbar\": {\"outlinewidth\": 0, \"ticks\": \"\"}}, \"type\": \"scattergeo\"}], \"scattergl\": [{\"marker\": {\"colorbar\": {\"outlinewidth\": 0, \"ticks\": \"\"}}, \"type\": \"scattergl\"}], \"scattermapbox\": [{\"marker\": {\"colorbar\": {\"outlinewidth\": 0, \"ticks\": \"\"}}, \"type\": \"scattermapbox\"}], \"scatterpolargl\": [{\"marker\": {\"colorbar\": {\"outlinewidth\": 0, \"ticks\": \"\"}}, \"type\": \"scatterpolargl\"}], \"scatterpolar\": [{\"marker\": {\"colorbar\": {\"outlinewidth\": 0, \"ticks\": \"\"}}, \"type\": \"scatterpolar\"}], \"scatter\": [{\"marker\": {\"colorbar\": {\"outlinewidth\": 0, \"ticks\": \"\"}}, \"type\": \"scatter\"}], \"scatterternary\": [{\"marker\": {\"colorbar\": {\"outlinewidth\": 0, \"ticks\": \"\"}}, \"type\": \"scatterternary\"}], \"surface\": [{\"colorbar\": {\"outlinewidth\": 0, \"ticks\": \"\"}, \"type\": \"surface\"}], \"table\": [{\"cells\": {\"fill\": {\"color\": \"#EBF0F8\"}, \"line\": {\"color\": \"white\"}}, \"header\": {\"fill\": {\"color\": \"#C8D4E3\"}, \"line\": {\"color\": \"white\"}}, \"type\": \"table\"}]}, \"layout\": {\"annotationdefaults\": {\"arrowcolor\": \"#506784\", \"arrowhead\": 0, \"arrowwidth\": 1}, \"colorscale\": {\"diverging\": [[0, \"#8e0152\"], [0.1, \"#c51b7d\"], [0.2, \"#de77ae\"], [0.3, \"#f1b6da\"], [0.4, \"#fde0ef\"], [0.5, \"#f7f7f7\"], [0.6, \"#e6f5d0\"], [0.7, \"#b8e186\"], [0.8, \"#7fbc41\"], [0.9, \"#4d9221\"], [1, \"#276419\"]], \"sequential\": [[0.0, \"#0508b8\"], [0.0893854748603352, \"#1910d8\"], [0.1787709497206704, \"#3c19f0\"], [0.2681564245810056, \"#6b1cfb\"], [0.3575418994413408, \"#981cfd\"], [0.44692737430167595, \"#bf1cfd\"], [0.5363128491620112, \"#dd2bfd\"], [0.6256983240223464, \"#f246fe\"], [0.7150837988826816, \"#fc67fd\"], [0.8044692737430168, \"#fe88fc\"], [0.8938547486033519, \"#fea5fd\"], [0.9832402234636871, \"#febefe\"], [1.0, \"#fec3fe\"]], \"sequentialminus\": [[0.0, \"#0508b8\"], [0.0893854748603352, \"#1910d8\"], [0.1787709497206704, \"#3c19f0\"], [0.2681564245810056, \"#6b1cfb\"], [0.3575418994413408, \"#981cfd\"], [0.44692737430167595, \"#bf1cfd\"], [0.5363128491620112, \"#dd2bfd\"], [0.6256983240223464, \"#f246fe\"], [0.7150837988826816, \"#fc67fd\"], [0.8044692737430168, \"#fe88fc\"], [0.8938547486033519, \"#fea5fd\"], [0.9832402234636871, \"#febefe\"], [1.0, \"#fec3fe\"]]}, \"colorway\": [\"#636efa\", \"#EF553B\", \"#00cc96\", \"#ab63fa\", \"#19d3f3\", \"#e763fa\", \"#FECB52\", \"#FFA15A\", \"#FF6692\", \"#B6E880\"], \"font\": {\"color\": \"#2a3f5f\"}, \"geo\": {\"bgcolor\": \"white\", \"lakecolor\": \"white\", \"landcolor\": \"#E5ECF6\", \"showlakes\": true, \"showland\": true, \"subunitcolor\": \"white\"}, \"hovermode\": \"closest\", \"mapbox\": {\"style\": \"light\"}, \"paper_bgcolor\": \"white\", \"plot_bgcolor\": \"#E5ECF6\", \"polar\": {\"angularaxis\": {\"gridcolor\": \"white\", \"linecolor\": \"white\", \"ticks\": \"\"}, \"bgcolor\": \"#E5ECF6\", \"radialaxis\": {\"gridcolor\": \"white\", \"linecolor\": \"white\", \"ticks\": \"\"}}, \"scene\": {\"xaxis\": {\"backgroundcolor\": \"#E5ECF6\", \"gridcolor\": \"white\", \"gridwidth\": 2, \"linecolor\": \"white\", \"showbackground\": true, \"ticks\": \"\", \"zerolinecolor\": \"white\"}, \"yaxis\": {\"backgroundcolor\": \"#E5ECF6\", \"gridcolor\": \"white\", \"gridwidth\": 2, \"linecolor\": \"white\", \"showbackground\": true, \"ticks\": \"\", \"zerolinecolor\": \"white\"}, \"zaxis\": {\"backgroundcolor\": \"#E5ECF6\", \"gridcolor\": \"white\", \"gridwidth\": 2, \"linecolor\": \"white\", \"showbackground\": true, \"ticks\": \"\", \"zerolinecolor\": \"white\"}}, \"shapedefaults\": {\"fillcolor\": \"#506784\", \"line\": {\"width\": 0}, \"opacity\": 0.4}, \"ternary\": {\"aaxis\": {\"gridcolor\": \"white\", \"linecolor\": \"white\", \"ticks\": \"\"}, \"baxis\": {\"gridcolor\": \"white\", \"linecolor\": \"white\", \"ticks\": \"\"}, \"bgcolor\": \"#E5ECF6\", \"caxis\": {\"gridcolor\": \"white\", \"linecolor\": \"white\", \"ticks\": \"\"}}, \"title\": {\"x\": 0.05}, \"xaxis\": {\"automargin\": true, \"gridcolor\": \"white\", \"linecolor\": \"white\", \"ticks\": \"\", \"zerolinecolor\": \"white\", \"zerolinewidth\": 2}, \"yaxis\": {\"automargin\": true, \"gridcolor\": \"white\", \"linecolor\": \"white\", \"ticks\": \"\", \"zerolinecolor\": \"white\", \"zerolinewidth\": 2}}}, \"title\": {\"text\": \"Industry\"}, \"grid\": {\"xaxes\": [\"x\"], \"yaxes\": [\"y\"], \"xgap\": 0.1, \"ygap\": 0.1, \"xside\": \"bottom\", \"yside\": \"left\"}, \"xaxis\": {\"title\": {\"text\": \"Risk Category\"}}, \"yaxis\": {\"title\": {\"text\": \"Pct (%)\"}}}, {\"showLink\": false, \"linkText\": \"Export to plot.ly\", \"plotlyServerURL\": \"https://plot.ly\"}); \n}\n});</script><script type=\"text/javascript\">window.addEventListener(\"resize\", function(){if (document.getElementById(\"d57c8239-4681-4678-ae9c-7b3356eea888\")) {window._Plotly.Plots.resize(document.getElementById(\"d57c8239-4681-4678-ae9c-7b3356eea888\"));};})</script>"
         },
         "metadata": {},
         "output_type": "display_data"
        },
        {
         "data": {
          "text/html": "<style  type=\"text/css\" >\n    #T_3a9319de_5c0c_11e9_b770_f48c509c873arow0_col2 {\n            background-color:  #e1fde1;\n            : ;\n        }    #T_3a9319de_5c0c_11e9_b770_f48c509c873arow1_col2 {\n            background-color:  #b8e6b8;\n            : ;\n        }    #T_3a9319de_5c0c_11e9_b770_f48c509c873arow2_col2 {\n            background-color:  #70be70;\n            : ;\n        }    #T_3a9319de_5c0c_11e9_b770_f48c509c873arow3_col2 {\n            background-color:  #008000;\n            background-color:  yellow;\n        }    #T_3a9319de_5c0c_11e9_b770_f48c509c873arow4_col2 {\n            background-color:  #2d992d;\n            : ;\n        }    #T_3a9319de_5c0c_11e9_b770_f48c509c873arow5_col2 {\n            background-color:  #e5ffe5;\n            : ;\n        }    #T_3a9319de_5c0c_11e9_b770_f48c509c873arow6_col2 {\n            background-color:  #64b764;\n            : ;\n        }    #T_3a9319de_5c0c_11e9_b770_f48c509c873arow7_col2 {\n            background-color:  #bee9be;\n            : ;\n        }    #T_3a9319de_5c0c_11e9_b770_f48c509c873arow8_col2 {\n            background-color:  #56af56;\n            : ;\n        }</style>  \n<table id=\"T_3a9319de_5c0c_11e9_b770_f48c509c873a\" > \n<thead>    <tr> \n        <th class=\"blank level0\" ></th> \n        <th class=\"col_heading level0 col0\" >risk_catI</th> \n        <th class=\"col_heading level0 col1\" >risk_catII</th> \n        <th class=\"col_heading level0 col2\" >IG_NFIN_S</th> \n    </tr></thead> \n<tbody>    <tr> \n        <th id=\"T_3a9319de_5c0c_11e9_b770_f48c509c873alevel0_row0\" class=\"row_heading level0 row0\" >17</th> \n        <td id=\"T_3a9319de_5c0c_11e9_b770_f48c509c873arow0_col0\" class=\"data row0 col0\" >Industry</td> \n        <td id=\"T_3a9319de_5c0c_11e9_b770_f48c509c873arow0_col1\" class=\"data row0 col1\" >Agriculture</td> \n        <td id=\"T_3a9319de_5c0c_11e9_b770_f48c509c873arow0_col2\" class=\"data row0 col2\" >0.54</td> \n    </tr>    <tr> \n        <th id=\"T_3a9319de_5c0c_11e9_b770_f48c509c873alevel0_row1\" class=\"row_heading level0 row1\" >18</th> \n        <td id=\"T_3a9319de_5c0c_11e9_b770_f48c509c873arow1_col0\" class=\"data row1 col0\" >Industry</td> \n        <td id=\"T_3a9319de_5c0c_11e9_b770_f48c509c873arow1_col1\" class=\"data row1 col1\" >Natural resources, utilities, and construction</td> \n        <td id=\"T_3a9319de_5c0c_11e9_b770_f48c509c873arow1_col2\" class=\"data row1 col2\" >5.04</td> \n    </tr>    <tr> \n        <th id=\"T_3a9319de_5c0c_11e9_b770_f48c509c873alevel0_row2\" class=\"row_heading level0 row2\" >19</th> \n        <td id=\"T_3a9319de_5c0c_11e9_b770_f48c509c873arow2_col0\" class=\"data row2 col0\" >Industry</td> \n        <td id=\"T_3a9319de_5c0c_11e9_b770_f48c509c873arow2_col1\" class=\"data row2 col1\" >Manufacturing </td> \n        <td id=\"T_3a9319de_5c0c_11e9_b770_f48c509c873arow2_col2\" class=\"data row2 col2\" >13.21</td> \n    </tr>    <tr> \n        <th id=\"T_3a9319de_5c0c_11e9_b770_f48c509c873alevel0_row3\" class=\"row_heading level0 row3\" >20</th> \n        <td id=\"T_3a9319de_5c0c_11e9_b770_f48c509c873arow3_col0\" class=\"data row3 col0\" >Industry</td> \n        <td id=\"T_3a9319de_5c0c_11e9_b770_f48c509c873arow3_col1\" class=\"data row3 col1\" >Trade and transportation</td> \n        <td id=\"T_3a9319de_5c0c_11e9_b770_f48c509c873arow3_col2\" class=\"data row3 col2\" >25.62</td> \n    </tr>    <tr> \n        <th id=\"T_3a9319de_5c0c_11e9_b770_f48c509c873alevel0_row4\" class=\"row_heading level0 row4\" >21</th> \n        <td id=\"T_3a9319de_5c0c_11e9_b770_f48c509c873arow4_col0\" class=\"data row4 col0\" >Industry</td> \n        <td id=\"T_3a9319de_5c0c_11e9_b770_f48c509c873arow4_col1\" class=\"data row4 col1\" >Technological and business services </td> \n        <td id=\"T_3a9319de_5c0c_11e9_b770_f48c509c873arow4_col2\" class=\"data row4 col2\" >20.57</td> \n    </tr>    <tr> \n        <th id=\"T_3a9319de_5c0c_11e9_b770_f48c509c873alevel0_row5\" class=\"row_heading level0 row5\" >22</th> \n        <td id=\"T_3a9319de_5c0c_11e9_b770_f48c509c873arow5_col0\" class=\"data row5 col0\" >Industry</td> \n        <td id=\"T_3a9319de_5c0c_11e9_b770_f48c509c873arow5_col1\" class=\"data row5 col1\" >Finance and insurance </td> \n        <td id=\"T_3a9319de_5c0c_11e9_b770_f48c509c873arow5_col2\" class=\"data row5 col2\" >0</td> \n    </tr>    <tr> \n        <th id=\"T_3a9319de_5c0c_11e9_b770_f48c509c873alevel0_row6\" class=\"row_heading level0 row6\" >23</th> \n        <td id=\"T_3a9319de_5c0c_11e9_b770_f48c509c873arow6_col0\" class=\"data row6 col0\" >Industry</td> \n        <td id=\"T_3a9319de_5c0c_11e9_b770_f48c509c873arow6_col1\" class=\"data row6 col1\" >Education, health care, and social assistance</td> \n        <td id=\"T_3a9319de_5c0c_11e9_b770_f48c509c873arow6_col2\" class=\"data row6 col2\" >14.51</td> \n    </tr>    <tr> \n        <th id=\"T_3a9319de_5c0c_11e9_b770_f48c509c873alevel0_row7\" class=\"row_heading level0 row7\" >24</th> \n        <td id=\"T_3a9319de_5c0c_11e9_b770_f48c509c873arow7_col0\" class=\"data row7 col0\" >Industry</td> \n        <td id=\"T_3a9319de_5c0c_11e9_b770_f48c509c873arow7_col1\" class=\"data row7 col1\" >Entertainment and lodging</td> \n        <td id=\"T_3a9319de_5c0c_11e9_b770_f48c509c873arow7_col2\" class=\"data row7 col2\" >4.47</td> \n    </tr>    <tr> \n        <th id=\"T_3a9319de_5c0c_11e9_b770_f48c509c873alevel0_row8\" class=\"row_heading level0 row8\" >25</th> \n        <td id=\"T_3a9319de_5c0c_11e9_b770_f48c509c873arow8_col0\" class=\"data row8 col0\" >Industry</td> \n        <td id=\"T_3a9319de_5c0c_11e9_b770_f48c509c873arow8_col1\" class=\"data row8 col1\" >Other services </td> \n        <td id=\"T_3a9319de_5c0c_11e9_b770_f48c509c873arow8_col2\" class=\"data row8 col2\" >16.03</td> \n    </tr></tbody> \n</table> ",
          "text/plain": "<pandas.io.formats.style.Styler at 0x1f0cc4bb908>"
         },
         "metadata": {},
         "output_type": "display_data"
        }
       ]
      }
     },
     "7bd98befbdc64f46a4a9c496c768f0f4": {
      "model_module": "@jupyter-widgets/base",
      "model_module_version": "1.1.0",
      "model_name": "LayoutModel",
      "state": {}
     },
     "7c125239446d43e495ece94dca3bfa85": {
      "model_module": "@jupyter-widgets/base",
      "model_module_version": "1.1.0",
      "model_name": "LayoutModel",
      "state": {}
     },
     "7c6378ad6d8a4c1ba3cf7c022dfa127d": {
      "model_module": "@jupyter-widgets/controls",
      "model_module_version": "1.4.0",
      "model_name": "TabModel",
      "state": {
       "_titles": {
        "0": "Interactive Plots"
       },
       "children": [
        "IPY_MODEL_77f231b993c24d5b9a138e5797a39125"
       ],
       "layout": "IPY_MODEL_1876a2d33dd54d7095811f62c08dba04"
      }
     },
     "7ca6cf2b486f4f18b26456ed924b87fa": {
      "model_module": "@jupyter-widgets/controls",
      "model_module_version": "1.4.0",
      "model_name": "VBoxModel",
      "state": {
       "_dom_classes": [
        "widget-interact"
       ],
       "children": [
        "IPY_MODEL_1149f41250634810bca8f3b96f9e087b",
        "IPY_MODEL_fc193502d49c4e2aaffb0dbf579927c8",
        "IPY_MODEL_28988e73fb0f43cfaa7b4c8137db4462",
        "IPY_MODEL_1f4a5e2a76bb499dbb8920515dc1f777",
        "IPY_MODEL_a6e7568fae2440cf9cade4639fcb50da"
       ],
       "layout": "IPY_MODEL_7855af0194a94431bee63db28846fa33"
      }
     },
     "7d7cf1e6f9dc41d3a6dddc6542226770": {
      "model_module": "@jupyter-widgets/base",
      "model_module_version": "1.1.0",
      "model_name": "LayoutModel",
      "state": {}
     },
     "7f2345d7949f45d28a613a3e18ab09a2": {
      "model_module": "@jupyter-widgets/controls",
      "model_module_version": "1.4.0",
      "model_name": "DescriptionStyleModel",
      "state": {
       "description_width": ""
      }
     },
     "834e62416c514baf9b637bd2327279ad": {
      "model_module": "@jupyter-widgets/base",
      "model_module_version": "1.1.0",
      "model_name": "LayoutModel",
      "state": {}
     },
     "8351acf8cf764ffbb80e00ac61a13041": {
      "model_module": "@jupyter-widgets/controls",
      "model_module_version": "1.4.0",
      "model_name": "DescriptionStyleModel",
      "state": {
       "description_width": ""
      }
     },
     "86688460e7ce4e60a77f5d5d8d44adb0": {
      "model_module": "@jupyter-widgets/controls",
      "model_module_version": "1.4.0",
      "model_name": "DropdownModel",
      "state": {
       "_options_labels": [
        "Investment Grade",
        "Non-investment Grade"
       ],
       "description": "Rating:",
       "index": 1,
       "layout": "IPY_MODEL_19e7dffe00824666a45b5896962354c4",
       "style": "IPY_MODEL_58cefa38407e4cb4a1433a01f47d4388"
      }
     },
     "86c03bca083c44cdbf52a080a24eb221": {
      "model_module": "@jupyter-widgets/base",
      "model_module_version": "1.1.0",
      "model_name": "LayoutModel",
      "state": {}
     },
     "8bf5d0b0e486428f9bbb77cd89438ec5": {
      "model_module": "@jupyter-widgets/base",
      "model_module_version": "1.1.0",
      "model_name": "LayoutModel",
      "state": {}
     },
     "8c1bc2cb576b4bf0ad49405a3c0d91a0": {
      "model_module": "@jupyter-widgets/controls",
      "model_module_version": "1.4.0",
      "model_name": "DescriptionStyleModel",
      "state": {
       "description_width": ""
      }
     },
     "8d133220af1c43ea831afdaf9d203975": {
      "model_module": "@jupyter-widgets/base",
      "model_module_version": "1.1.0",
      "model_name": "LayoutModel",
      "state": {}
     },
     "95344735e1594e5e9424e62044f40cdc": {
      "model_module": "@jupyter-widgets/base",
      "model_module_version": "1.1.0",
      "model_name": "LayoutModel",
      "state": {}
     },
     "95ba58b514884042bfe0df061d62d906": {
      "model_module": "@jupyter-widgets/base",
      "model_module_version": "1.1.0",
      "model_name": "LayoutModel",
      "state": {}
     },
     "9849ff9db2ec41b38ab2243680d9b35b": {
      "model_module": "@jupyter-widgets/base",
      "model_module_version": "1.1.0",
      "model_name": "LayoutModel",
      "state": {}
     },
     "a563cf5c63cd4a04a23a7d43ac5b19ef": {
      "model_module": "@jupyter-widgets/controls",
      "model_module_version": "1.4.0",
      "model_name": "DropdownModel",
      "state": {
       "_options_labels": [
        "Secured",
        "Unsecured"
       ],
       "description": "Collateral:",
       "index": 0,
       "layout": "IPY_MODEL_477b469803d740d0828f94e5d276dc51",
       "style": "IPY_MODEL_ad9e4a625a584f03b0ab121f3256a706"
      }
     },
     "a57ca29829fe43ec9e7306a5776446e0": {
      "model_module": "@jupyter-widgets/base",
      "model_module_version": "1.1.0",
      "model_name": "LayoutModel",
      "state": {}
     },
     "a6e7568fae2440cf9cade4639fcb50da": {
      "model_module": "@jupyter-widgets/output",
      "model_module_version": "1.0.0",
      "model_name": "OutputModel",
      "state": {
       "layout": "IPY_MODEL_c66c8f9ea94d40fc87eb54ad3343d59c",
       "outputs": [
        {
         "data": {
          "application/vnd.plotly.v1+json": {
           "config": {
            "linkText": "Export to plot.ly",
            "plotlyServerURL": "https://plot.ly",
            "showLink": false
           },
           "data": [
            {
             "alignmentgroup": "True",
             "hovertemplate": "Risk Category=%{x}<br>Pct (%)=%{y}<extra></extra>",
             "legendgroup": "",
             "marker": {
              "color": "#636efa"
             },
             "name": " ",
             "offsetgroup": "",
             "orientation": "v",
             "showlegend": false,
             "textposition": "auto",
             "type": "bar",
             "uid": "d47efa0b-440b-44d8-9cc5-b22f825c2d85",
             "x": [
              "Revolving",
              "Term Loan ",
              "Other"
             ],
             "xaxis": "x",
             "y": [
              36.23,
              42.87,
              20.9
             ],
             "yaxis": "y"
            }
           ],
           "layout": {
            "barmode": "relative",
            "grid": {
             "xaxes": [
              "x"
             ],
             "xgap": 0.1,
             "xside": "bottom",
             "yaxes": [
              "y"
             ],
             "ygap": 0.1,
             "yside": "left"
            },
            "height": 600,
            "legend": {
             "tracegroupgap": 0
            },
            "template": {
             "data": {
              "bar": [
               {
                "marker": {
                 "line": {
                  "color": "#E5ECF6",
                  "width": 0.5
                 }
                },
                "type": "bar"
               }
              ],
              "barpolar": [
               {
                "marker": {
                 "line": {
                  "color": "#E5ECF6",
                  "width": 0.5
                 }
                },
                "type": "barpolar"
               }
              ],
              "carpet": [
               {
                "aaxis": {
                 "endlinecolor": "#2a3f5f",
                 "gridcolor": "white",
                 "linecolor": "white",
                 "minorgridcolor": "white",
                 "startlinecolor": "#2a3f5f"
                },
                "baxis": {
                 "endlinecolor": "#2a3f5f",
                 "gridcolor": "white",
                 "linecolor": "white",
                 "minorgridcolor": "white",
                 "startlinecolor": "#2a3f5f"
                },
                "type": "carpet"
               }
              ],
              "choropleth": [
               {
                "colorbar": {
                 "outlinewidth": 0,
                 "ticks": ""
                },
                "type": "choropleth"
               }
              ],
              "contour": [
               {
                "autocolorscale": true,
                "colorbar": {
                 "outlinewidth": 0,
                 "ticks": ""
                },
                "type": "contour"
               }
              ],
              "contourcarpet": [
               {
                "colorbar": {
                 "outlinewidth": 0,
                 "ticks": ""
                },
                "type": "contourcarpet"
               }
              ],
              "heatmap": [
               {
                "autocolorscale": true,
                "colorbar": {
                 "outlinewidth": 0,
                 "ticks": ""
                },
                "type": "heatmap"
               }
              ],
              "heatmapgl": [
               {
                "colorbar": {
                 "outlinewidth": 0,
                 "ticks": ""
                },
                "type": "heatmapgl"
               }
              ],
              "histogram": [
               {
                "marker": {
                 "colorbar": {
                  "outlinewidth": 0,
                  "ticks": ""
                 }
                },
                "type": "histogram"
               }
              ],
              "histogram2d": [
               {
                "autocolorscale": true,
                "colorbar": {
                 "outlinewidth": 0,
                 "ticks": ""
                },
                "type": "histogram2d"
               }
              ],
              "histogram2dcontour": [
               {
                "autocolorscale": true,
                "colorbar": {
                 "outlinewidth": 0,
                 "ticks": ""
                },
                "type": "histogram2dcontour"
               }
              ],
              "mesh3d": [
               {
                "colorbar": {
                 "outlinewidth": 0,
                 "ticks": ""
                },
                "type": "mesh3d"
               }
              ],
              "parcoords": [
               {
                "line": {
                 "colorbar": {
                  "outlinewidth": 0,
                  "ticks": ""
                 }
                },
                "type": "parcoords"
               }
              ],
              "scatter": [
               {
                "marker": {
                 "colorbar": {
                  "outlinewidth": 0,
                  "ticks": ""
                 }
                },
                "type": "scatter"
               }
              ],
              "scatter3d": [
               {
                "marker": {
                 "colorbar": {
                  "outlinewidth": 0,
                  "ticks": ""
                 }
                },
                "type": "scatter3d"
               }
              ],
              "scattercarpet": [
               {
                "marker": {
                 "colorbar": {
                  "outlinewidth": 0,
                  "ticks": ""
                 }
                },
                "type": "scattercarpet"
               }
              ],
              "scattergeo": [
               {
                "marker": {
                 "colorbar": {
                  "outlinewidth": 0,
                  "ticks": ""
                 }
                },
                "type": "scattergeo"
               }
              ],
              "scattergl": [
               {
                "marker": {
                 "colorbar": {
                  "outlinewidth": 0,
                  "ticks": ""
                 }
                },
                "type": "scattergl"
               }
              ],
              "scattermapbox": [
               {
                "marker": {
                 "colorbar": {
                  "outlinewidth": 0,
                  "ticks": ""
                 }
                },
                "type": "scattermapbox"
               }
              ],
              "scatterpolar": [
               {
                "marker": {
                 "colorbar": {
                  "outlinewidth": 0,
                  "ticks": ""
                 }
                },
                "type": "scatterpolar"
               }
              ],
              "scatterpolargl": [
               {
                "marker": {
                 "colorbar": {
                  "outlinewidth": 0,
                  "ticks": ""
                 }
                },
                "type": "scatterpolargl"
               }
              ],
              "scatterternary": [
               {
                "marker": {
                 "colorbar": {
                  "outlinewidth": 0,
                  "ticks": ""
                 }
                },
                "type": "scatterternary"
               }
              ],
              "surface": [
               {
                "colorbar": {
                 "outlinewidth": 0,
                 "ticks": ""
                },
                "type": "surface"
               }
              ],
              "table": [
               {
                "cells": {
                 "fill": {
                  "color": "#EBF0F8"
                 },
                 "line": {
                  "color": "white"
                 }
                },
                "header": {
                 "fill": {
                  "color": "#C8D4E3"
                 },
                 "line": {
                  "color": "white"
                 }
                },
                "type": "table"
               }
              ]
             },
             "layout": {
              "annotationdefaults": {
               "arrowcolor": "#506784",
               "arrowhead": 0,
               "arrowwidth": 1
              },
              "colorscale": {
               "diverging": [
                [
                 0,
                 "#8e0152"
                ],
                [
                 0.1,
                 "#c51b7d"
                ],
                [
                 0.2,
                 "#de77ae"
                ],
                [
                 0.3,
                 "#f1b6da"
                ],
                [
                 0.4,
                 "#fde0ef"
                ],
                [
                 0.5,
                 "#f7f7f7"
                ],
                [
                 0.6,
                 "#e6f5d0"
                ],
                [
                 0.7,
                 "#b8e186"
                ],
                [
                 0.8,
                 "#7fbc41"
                ],
                [
                 0.9,
                 "#4d9221"
                ],
                [
                 1,
                 "#276419"
                ]
               ],
               "sequential": [
                [
                 0,
                 "#0508b8"
                ],
                [
                 0.0893854748603352,
                 "#1910d8"
                ],
                [
                 0.1787709497206704,
                 "#3c19f0"
                ],
                [
                 0.2681564245810056,
                 "#6b1cfb"
                ],
                [
                 0.3575418994413408,
                 "#981cfd"
                ],
                [
                 0.44692737430167595,
                 "#bf1cfd"
                ],
                [
                 0.5363128491620112,
                 "#dd2bfd"
                ],
                [
                 0.6256983240223464,
                 "#f246fe"
                ],
                [
                 0.7150837988826816,
                 "#fc67fd"
                ],
                [
                 0.8044692737430168,
                 "#fe88fc"
                ],
                [
                 0.8938547486033519,
                 "#fea5fd"
                ],
                [
                 0.9832402234636871,
                 "#febefe"
                ],
                [
                 1,
                 "#fec3fe"
                ]
               ],
               "sequentialminus": [
                [
                 0,
                 "#0508b8"
                ],
                [
                 0.0893854748603352,
                 "#1910d8"
                ],
                [
                 0.1787709497206704,
                 "#3c19f0"
                ],
                [
                 0.2681564245810056,
                 "#6b1cfb"
                ],
                [
                 0.3575418994413408,
                 "#981cfd"
                ],
                [
                 0.44692737430167595,
                 "#bf1cfd"
                ],
                [
                 0.5363128491620112,
                 "#dd2bfd"
                ],
                [
                 0.6256983240223464,
                 "#f246fe"
                ],
                [
                 0.7150837988826816,
                 "#fc67fd"
                ],
                [
                 0.8044692737430168,
                 "#fe88fc"
                ],
                [
                 0.8938547486033519,
                 "#fea5fd"
                ],
                [
                 0.9832402234636871,
                 "#febefe"
                ],
                [
                 1,
                 "#fec3fe"
                ]
               ]
              },
              "colorway": [
               "#636efa",
               "#EF553B",
               "#00cc96",
               "#ab63fa",
               "#19d3f3",
               "#e763fa",
               "#FECB52",
               "#FFA15A",
               "#FF6692",
               "#B6E880"
              ],
              "font": {
               "color": "#2a3f5f"
              },
              "geo": {
               "bgcolor": "white",
               "lakecolor": "white",
               "landcolor": "#E5ECF6",
               "showlakes": true,
               "showland": true,
               "subunitcolor": "white"
              },
              "hovermode": "closest",
              "mapbox": {
               "style": "light"
              },
              "paper_bgcolor": "white",
              "plot_bgcolor": "#E5ECF6",
              "polar": {
               "angularaxis": {
                "gridcolor": "white",
                "linecolor": "white",
                "ticks": ""
               },
               "bgcolor": "#E5ECF6",
               "radialaxis": {
                "gridcolor": "white",
                "linecolor": "white",
                "ticks": ""
               }
              },
              "scene": {
               "xaxis": {
                "backgroundcolor": "#E5ECF6",
                "gridcolor": "white",
                "gridwidth": 2,
                "linecolor": "white",
                "showbackground": true,
                "ticks": "",
                "zerolinecolor": "white"
               },
               "yaxis": {
                "backgroundcolor": "#E5ECF6",
                "gridcolor": "white",
                "gridwidth": 2,
                "linecolor": "white",
                "showbackground": true,
                "ticks": "",
                "zerolinecolor": "white"
               },
               "zaxis": {
                "backgroundcolor": "#E5ECF6",
                "gridcolor": "white",
                "gridwidth": 2,
                "linecolor": "white",
                "showbackground": true,
                "ticks": "",
                "zerolinecolor": "white"
               }
              },
              "shapedefaults": {
               "fillcolor": "#506784",
               "line": {
                "width": 0
               },
               "opacity": 0.4
              },
              "ternary": {
               "aaxis": {
                "gridcolor": "white",
                "linecolor": "white",
                "ticks": ""
               },
               "baxis": {
                "gridcolor": "white",
                "linecolor": "white",
                "ticks": ""
               },
               "bgcolor": "#E5ECF6",
               "caxis": {
                "gridcolor": "white",
                "linecolor": "white",
                "ticks": ""
               }
              },
              "title": {
               "x": 0.05
              },
              "xaxis": {
               "automargin": true,
               "gridcolor": "white",
               "linecolor": "white",
               "ticks": "",
               "zerolinecolor": "white",
               "zerolinewidth": 2
              },
              "yaxis": {
               "automargin": true,
               "gridcolor": "white",
               "linecolor": "white",
               "ticks": "",
               "zerolinecolor": "white",
               "zerolinewidth": 2
              }
             }
            },
            "title": {
             "text": "Facility Type"
            },
            "xaxis": {
             "title": {
              "text": "Risk Category"
             }
            },
            "yaxis": {
             "title": {
              "text": "Pct (%)"
             }
            }
           }
          },
          "text/html": "<div id=\"e79417b4-3570-4690-acb7-c09382d3ed04\" style=\"height: 600px; width: 100%;\" class=\"plotly-graph-div\"></div><script type=\"text/javascript\">require([\"plotly\"], function(Plotly) { window.PLOTLYENV=window.PLOTLYENV || {};window.PLOTLYENV.BASE_URL=\"https://plot.ly\";\nif (document.getElementById(\"e79417b4-3570-4690-acb7-c09382d3ed04\")) {\n    Plotly.newPlot(\"e79417b4-3570-4690-acb7-c09382d3ed04\", [{\"alignmentgroup\": \"True\", \"hovertemplate\": \"Risk Category=%{x}<br>Pct (%)=%{y}<extra></extra>\", \"legendgroup\": \"\", \"marker\": {\"color\": \"#636efa\"}, \"name\": \" \", \"offsetgroup\": \"\", \"orientation\": \"v\", \"showlegend\": false, \"textposition\": \"auto\", \"x\": [\"Revolving\", \"Term Loan \", \"Other\"], \"xaxis\": \"x\", \"y\": [36.23, 42.87, 20.9], \"yaxis\": \"y\", \"type\": \"bar\", \"uid\": \"d47efa0b-440b-44d8-9cc5-b22f825c2d85\"}], {\"barmode\": \"relative\", \"height\": 600, \"legend\": {\"tracegroupgap\": 0}, \"template\": {\"data\": {\"barpolar\": [{\"marker\": {\"line\": {\"color\": \"#E5ECF6\", \"width\": 0.5}}, \"type\": \"barpolar\"}], \"bar\": [{\"marker\": {\"line\": {\"color\": \"#E5ECF6\", \"width\": 0.5}}, \"type\": \"bar\"}], \"carpet\": [{\"aaxis\": {\"endlinecolor\": \"#2a3f5f\", \"gridcolor\": \"white\", \"linecolor\": \"white\", \"minorgridcolor\": \"white\", \"startlinecolor\": \"#2a3f5f\"}, \"baxis\": {\"endlinecolor\": \"#2a3f5f\", \"gridcolor\": \"white\", \"linecolor\": \"white\", \"minorgridcolor\": \"white\", \"startlinecolor\": \"#2a3f5f\"}, \"type\": \"carpet\"}], \"choropleth\": [{\"colorbar\": {\"outlinewidth\": 0, \"ticks\": \"\"}, \"type\": \"choropleth\"}], \"contourcarpet\": [{\"colorbar\": {\"outlinewidth\": 0, \"ticks\": \"\"}, \"type\": \"contourcarpet\"}], \"contour\": [{\"autocolorscale\": true, \"colorbar\": {\"outlinewidth\": 0, \"ticks\": \"\"}, \"type\": \"contour\"}], \"heatmapgl\": [{\"colorbar\": {\"outlinewidth\": 0, \"ticks\": \"\"}, \"type\": \"heatmapgl\"}], \"heatmap\": [{\"autocolorscale\": true, \"colorbar\": {\"outlinewidth\": 0, \"ticks\": \"\"}, \"type\": \"heatmap\"}], \"histogram2dcontour\": [{\"autocolorscale\": true, \"colorbar\": {\"outlinewidth\": 0, \"ticks\": \"\"}, \"type\": \"histogram2dcontour\"}], \"histogram2d\": [{\"autocolorscale\": true, \"colorbar\": {\"outlinewidth\": 0, \"ticks\": \"\"}, \"type\": \"histogram2d\"}], \"histogram\": [{\"marker\": {\"colorbar\": {\"outlinewidth\": 0, \"ticks\": \"\"}}, \"type\": \"histogram\"}], \"mesh3d\": [{\"colorbar\": {\"outlinewidth\": 0, \"ticks\": \"\"}, \"type\": \"mesh3d\"}], \"parcoords\": [{\"line\": {\"colorbar\": {\"outlinewidth\": 0, \"ticks\": \"\"}}, \"type\": \"parcoords\"}], \"scatter3d\": [{\"marker\": {\"colorbar\": {\"outlinewidth\": 0, \"ticks\": \"\"}}, \"type\": \"scatter3d\"}], \"scattercarpet\": [{\"marker\": {\"colorbar\": {\"outlinewidth\": 0, \"ticks\": \"\"}}, \"type\": \"scattercarpet\"}], \"scattergeo\": [{\"marker\": {\"colorbar\": {\"outlinewidth\": 0, \"ticks\": \"\"}}, \"type\": \"scattergeo\"}], \"scattergl\": [{\"marker\": {\"colorbar\": {\"outlinewidth\": 0, \"ticks\": \"\"}}, \"type\": \"scattergl\"}], \"scattermapbox\": [{\"marker\": {\"colorbar\": {\"outlinewidth\": 0, \"ticks\": \"\"}}, \"type\": \"scattermapbox\"}], \"scatterpolargl\": [{\"marker\": {\"colorbar\": {\"outlinewidth\": 0, \"ticks\": \"\"}}, \"type\": \"scatterpolargl\"}], \"scatterpolar\": [{\"marker\": {\"colorbar\": {\"outlinewidth\": 0, \"ticks\": \"\"}}, \"type\": \"scatterpolar\"}], \"scatter\": [{\"marker\": {\"colorbar\": {\"outlinewidth\": 0, \"ticks\": \"\"}}, \"type\": \"scatter\"}], \"scatterternary\": [{\"marker\": {\"colorbar\": {\"outlinewidth\": 0, \"ticks\": \"\"}}, \"type\": \"scatterternary\"}], \"surface\": [{\"colorbar\": {\"outlinewidth\": 0, \"ticks\": \"\"}, \"type\": \"surface\"}], \"table\": [{\"cells\": {\"fill\": {\"color\": \"#EBF0F8\"}, \"line\": {\"color\": \"white\"}}, \"header\": {\"fill\": {\"color\": \"#C8D4E3\"}, \"line\": {\"color\": \"white\"}}, \"type\": \"table\"}]}, \"layout\": {\"annotationdefaults\": {\"arrowcolor\": \"#506784\", \"arrowhead\": 0, \"arrowwidth\": 1}, \"colorscale\": {\"diverging\": [[0, \"#8e0152\"], [0.1, \"#c51b7d\"], [0.2, \"#de77ae\"], [0.3, \"#f1b6da\"], [0.4, \"#fde0ef\"], [0.5, \"#f7f7f7\"], [0.6, \"#e6f5d0\"], [0.7, \"#b8e186\"], [0.8, \"#7fbc41\"], [0.9, \"#4d9221\"], [1, \"#276419\"]], \"sequential\": [[0.0, \"#0508b8\"], [0.0893854748603352, \"#1910d8\"], [0.1787709497206704, \"#3c19f0\"], [0.2681564245810056, \"#6b1cfb\"], [0.3575418994413408, \"#981cfd\"], [0.44692737430167595, \"#bf1cfd\"], [0.5363128491620112, \"#dd2bfd\"], [0.6256983240223464, \"#f246fe\"], [0.7150837988826816, \"#fc67fd\"], [0.8044692737430168, \"#fe88fc\"], [0.8938547486033519, \"#fea5fd\"], [0.9832402234636871, \"#febefe\"], [1.0, \"#fec3fe\"]], \"sequentialminus\": [[0.0, \"#0508b8\"], [0.0893854748603352, \"#1910d8\"], [0.1787709497206704, \"#3c19f0\"], [0.2681564245810056, \"#6b1cfb\"], [0.3575418994413408, \"#981cfd\"], [0.44692737430167595, \"#bf1cfd\"], [0.5363128491620112, \"#dd2bfd\"], [0.6256983240223464, \"#f246fe\"], [0.7150837988826816, \"#fc67fd\"], [0.8044692737430168, \"#fe88fc\"], [0.8938547486033519, \"#fea5fd\"], [0.9832402234636871, \"#febefe\"], [1.0, \"#fec3fe\"]]}, \"colorway\": [\"#636efa\", \"#EF553B\", \"#00cc96\", \"#ab63fa\", \"#19d3f3\", \"#e763fa\", \"#FECB52\", \"#FFA15A\", \"#FF6692\", \"#B6E880\"], \"font\": {\"color\": \"#2a3f5f\"}, \"geo\": {\"bgcolor\": \"white\", \"lakecolor\": \"white\", \"landcolor\": \"#E5ECF6\", \"showlakes\": true, \"showland\": true, \"subunitcolor\": \"white\"}, \"hovermode\": \"closest\", \"mapbox\": {\"style\": \"light\"}, \"paper_bgcolor\": \"white\", \"plot_bgcolor\": \"#E5ECF6\", \"polar\": {\"angularaxis\": {\"gridcolor\": \"white\", \"linecolor\": \"white\", \"ticks\": \"\"}, \"bgcolor\": \"#E5ECF6\", \"radialaxis\": {\"gridcolor\": \"white\", \"linecolor\": \"white\", \"ticks\": \"\"}}, \"scene\": {\"xaxis\": {\"backgroundcolor\": \"#E5ECF6\", \"gridcolor\": \"white\", \"gridwidth\": 2, \"linecolor\": \"white\", \"showbackground\": true, \"ticks\": \"\", \"zerolinecolor\": \"white\"}, \"yaxis\": {\"backgroundcolor\": \"#E5ECF6\", \"gridcolor\": \"white\", \"gridwidth\": 2, \"linecolor\": \"white\", \"showbackground\": true, \"ticks\": \"\", \"zerolinecolor\": \"white\"}, \"zaxis\": {\"backgroundcolor\": \"#E5ECF6\", \"gridcolor\": \"white\", \"gridwidth\": 2, \"linecolor\": \"white\", \"showbackground\": true, \"ticks\": \"\", \"zerolinecolor\": \"white\"}}, \"shapedefaults\": {\"fillcolor\": \"#506784\", \"line\": {\"width\": 0}, \"opacity\": 0.4}, \"ternary\": {\"aaxis\": {\"gridcolor\": \"white\", \"linecolor\": \"white\", \"ticks\": \"\"}, \"baxis\": {\"gridcolor\": \"white\", \"linecolor\": \"white\", \"ticks\": \"\"}, \"bgcolor\": \"#E5ECF6\", \"caxis\": {\"gridcolor\": \"white\", \"linecolor\": \"white\", \"ticks\": \"\"}}, \"title\": {\"x\": 0.05}, \"xaxis\": {\"automargin\": true, \"gridcolor\": \"white\", \"linecolor\": \"white\", \"ticks\": \"\", \"zerolinecolor\": \"white\", \"zerolinewidth\": 2}, \"yaxis\": {\"automargin\": true, \"gridcolor\": \"white\", \"linecolor\": \"white\", \"ticks\": \"\", \"zerolinecolor\": \"white\", \"zerolinewidth\": 2}}}, \"title\": {\"text\": \"Facility Type\"}, \"grid\": {\"xaxes\": [\"x\"], \"yaxes\": [\"y\"], \"xgap\": 0.1, \"ygap\": 0.1, \"xside\": \"bottom\", \"yside\": \"left\"}, \"xaxis\": {\"title\": {\"text\": \"Risk Category\"}}, \"yaxis\": {\"title\": {\"text\": \"Pct (%)\"}}}, {\"showLink\": false, \"linkText\": \"Export to plot.ly\", \"plotlyServerURL\": \"https://plot.ly\"}); \n}\n});</script><script type=\"text/javascript\">window.addEventListener(\"resize\", function(){if (document.getElementById(\"e79417b4-3570-4690-acb7-c09382d3ed04\")) {window._Plotly.Plots.resize(document.getElementById(\"e79417b4-3570-4690-acb7-c09382d3ed04\"));};})</script>",
          "text/vnd.plotly.v1+html": "<div id=\"e79417b4-3570-4690-acb7-c09382d3ed04\" style=\"height: 600px; width: 100%;\" class=\"plotly-graph-div\"></div><script type=\"text/javascript\">require([\"plotly\"], function(Plotly) { window.PLOTLYENV=window.PLOTLYENV || {};window.PLOTLYENV.BASE_URL=\"https://plot.ly\";\nif (document.getElementById(\"e79417b4-3570-4690-acb7-c09382d3ed04\")) {\n    Plotly.newPlot(\"e79417b4-3570-4690-acb7-c09382d3ed04\", [{\"alignmentgroup\": \"True\", \"hovertemplate\": \"Risk Category=%{x}<br>Pct (%)=%{y}<extra></extra>\", \"legendgroup\": \"\", \"marker\": {\"color\": \"#636efa\"}, \"name\": \" \", \"offsetgroup\": \"\", \"orientation\": \"v\", \"showlegend\": false, \"textposition\": \"auto\", \"x\": [\"Revolving\", \"Term Loan \", \"Other\"], \"xaxis\": \"x\", \"y\": [36.23, 42.87, 20.9], \"yaxis\": \"y\", \"type\": \"bar\", \"uid\": \"d47efa0b-440b-44d8-9cc5-b22f825c2d85\"}], {\"barmode\": \"relative\", \"height\": 600, \"legend\": {\"tracegroupgap\": 0}, \"template\": {\"data\": {\"barpolar\": [{\"marker\": {\"line\": {\"color\": \"#E5ECF6\", \"width\": 0.5}}, \"type\": \"barpolar\"}], \"bar\": [{\"marker\": {\"line\": {\"color\": \"#E5ECF6\", \"width\": 0.5}}, \"type\": \"bar\"}], \"carpet\": [{\"aaxis\": {\"endlinecolor\": \"#2a3f5f\", \"gridcolor\": \"white\", \"linecolor\": \"white\", \"minorgridcolor\": \"white\", \"startlinecolor\": \"#2a3f5f\"}, \"baxis\": {\"endlinecolor\": \"#2a3f5f\", \"gridcolor\": \"white\", \"linecolor\": \"white\", \"minorgridcolor\": \"white\", \"startlinecolor\": \"#2a3f5f\"}, \"type\": \"carpet\"}], \"choropleth\": [{\"colorbar\": {\"outlinewidth\": 0, \"ticks\": \"\"}, \"type\": \"choropleth\"}], \"contourcarpet\": [{\"colorbar\": {\"outlinewidth\": 0, \"ticks\": \"\"}, \"type\": \"contourcarpet\"}], \"contour\": [{\"autocolorscale\": true, \"colorbar\": {\"outlinewidth\": 0, \"ticks\": \"\"}, \"type\": \"contour\"}], \"heatmapgl\": [{\"colorbar\": {\"outlinewidth\": 0, \"ticks\": \"\"}, \"type\": \"heatmapgl\"}], \"heatmap\": [{\"autocolorscale\": true, \"colorbar\": {\"outlinewidth\": 0, \"ticks\": \"\"}, \"type\": \"heatmap\"}], \"histogram2dcontour\": [{\"autocolorscale\": true, \"colorbar\": {\"outlinewidth\": 0, \"ticks\": \"\"}, \"type\": \"histogram2dcontour\"}], \"histogram2d\": [{\"autocolorscale\": true, \"colorbar\": {\"outlinewidth\": 0, \"ticks\": \"\"}, \"type\": \"histogram2d\"}], \"histogram\": [{\"marker\": {\"colorbar\": {\"outlinewidth\": 0, \"ticks\": \"\"}}, \"type\": \"histogram\"}], \"mesh3d\": [{\"colorbar\": {\"outlinewidth\": 0, \"ticks\": \"\"}, \"type\": \"mesh3d\"}], \"parcoords\": [{\"line\": {\"colorbar\": {\"outlinewidth\": 0, \"ticks\": \"\"}}, \"type\": \"parcoords\"}], \"scatter3d\": [{\"marker\": {\"colorbar\": {\"outlinewidth\": 0, \"ticks\": \"\"}}, \"type\": \"scatter3d\"}], \"scattercarpet\": [{\"marker\": {\"colorbar\": {\"outlinewidth\": 0, \"ticks\": \"\"}}, \"type\": \"scattercarpet\"}], \"scattergeo\": [{\"marker\": {\"colorbar\": {\"outlinewidth\": 0, \"ticks\": \"\"}}, \"type\": \"scattergeo\"}], \"scattergl\": [{\"marker\": {\"colorbar\": {\"outlinewidth\": 0, \"ticks\": \"\"}}, \"type\": \"scattergl\"}], \"scattermapbox\": [{\"marker\": {\"colorbar\": {\"outlinewidth\": 0, \"ticks\": \"\"}}, \"type\": \"scattermapbox\"}], \"scatterpolargl\": [{\"marker\": {\"colorbar\": {\"outlinewidth\": 0, \"ticks\": \"\"}}, \"type\": \"scatterpolargl\"}], \"scatterpolar\": [{\"marker\": {\"colorbar\": {\"outlinewidth\": 0, \"ticks\": \"\"}}, \"type\": \"scatterpolar\"}], \"scatter\": [{\"marker\": {\"colorbar\": {\"outlinewidth\": 0, \"ticks\": \"\"}}, \"type\": \"scatter\"}], \"scatterternary\": [{\"marker\": {\"colorbar\": {\"outlinewidth\": 0, \"ticks\": \"\"}}, \"type\": \"scatterternary\"}], \"surface\": [{\"colorbar\": {\"outlinewidth\": 0, \"ticks\": \"\"}, \"type\": \"surface\"}], \"table\": [{\"cells\": {\"fill\": {\"color\": \"#EBF0F8\"}, \"line\": {\"color\": \"white\"}}, \"header\": {\"fill\": {\"color\": \"#C8D4E3\"}, \"line\": {\"color\": \"white\"}}, \"type\": \"table\"}]}, \"layout\": {\"annotationdefaults\": {\"arrowcolor\": \"#506784\", \"arrowhead\": 0, \"arrowwidth\": 1}, \"colorscale\": {\"diverging\": [[0, \"#8e0152\"], [0.1, \"#c51b7d\"], [0.2, \"#de77ae\"], [0.3, \"#f1b6da\"], [0.4, \"#fde0ef\"], [0.5, \"#f7f7f7\"], [0.6, \"#e6f5d0\"], [0.7, \"#b8e186\"], [0.8, \"#7fbc41\"], [0.9, \"#4d9221\"], [1, \"#276419\"]], \"sequential\": [[0.0, \"#0508b8\"], [0.0893854748603352, \"#1910d8\"], [0.1787709497206704, \"#3c19f0\"], [0.2681564245810056, \"#6b1cfb\"], [0.3575418994413408, \"#981cfd\"], [0.44692737430167595, \"#bf1cfd\"], [0.5363128491620112, \"#dd2bfd\"], [0.6256983240223464, \"#f246fe\"], [0.7150837988826816, \"#fc67fd\"], [0.8044692737430168, \"#fe88fc\"], [0.8938547486033519, \"#fea5fd\"], [0.9832402234636871, \"#febefe\"], [1.0, \"#fec3fe\"]], \"sequentialminus\": [[0.0, \"#0508b8\"], [0.0893854748603352, \"#1910d8\"], [0.1787709497206704, \"#3c19f0\"], [0.2681564245810056, \"#6b1cfb\"], [0.3575418994413408, \"#981cfd\"], [0.44692737430167595, \"#bf1cfd\"], [0.5363128491620112, \"#dd2bfd\"], [0.6256983240223464, \"#f246fe\"], [0.7150837988826816, \"#fc67fd\"], [0.8044692737430168, \"#fe88fc\"], [0.8938547486033519, \"#fea5fd\"], [0.9832402234636871, \"#febefe\"], [1.0, \"#fec3fe\"]]}, \"colorway\": [\"#636efa\", \"#EF553B\", \"#00cc96\", \"#ab63fa\", \"#19d3f3\", \"#e763fa\", \"#FECB52\", \"#FFA15A\", \"#FF6692\", \"#B6E880\"], \"font\": {\"color\": \"#2a3f5f\"}, \"geo\": {\"bgcolor\": \"white\", \"lakecolor\": \"white\", \"landcolor\": \"#E5ECF6\", \"showlakes\": true, \"showland\": true, \"subunitcolor\": \"white\"}, \"hovermode\": \"closest\", \"mapbox\": {\"style\": \"light\"}, \"paper_bgcolor\": \"white\", \"plot_bgcolor\": \"#E5ECF6\", \"polar\": {\"angularaxis\": {\"gridcolor\": \"white\", \"linecolor\": \"white\", \"ticks\": \"\"}, \"bgcolor\": \"#E5ECF6\", \"radialaxis\": {\"gridcolor\": \"white\", \"linecolor\": \"white\", \"ticks\": \"\"}}, \"scene\": {\"xaxis\": {\"backgroundcolor\": \"#E5ECF6\", \"gridcolor\": \"white\", \"gridwidth\": 2, \"linecolor\": \"white\", \"showbackground\": true, \"ticks\": \"\", \"zerolinecolor\": \"white\"}, \"yaxis\": {\"backgroundcolor\": \"#E5ECF6\", \"gridcolor\": \"white\", \"gridwidth\": 2, \"linecolor\": \"white\", \"showbackground\": true, \"ticks\": \"\", \"zerolinecolor\": \"white\"}, \"zaxis\": {\"backgroundcolor\": \"#E5ECF6\", \"gridcolor\": \"white\", \"gridwidth\": 2, \"linecolor\": \"white\", \"showbackground\": true, \"ticks\": \"\", \"zerolinecolor\": \"white\"}}, \"shapedefaults\": {\"fillcolor\": \"#506784\", \"line\": {\"width\": 0}, \"opacity\": 0.4}, \"ternary\": {\"aaxis\": {\"gridcolor\": \"white\", \"linecolor\": \"white\", \"ticks\": \"\"}, \"baxis\": {\"gridcolor\": \"white\", \"linecolor\": \"white\", \"ticks\": \"\"}, \"bgcolor\": \"#E5ECF6\", \"caxis\": {\"gridcolor\": \"white\", \"linecolor\": \"white\", \"ticks\": \"\"}}, \"title\": {\"x\": 0.05}, \"xaxis\": {\"automargin\": true, \"gridcolor\": \"white\", \"linecolor\": \"white\", \"ticks\": \"\", \"zerolinecolor\": \"white\", \"zerolinewidth\": 2}, \"yaxis\": {\"automargin\": true, \"gridcolor\": \"white\", \"linecolor\": \"white\", \"ticks\": \"\", \"zerolinecolor\": \"white\", \"zerolinewidth\": 2}}}, \"title\": {\"text\": \"Facility Type\"}, \"grid\": {\"xaxes\": [\"x\"], \"yaxes\": [\"y\"], \"xgap\": 0.1, \"ygap\": 0.1, \"xside\": \"bottom\", \"yside\": \"left\"}, \"xaxis\": {\"title\": {\"text\": \"Risk Category\"}}, \"yaxis\": {\"title\": {\"text\": \"Pct (%)\"}}}, {\"showLink\": false, \"linkText\": \"Export to plot.ly\", \"plotlyServerURL\": \"https://plot.ly\"}); \n}\n});</script><script type=\"text/javascript\">window.addEventListener(\"resize\", function(){if (document.getElementById(\"e79417b4-3570-4690-acb7-c09382d3ed04\")) {window._Plotly.Plots.resize(document.getElementById(\"e79417b4-3570-4690-acb7-c09382d3ed04\"));};})</script>"
         },
         "metadata": {},
         "output_type": "display_data"
        },
        {
         "data": {
          "text/html": "<style  type=\"text/css\" >\n    #T_b20021d0_5c64_11e9_b2a0_fc77742e8519row0_col2 {\n            background-color:  #45a645;\n            : ;\n        }    #T_b20021d0_5c64_11e9_b2a0_fc77742e8519row1_col2 {\n            background-color:  #008000;\n            background-color:  yellow;\n        }    #T_b20021d0_5c64_11e9_b2a0_fc77742e8519row2_col2 {\n            background-color:  #e5ffe5;\n            : ;\n        }</style>  \n<table id=\"T_b20021d0_5c64_11e9_b2a0_fc77742e8519\" > \n<thead>    <tr> \n        <th class=\"blank level0\" ></th> \n        <th class=\"col_heading level0 col0\" >risk_catI</th> \n        <th class=\"col_heading level0 col1\" >risk_catII</th> \n        <th class=\"col_heading level0 col2\" >IG_NFIN_S</th> \n    </tr></thead> \n<tbody>    <tr> \n        <th id=\"T_b20021d0_5c64_11e9_b2a0_fc77742e8519level0_row0\" class=\"row_heading level0 row0\" >1</th> \n        <td id=\"T_b20021d0_5c64_11e9_b2a0_fc77742e8519row0_col0\" class=\"data row0 col0\" >Facility_type</td> \n        <td id=\"T_b20021d0_5c64_11e9_b2a0_fc77742e8519row0_col1\" class=\"data row0 col1\" >Revolving</td> \n        <td id=\"T_b20021d0_5c64_11e9_b2a0_fc77742e8519row0_col2\" class=\"data row0 col2\" >36.23</td> \n    </tr>    <tr> \n        <th id=\"T_b20021d0_5c64_11e9_b2a0_fc77742e8519level0_row1\" class=\"row_heading level0 row1\" >2</th> \n        <td id=\"T_b20021d0_5c64_11e9_b2a0_fc77742e8519row1_col0\" class=\"data row1 col0\" >Facility_type</td> \n        <td id=\"T_b20021d0_5c64_11e9_b2a0_fc77742e8519row1_col1\" class=\"data row1 col1\" >Term Loan </td> \n        <td id=\"T_b20021d0_5c64_11e9_b2a0_fc77742e8519row1_col2\" class=\"data row1 col2\" >42.87</td> \n    </tr>    <tr> \n        <th id=\"T_b20021d0_5c64_11e9_b2a0_fc77742e8519level0_row2\" class=\"row_heading level0 row2\" >3</th> \n        <td id=\"T_b20021d0_5c64_11e9_b2a0_fc77742e8519row2_col0\" class=\"data row2 col0\" >Facility_type</td> \n        <td id=\"T_b20021d0_5c64_11e9_b2a0_fc77742e8519row2_col1\" class=\"data row2 col1\" >Other</td> \n        <td id=\"T_b20021d0_5c64_11e9_b2a0_fc77742e8519row2_col2\" class=\"data row2 col2\" >20.9</td> \n    </tr></tbody> \n</table> ",
          "text/plain": "<pandas.io.formats.style.Styler at 0x2c748f7bc88>"
         },
         "metadata": {},
         "output_type": "display_data"
        }
       ]
      }
     },
     "a8f2c9c60bfc4466aef157552d3f23bf": {
      "model_module": "@jupyter-widgets/controls",
      "model_module_version": "1.4.0",
      "model_name": "DescriptionStyleModel",
      "state": {
       "description_width": ""
      }
     },
     "ad3391acc3294564a9001171fad9dfcd": {
      "model_module": "@jupyter-widgets/base",
      "model_module_version": "1.1.0",
      "model_name": "LayoutModel",
      "state": {}
     },
     "ad9e4a625a584f03b0ab121f3256a706": {
      "model_module": "@jupyter-widgets/controls",
      "model_module_version": "1.4.0",
      "model_name": "DescriptionStyleModel",
      "state": {
       "description_width": ""
      }
     },
     "af37e634f26a4c6782ebf7a4038a38c1": {
      "model_module": "@jupyter-widgets/controls",
      "model_module_version": "1.4.0",
      "model_name": "DropdownModel",
      "state": {
       "_options_labels": [
        "Investment Grade",
        "Non-investment Grade"
       ],
       "description": "Rating:",
       "index": 0,
       "layout": "IPY_MODEL_5dfcbb1580704c15a8f4fe8e23f36496",
       "style": "IPY_MODEL_fac109feab6a4ce19edb6da98f5b642f"
      }
     },
     "b15bcd5abd3e48a394684dfb1907bef1": {
      "model_module": "@jupyter-widgets/controls",
      "model_module_version": "1.4.0",
      "model_name": "DescriptionStyleModel",
      "state": {
       "description_width": ""
      }
     },
     "b2e28348774343f3b938e05721dcaf04": {
      "model_module": "@jupyter-widgets/controls",
      "model_module_version": "1.4.0",
      "model_name": "DropdownModel",
      "state": {
       "_options_labels": [
        "Secured",
        "Unsecured"
       ],
       "description": "Collateral:",
       "index": 1,
       "layout": "IPY_MODEL_0ed025d7b6b148499ef7432aac6d382e",
       "style": "IPY_MODEL_fa588bd9ed73499796f7fff582e86ec3"
      }
     },
     "b31cac06ce704613b343df8228c4296e": {
      "model_module": "@jupyter-widgets/controls",
      "model_module_version": "1.4.0",
      "model_name": "VBoxModel",
      "state": {
       "children": [
        "IPY_MODEL_e171646281af4f37818923c7aaf14027",
        "IPY_MODEL_b3b5fbcc53b04a8d92a6dc1a7f4fad8a",
        "IPY_MODEL_b2e28348774343f3b938e05721dcaf04",
        "IPY_MODEL_687c96d23370432294516ad7b299fe01",
        "IPY_MODEL_c8b48b83ad204d33a5badab678cd43d9"
       ],
       "layout": "IPY_MODEL_2b6d03fad42c45e58608b01ef2d7268e"
      }
     },
     "b3b5fbcc53b04a8d92a6dc1a7f4fad8a": {
      "model_module": "@jupyter-widgets/controls",
      "model_module_version": "1.4.0",
      "model_name": "DropdownModel",
      "state": {
       "_options_labels": [
        "Financial Sector",
        "Non-financial Sector"
       ],
       "description": "Sector:",
       "index": 0,
       "layout": "IPY_MODEL_3ce021b530c94026960083982d6671f1",
       "style": "IPY_MODEL_1092425114e24de69e30f5013e966340"
      }
     },
     "b3de9bff1afa4919a9c113c78bd28d13": {
      "model_module": "@jupyter-widgets/controls",
      "model_module_version": "1.4.0",
      "model_name": "TabModel",
      "state": {
       "_titles": {
        "0": "Interactive Plots"
       },
       "children": [
        "IPY_MODEL_b31cac06ce704613b343df8228c4296e"
       ],
       "layout": "IPY_MODEL_01dfde5cfd2b486c8b3de53d8acbf9e7"
      }
     },
     "b94f0778f315421fbf4b70c5843ed9a5": {
      "model_module": "@jupyter-widgets/controls",
      "model_module_version": "1.4.0",
      "model_name": "DescriptionStyleModel",
      "state": {
       "description_width": ""
      }
     },
     "bc3b0422aafa4cbaa523ad04076b6331": {
      "model_module": "@jupyter-widgets/controls",
      "model_module_version": "1.4.0",
      "model_name": "VBoxModel",
      "state": {
       "_dom_classes": [
        "widget-interact"
       ],
       "children": [
        "IPY_MODEL_e171646281af4f37818923c7aaf14027",
        "IPY_MODEL_b3b5fbcc53b04a8d92a6dc1a7f4fad8a",
        "IPY_MODEL_b2e28348774343f3b938e05721dcaf04",
        "IPY_MODEL_687c96d23370432294516ad7b299fe01",
        "IPY_MODEL_c8b48b83ad204d33a5badab678cd43d9"
       ],
       "layout": "IPY_MODEL_7c125239446d43e495ece94dca3bfa85"
      }
     },
     "c05d0983c4e0479b848fb63ef9cf518f": {
      "model_module": "@jupyter-widgets/controls",
      "model_module_version": "1.4.0",
      "model_name": "DropdownModel",
      "state": {
       "_options_labels": [
        "Investment Grade",
        "Non-investment Grade"
       ],
       "description": "Rating:",
       "index": 0,
       "layout": "IPY_MODEL_4ca19df1cf954ea8b2636dcbb03b730a",
       "style": "IPY_MODEL_5d8f94f4d2a54a01b9d2778dd330360d"
      }
     },
     "c1ca5f550f8d420faeaf511540ea3ac3": {
      "model_module": "@jupyter-widgets/base",
      "model_module_version": "1.1.0",
      "model_name": "LayoutModel",
      "state": {}
     },
     "c31863bb302c4a66b5f179f286e074a9": {
      "model_module": "@jupyter-widgets/controls",
      "model_module_version": "1.4.0",
      "model_name": "RadioButtonsModel",
      "state": {
       "_options_labels": [
        "Facility Type",
        "Rating",
        "Lien Position",
        "Interest Rate",
        "Industry",
        "Guarantor",
        "Other",
        "Loss Rate"
       ],
       "description": "Risk Category:",
       "index": 7,
       "layout": "IPY_MODEL_12d6434000854c61a8aa6c24ed700b62",
       "style": "IPY_MODEL_b15bcd5abd3e48a394684dfb1907bef1"
      }
     },
     "c5bab00b8e624a1d96718fe6a23a53fe": {
      "model_module": "@jupyter-widgets/controls",
      "model_module_version": "1.4.0",
      "model_name": "DropdownModel",
      "state": {
       "_options_labels": [
        "Financial Sector",
        "Non-financial Sector"
       ],
       "description": "Sector:",
       "index": 1,
       "layout": "IPY_MODEL_95344735e1594e5e9424e62044f40cdc",
       "style": "IPY_MODEL_392103f3e1b844748d3effc8beb78a9b"
      }
     },
     "c66c8f9ea94d40fc87eb54ad3343d59c": {
      "model_module": "@jupyter-widgets/base",
      "model_module_version": "1.1.0",
      "model_name": "LayoutModel",
      "state": {}
     },
     "c8b48b83ad204d33a5badab678cd43d9": {
      "model_module": "@jupyter-widgets/output",
      "model_module_version": "1.0.0",
      "model_name": "OutputModel",
      "state": {
       "layout": "IPY_MODEL_67f6cd760639445985a18ca435e70d91",
       "outputs": [
        {
         "data": {
          "application/vnd.plotly.v1+json": {
           "config": {
            "linkText": "Export to plot.ly",
            "plotlyServerURL": "https://plot.ly",
            "showLink": false
           },
           "data": [
            {
             "alignmentgroup": "True",
             "hovertemplate": "Risk Category=%{x}<br>Pct (%)=%{y}<extra></extra>",
             "legendgroup": "",
             "marker": {
              "color": "#636efa"
             },
             "name": " ",
             "offsetgroup": "",
             "orientation": "v",
             "showlegend": false,
             "textposition": "auto",
             "type": "bar",
             "uid": "730c88b3-7c66-4b3f-81b1-2b9f38ee0b6a",
             "x": [
              "Fixed",
              "Floating",
              "Mixed"
             ],
             "xaxis": "x",
             "y": [
              24.21,
              67.61,
              5.81
             ],
             "yaxis": "y"
            }
           ],
           "layout": {
            "barmode": "relative",
            "grid": {
             "xaxes": [
              "x"
             ],
             "xgap": 0.1,
             "xside": "bottom",
             "yaxes": [
              "y"
             ],
             "ygap": 0.1,
             "yside": "left"
            },
            "height": 600,
            "legend": {
             "tracegroupgap": 0
            },
            "template": {
             "data": {
              "bar": [
               {
                "marker": {
                 "line": {
                  "color": "#E5ECF6",
                  "width": 0.5
                 }
                },
                "type": "bar"
               }
              ],
              "barpolar": [
               {
                "marker": {
                 "line": {
                  "color": "#E5ECF6",
                  "width": 0.5
                 }
                },
                "type": "barpolar"
               }
              ],
              "carpet": [
               {
                "aaxis": {
                 "endlinecolor": "#2a3f5f",
                 "gridcolor": "white",
                 "linecolor": "white",
                 "minorgridcolor": "white",
                 "startlinecolor": "#2a3f5f"
                },
                "baxis": {
                 "endlinecolor": "#2a3f5f",
                 "gridcolor": "white",
                 "linecolor": "white",
                 "minorgridcolor": "white",
                 "startlinecolor": "#2a3f5f"
                },
                "type": "carpet"
               }
              ],
              "choropleth": [
               {
                "colorbar": {
                 "outlinewidth": 0,
                 "ticks": ""
                },
                "type": "choropleth"
               }
              ],
              "contour": [
               {
                "autocolorscale": true,
                "colorbar": {
                 "outlinewidth": 0,
                 "ticks": ""
                },
                "type": "contour"
               }
              ],
              "contourcarpet": [
               {
                "colorbar": {
                 "outlinewidth": 0,
                 "ticks": ""
                },
                "type": "contourcarpet"
               }
              ],
              "heatmap": [
               {
                "autocolorscale": true,
                "colorbar": {
                 "outlinewidth": 0,
                 "ticks": ""
                },
                "type": "heatmap"
               }
              ],
              "heatmapgl": [
               {
                "colorbar": {
                 "outlinewidth": 0,
                 "ticks": ""
                },
                "type": "heatmapgl"
               }
              ],
              "histogram": [
               {
                "marker": {
                 "colorbar": {
                  "outlinewidth": 0,
                  "ticks": ""
                 }
                },
                "type": "histogram"
               }
              ],
              "histogram2d": [
               {
                "autocolorscale": true,
                "colorbar": {
                 "outlinewidth": 0,
                 "ticks": ""
                },
                "type": "histogram2d"
               }
              ],
              "histogram2dcontour": [
               {
                "autocolorscale": true,
                "colorbar": {
                 "outlinewidth": 0,
                 "ticks": ""
                },
                "type": "histogram2dcontour"
               }
              ],
              "mesh3d": [
               {
                "colorbar": {
                 "outlinewidth": 0,
                 "ticks": ""
                },
                "type": "mesh3d"
               }
              ],
              "parcoords": [
               {
                "line": {
                 "colorbar": {
                  "outlinewidth": 0,
                  "ticks": ""
                 }
                },
                "type": "parcoords"
               }
              ],
              "scatter": [
               {
                "marker": {
                 "colorbar": {
                  "outlinewidth": 0,
                  "ticks": ""
                 }
                },
                "type": "scatter"
               }
              ],
              "scatter3d": [
               {
                "marker": {
                 "colorbar": {
                  "outlinewidth": 0,
                  "ticks": ""
                 }
                },
                "type": "scatter3d"
               }
              ],
              "scattercarpet": [
               {
                "marker": {
                 "colorbar": {
                  "outlinewidth": 0,
                  "ticks": ""
                 }
                },
                "type": "scattercarpet"
               }
              ],
              "scattergeo": [
               {
                "marker": {
                 "colorbar": {
                  "outlinewidth": 0,
                  "ticks": ""
                 }
                },
                "type": "scattergeo"
               }
              ],
              "scattergl": [
               {
                "marker": {
                 "colorbar": {
                  "outlinewidth": 0,
                  "ticks": ""
                 }
                },
                "type": "scattergl"
               }
              ],
              "scattermapbox": [
               {
                "marker": {
                 "colorbar": {
                  "outlinewidth": 0,
                  "ticks": ""
                 }
                },
                "type": "scattermapbox"
               }
              ],
              "scatterpolar": [
               {
                "marker": {
                 "colorbar": {
                  "outlinewidth": 0,
                  "ticks": ""
                 }
                },
                "type": "scatterpolar"
               }
              ],
              "scatterpolargl": [
               {
                "marker": {
                 "colorbar": {
                  "outlinewidth": 0,
                  "ticks": ""
                 }
                },
                "type": "scatterpolargl"
               }
              ],
              "scatterternary": [
               {
                "marker": {
                 "colorbar": {
                  "outlinewidth": 0,
                  "ticks": ""
                 }
                },
                "type": "scatterternary"
               }
              ],
              "surface": [
               {
                "colorbar": {
                 "outlinewidth": 0,
                 "ticks": ""
                },
                "type": "surface"
               }
              ],
              "table": [
               {
                "cells": {
                 "fill": {
                  "color": "#EBF0F8"
                 },
                 "line": {
                  "color": "white"
                 }
                },
                "header": {
                 "fill": {
                  "color": "#C8D4E3"
                 },
                 "line": {
                  "color": "white"
                 }
                },
                "type": "table"
               }
              ]
             },
             "layout": {
              "annotationdefaults": {
               "arrowcolor": "#506784",
               "arrowhead": 0,
               "arrowwidth": 1
              },
              "colorscale": {
               "diverging": [
                [
                 0,
                 "#8e0152"
                ],
                [
                 0.1,
                 "#c51b7d"
                ],
                [
                 0.2,
                 "#de77ae"
                ],
                [
                 0.3,
                 "#f1b6da"
                ],
                [
                 0.4,
                 "#fde0ef"
                ],
                [
                 0.5,
                 "#f7f7f7"
                ],
                [
                 0.6,
                 "#e6f5d0"
                ],
                [
                 0.7,
                 "#b8e186"
                ],
                [
                 0.8,
                 "#7fbc41"
                ],
                [
                 0.9,
                 "#4d9221"
                ],
                [
                 1,
                 "#276419"
                ]
               ],
               "sequential": [
                [
                 0,
                 "#0508b8"
                ],
                [
                 0.0893854748603352,
                 "#1910d8"
                ],
                [
                 0.1787709497206704,
                 "#3c19f0"
                ],
                [
                 0.2681564245810056,
                 "#6b1cfb"
                ],
                [
                 0.3575418994413408,
                 "#981cfd"
                ],
                [
                 0.44692737430167595,
                 "#bf1cfd"
                ],
                [
                 0.5363128491620112,
                 "#dd2bfd"
                ],
                [
                 0.6256983240223464,
                 "#f246fe"
                ],
                [
                 0.7150837988826816,
                 "#fc67fd"
                ],
                [
                 0.8044692737430168,
                 "#fe88fc"
                ],
                [
                 0.8938547486033519,
                 "#fea5fd"
                ],
                [
                 0.9832402234636871,
                 "#febefe"
                ],
                [
                 1,
                 "#fec3fe"
                ]
               ],
               "sequentialminus": [
                [
                 0,
                 "#0508b8"
                ],
                [
                 0.0893854748603352,
                 "#1910d8"
                ],
                [
                 0.1787709497206704,
                 "#3c19f0"
                ],
                [
                 0.2681564245810056,
                 "#6b1cfb"
                ],
                [
                 0.3575418994413408,
                 "#981cfd"
                ],
                [
                 0.44692737430167595,
                 "#bf1cfd"
                ],
                [
                 0.5363128491620112,
                 "#dd2bfd"
                ],
                [
                 0.6256983240223464,
                 "#f246fe"
                ],
                [
                 0.7150837988826816,
                 "#fc67fd"
                ],
                [
                 0.8044692737430168,
                 "#fe88fc"
                ],
                [
                 0.8938547486033519,
                 "#fea5fd"
                ],
                [
                 0.9832402234636871,
                 "#febefe"
                ],
                [
                 1,
                 "#fec3fe"
                ]
               ]
              },
              "colorway": [
               "#636efa",
               "#EF553B",
               "#00cc96",
               "#ab63fa",
               "#19d3f3",
               "#e763fa",
               "#FECB52",
               "#FFA15A",
               "#FF6692",
               "#B6E880"
              ],
              "font": {
               "color": "#2a3f5f"
              },
              "geo": {
               "bgcolor": "white",
               "lakecolor": "white",
               "landcolor": "#E5ECF6",
               "showlakes": true,
               "showland": true,
               "subunitcolor": "white"
              },
              "hovermode": "closest",
              "mapbox": {
               "style": "light"
              },
              "paper_bgcolor": "white",
              "plot_bgcolor": "#E5ECF6",
              "polar": {
               "angularaxis": {
                "gridcolor": "white",
                "linecolor": "white",
                "ticks": ""
               },
               "bgcolor": "#E5ECF6",
               "radialaxis": {
                "gridcolor": "white",
                "linecolor": "white",
                "ticks": ""
               }
              },
              "scene": {
               "xaxis": {
                "backgroundcolor": "#E5ECF6",
                "gridcolor": "white",
                "gridwidth": 2,
                "linecolor": "white",
                "showbackground": true,
                "ticks": "",
                "zerolinecolor": "white"
               },
               "yaxis": {
                "backgroundcolor": "#E5ECF6",
                "gridcolor": "white",
                "gridwidth": 2,
                "linecolor": "white",
                "showbackground": true,
                "ticks": "",
                "zerolinecolor": "white"
               },
               "zaxis": {
                "backgroundcolor": "#E5ECF6",
                "gridcolor": "white",
                "gridwidth": 2,
                "linecolor": "white",
                "showbackground": true,
                "ticks": "",
                "zerolinecolor": "white"
               }
              },
              "shapedefaults": {
               "fillcolor": "#506784",
               "line": {
                "width": 0
               },
               "opacity": 0.4
              },
              "ternary": {
               "aaxis": {
                "gridcolor": "white",
                "linecolor": "white",
                "ticks": ""
               },
               "baxis": {
                "gridcolor": "white",
                "linecolor": "white",
                "ticks": ""
               },
               "bgcolor": "#E5ECF6",
               "caxis": {
                "gridcolor": "white",
                "linecolor": "white",
                "ticks": ""
               }
              },
              "title": {
               "x": 0.05
              },
              "xaxis": {
               "automargin": true,
               "gridcolor": "white",
               "linecolor": "white",
               "ticks": "",
               "zerolinecolor": "white",
               "zerolinewidth": 2
              },
              "yaxis": {
               "automargin": true,
               "gridcolor": "white",
               "linecolor": "white",
               "ticks": "",
               "zerolinecolor": "white",
               "zerolinewidth": 2
              }
             }
            },
            "title": {
             "text": "Interest Rate"
            },
            "xaxis": {
             "title": {
              "text": "Risk Category"
             }
            },
            "yaxis": {
             "title": {
              "text": "Pct (%)"
             }
            }
           }
          },
          "text/html": "<div id=\"85577498-5ebd-49d9-8ca2-5ab7e8277edc\" style=\"height: 600px; width: 100%;\" class=\"plotly-graph-div\"></div><script type=\"text/javascript\">require([\"plotly\"], function(Plotly) { window.PLOTLYENV=window.PLOTLYENV || {};window.PLOTLYENV.BASE_URL=\"https://plot.ly\";\nif (document.getElementById(\"85577498-5ebd-49d9-8ca2-5ab7e8277edc\")) {\n    Plotly.newPlot(\"85577498-5ebd-49d9-8ca2-5ab7e8277edc\", [{\"alignmentgroup\": \"True\", \"hovertemplate\": \"Risk Category=%{x}<br>Pct (%)=%{y}<extra></extra>\", \"legendgroup\": \"\", \"marker\": {\"color\": \"#636efa\"}, \"name\": \" \", \"offsetgroup\": \"\", \"orientation\": \"v\", \"showlegend\": false, \"textposition\": \"auto\", \"x\": [\"Fixed\", \"Floating\", \"Mixed\"], \"xaxis\": \"x\", \"y\": [24.21, 67.61, 5.81], \"yaxis\": \"y\", \"type\": \"bar\", \"uid\": \"730c88b3-7c66-4b3f-81b1-2b9f38ee0b6a\"}], {\"barmode\": \"relative\", \"height\": 600, \"legend\": {\"tracegroupgap\": 0}, \"template\": {\"data\": {\"barpolar\": [{\"marker\": {\"line\": {\"color\": \"#E5ECF6\", \"width\": 0.5}}, \"type\": \"barpolar\"}], \"bar\": [{\"marker\": {\"line\": {\"color\": \"#E5ECF6\", \"width\": 0.5}}, \"type\": \"bar\"}], \"carpet\": [{\"aaxis\": {\"endlinecolor\": \"#2a3f5f\", \"gridcolor\": \"white\", \"linecolor\": \"white\", \"minorgridcolor\": \"white\", \"startlinecolor\": \"#2a3f5f\"}, \"baxis\": {\"endlinecolor\": \"#2a3f5f\", \"gridcolor\": \"white\", \"linecolor\": \"white\", \"minorgridcolor\": \"white\", \"startlinecolor\": \"#2a3f5f\"}, \"type\": \"carpet\"}], \"choropleth\": [{\"colorbar\": {\"outlinewidth\": 0, \"ticks\": \"\"}, \"type\": \"choropleth\"}], \"contourcarpet\": [{\"colorbar\": {\"outlinewidth\": 0, \"ticks\": \"\"}, \"type\": \"contourcarpet\"}], \"contour\": [{\"autocolorscale\": true, \"colorbar\": {\"outlinewidth\": 0, \"ticks\": \"\"}, \"type\": \"contour\"}], \"heatmapgl\": [{\"colorbar\": {\"outlinewidth\": 0, \"ticks\": \"\"}, \"type\": \"heatmapgl\"}], \"heatmap\": [{\"autocolorscale\": true, \"colorbar\": {\"outlinewidth\": 0, \"ticks\": \"\"}, \"type\": \"heatmap\"}], \"histogram2dcontour\": [{\"autocolorscale\": true, \"colorbar\": {\"outlinewidth\": 0, \"ticks\": \"\"}, \"type\": \"histogram2dcontour\"}], \"histogram2d\": [{\"autocolorscale\": true, \"colorbar\": {\"outlinewidth\": 0, \"ticks\": \"\"}, \"type\": \"histogram2d\"}], \"histogram\": [{\"marker\": {\"colorbar\": {\"outlinewidth\": 0, \"ticks\": \"\"}}, \"type\": \"histogram\"}], \"mesh3d\": [{\"colorbar\": {\"outlinewidth\": 0, \"ticks\": \"\"}, \"type\": \"mesh3d\"}], \"parcoords\": [{\"line\": {\"colorbar\": {\"outlinewidth\": 0, \"ticks\": \"\"}}, \"type\": \"parcoords\"}], \"scatter3d\": [{\"marker\": {\"colorbar\": {\"outlinewidth\": 0, \"ticks\": \"\"}}, \"type\": \"scatter3d\"}], \"scattercarpet\": [{\"marker\": {\"colorbar\": {\"outlinewidth\": 0, \"ticks\": \"\"}}, \"type\": \"scattercarpet\"}], \"scattergeo\": [{\"marker\": {\"colorbar\": {\"outlinewidth\": 0, \"ticks\": \"\"}}, \"type\": \"scattergeo\"}], \"scattergl\": [{\"marker\": {\"colorbar\": {\"outlinewidth\": 0, \"ticks\": \"\"}}, \"type\": \"scattergl\"}], \"scattermapbox\": [{\"marker\": {\"colorbar\": {\"outlinewidth\": 0, \"ticks\": \"\"}}, \"type\": \"scattermapbox\"}], \"scatterpolargl\": [{\"marker\": {\"colorbar\": {\"outlinewidth\": 0, \"ticks\": \"\"}}, \"type\": \"scatterpolargl\"}], \"scatterpolar\": [{\"marker\": {\"colorbar\": {\"outlinewidth\": 0, \"ticks\": \"\"}}, \"type\": \"scatterpolar\"}], \"scatter\": [{\"marker\": {\"colorbar\": {\"outlinewidth\": 0, \"ticks\": \"\"}}, \"type\": \"scatter\"}], \"scatterternary\": [{\"marker\": {\"colorbar\": {\"outlinewidth\": 0, \"ticks\": \"\"}}, \"type\": \"scatterternary\"}], \"surface\": [{\"colorbar\": {\"outlinewidth\": 0, \"ticks\": \"\"}, \"type\": \"surface\"}], \"table\": [{\"cells\": {\"fill\": {\"color\": \"#EBF0F8\"}, \"line\": {\"color\": \"white\"}}, \"header\": {\"fill\": {\"color\": \"#C8D4E3\"}, \"line\": {\"color\": \"white\"}}, \"type\": \"table\"}]}, \"layout\": {\"annotationdefaults\": {\"arrowcolor\": \"#506784\", \"arrowhead\": 0, \"arrowwidth\": 1}, \"colorscale\": {\"diverging\": [[0, \"#8e0152\"], [0.1, \"#c51b7d\"], [0.2, \"#de77ae\"], [0.3, \"#f1b6da\"], [0.4, \"#fde0ef\"], [0.5, \"#f7f7f7\"], [0.6, \"#e6f5d0\"], [0.7, \"#b8e186\"], [0.8, \"#7fbc41\"], [0.9, \"#4d9221\"], [1, \"#276419\"]], \"sequential\": [[0.0, \"#0508b8\"], [0.0893854748603352, \"#1910d8\"], [0.1787709497206704, \"#3c19f0\"], [0.2681564245810056, \"#6b1cfb\"], [0.3575418994413408, \"#981cfd\"], [0.44692737430167595, \"#bf1cfd\"], [0.5363128491620112, \"#dd2bfd\"], [0.6256983240223464, \"#f246fe\"], [0.7150837988826816, \"#fc67fd\"], [0.8044692737430168, \"#fe88fc\"], [0.8938547486033519, \"#fea5fd\"], [0.9832402234636871, \"#febefe\"], [1.0, \"#fec3fe\"]], \"sequentialminus\": [[0.0, \"#0508b8\"], [0.0893854748603352, \"#1910d8\"], [0.1787709497206704, \"#3c19f0\"], [0.2681564245810056, \"#6b1cfb\"], [0.3575418994413408, \"#981cfd\"], [0.44692737430167595, \"#bf1cfd\"], [0.5363128491620112, \"#dd2bfd\"], [0.6256983240223464, \"#f246fe\"], [0.7150837988826816, \"#fc67fd\"], [0.8044692737430168, \"#fe88fc\"], [0.8938547486033519, \"#fea5fd\"], [0.9832402234636871, \"#febefe\"], [1.0, \"#fec3fe\"]]}, \"colorway\": [\"#636efa\", \"#EF553B\", \"#00cc96\", \"#ab63fa\", \"#19d3f3\", \"#e763fa\", \"#FECB52\", \"#FFA15A\", \"#FF6692\", \"#B6E880\"], \"font\": {\"color\": \"#2a3f5f\"}, \"geo\": {\"bgcolor\": \"white\", \"lakecolor\": \"white\", \"landcolor\": \"#E5ECF6\", \"showlakes\": true, \"showland\": true, \"subunitcolor\": \"white\"}, \"hovermode\": \"closest\", \"mapbox\": {\"style\": \"light\"}, \"paper_bgcolor\": \"white\", \"plot_bgcolor\": \"#E5ECF6\", \"polar\": {\"angularaxis\": {\"gridcolor\": \"white\", \"linecolor\": \"white\", \"ticks\": \"\"}, \"bgcolor\": \"#E5ECF6\", \"radialaxis\": {\"gridcolor\": \"white\", \"linecolor\": \"white\", \"ticks\": \"\"}}, \"scene\": {\"xaxis\": {\"backgroundcolor\": \"#E5ECF6\", \"gridcolor\": \"white\", \"gridwidth\": 2, \"linecolor\": \"white\", \"showbackground\": true, \"ticks\": \"\", \"zerolinecolor\": \"white\"}, \"yaxis\": {\"backgroundcolor\": \"#E5ECF6\", \"gridcolor\": \"white\", \"gridwidth\": 2, \"linecolor\": \"white\", \"showbackground\": true, \"ticks\": \"\", \"zerolinecolor\": \"white\"}, \"zaxis\": {\"backgroundcolor\": \"#E5ECF6\", \"gridcolor\": \"white\", \"gridwidth\": 2, \"linecolor\": \"white\", \"showbackground\": true, \"ticks\": \"\", \"zerolinecolor\": \"white\"}}, \"shapedefaults\": {\"fillcolor\": \"#506784\", \"line\": {\"width\": 0}, \"opacity\": 0.4}, \"ternary\": {\"aaxis\": {\"gridcolor\": \"white\", \"linecolor\": \"white\", \"ticks\": \"\"}, \"baxis\": {\"gridcolor\": \"white\", \"linecolor\": \"white\", \"ticks\": \"\"}, \"bgcolor\": \"#E5ECF6\", \"caxis\": {\"gridcolor\": \"white\", \"linecolor\": \"white\", \"ticks\": \"\"}}, \"title\": {\"x\": 0.05}, \"xaxis\": {\"automargin\": true, \"gridcolor\": \"white\", \"linecolor\": \"white\", \"ticks\": \"\", \"zerolinecolor\": \"white\", \"zerolinewidth\": 2}, \"yaxis\": {\"automargin\": true, \"gridcolor\": \"white\", \"linecolor\": \"white\", \"ticks\": \"\", \"zerolinecolor\": \"white\", \"zerolinewidth\": 2}}}, \"title\": {\"text\": \"Interest Rate\"}, \"grid\": {\"xaxes\": [\"x\"], \"yaxes\": [\"y\"], \"xgap\": 0.1, \"ygap\": 0.1, \"xside\": \"bottom\", \"yside\": \"left\"}, \"xaxis\": {\"title\": {\"text\": \"Risk Category\"}}, \"yaxis\": {\"title\": {\"text\": \"Pct (%)\"}}}, {\"showLink\": false, \"linkText\": \"Export to plot.ly\", \"plotlyServerURL\": \"https://plot.ly\"}); \n}\n});</script><script type=\"text/javascript\">window.addEventListener(\"resize\", function(){if (document.getElementById(\"85577498-5ebd-49d9-8ca2-5ab7e8277edc\")) {window._Plotly.Plots.resize(document.getElementById(\"85577498-5ebd-49d9-8ca2-5ab7e8277edc\"));};})</script>",
          "text/vnd.plotly.v1+html": "<div id=\"85577498-5ebd-49d9-8ca2-5ab7e8277edc\" style=\"height: 600px; width: 100%;\" class=\"plotly-graph-div\"></div><script type=\"text/javascript\">require([\"plotly\"], function(Plotly) { window.PLOTLYENV=window.PLOTLYENV || {};window.PLOTLYENV.BASE_URL=\"https://plot.ly\";\nif (document.getElementById(\"85577498-5ebd-49d9-8ca2-5ab7e8277edc\")) {\n    Plotly.newPlot(\"85577498-5ebd-49d9-8ca2-5ab7e8277edc\", [{\"alignmentgroup\": \"True\", \"hovertemplate\": \"Risk Category=%{x}<br>Pct (%)=%{y}<extra></extra>\", \"legendgroup\": \"\", \"marker\": {\"color\": \"#636efa\"}, \"name\": \" \", \"offsetgroup\": \"\", \"orientation\": \"v\", \"showlegend\": false, \"textposition\": \"auto\", \"x\": [\"Fixed\", \"Floating\", \"Mixed\"], \"xaxis\": \"x\", \"y\": [24.21, 67.61, 5.81], \"yaxis\": \"y\", \"type\": \"bar\", \"uid\": \"730c88b3-7c66-4b3f-81b1-2b9f38ee0b6a\"}], {\"barmode\": \"relative\", \"height\": 600, \"legend\": {\"tracegroupgap\": 0}, \"template\": {\"data\": {\"barpolar\": [{\"marker\": {\"line\": {\"color\": \"#E5ECF6\", \"width\": 0.5}}, \"type\": \"barpolar\"}], \"bar\": [{\"marker\": {\"line\": {\"color\": \"#E5ECF6\", \"width\": 0.5}}, \"type\": \"bar\"}], \"carpet\": [{\"aaxis\": {\"endlinecolor\": \"#2a3f5f\", \"gridcolor\": \"white\", \"linecolor\": \"white\", \"minorgridcolor\": \"white\", \"startlinecolor\": \"#2a3f5f\"}, \"baxis\": {\"endlinecolor\": \"#2a3f5f\", \"gridcolor\": \"white\", \"linecolor\": \"white\", \"minorgridcolor\": \"white\", \"startlinecolor\": \"#2a3f5f\"}, \"type\": \"carpet\"}], \"choropleth\": [{\"colorbar\": {\"outlinewidth\": 0, \"ticks\": \"\"}, \"type\": \"choropleth\"}], \"contourcarpet\": [{\"colorbar\": {\"outlinewidth\": 0, \"ticks\": \"\"}, \"type\": \"contourcarpet\"}], \"contour\": [{\"autocolorscale\": true, \"colorbar\": {\"outlinewidth\": 0, \"ticks\": \"\"}, \"type\": \"contour\"}], \"heatmapgl\": [{\"colorbar\": {\"outlinewidth\": 0, \"ticks\": \"\"}, \"type\": \"heatmapgl\"}], \"heatmap\": [{\"autocolorscale\": true, \"colorbar\": {\"outlinewidth\": 0, \"ticks\": \"\"}, \"type\": \"heatmap\"}], \"histogram2dcontour\": [{\"autocolorscale\": true, \"colorbar\": {\"outlinewidth\": 0, \"ticks\": \"\"}, \"type\": \"histogram2dcontour\"}], \"histogram2d\": [{\"autocolorscale\": true, \"colorbar\": {\"outlinewidth\": 0, \"ticks\": \"\"}, \"type\": \"histogram2d\"}], \"histogram\": [{\"marker\": {\"colorbar\": {\"outlinewidth\": 0, \"ticks\": \"\"}}, \"type\": \"histogram\"}], \"mesh3d\": [{\"colorbar\": {\"outlinewidth\": 0, \"ticks\": \"\"}, \"type\": \"mesh3d\"}], \"parcoords\": [{\"line\": {\"colorbar\": {\"outlinewidth\": 0, \"ticks\": \"\"}}, \"type\": \"parcoords\"}], \"scatter3d\": [{\"marker\": {\"colorbar\": {\"outlinewidth\": 0, \"ticks\": \"\"}}, \"type\": \"scatter3d\"}], \"scattercarpet\": [{\"marker\": {\"colorbar\": {\"outlinewidth\": 0, \"ticks\": \"\"}}, \"type\": \"scattercarpet\"}], \"scattergeo\": [{\"marker\": {\"colorbar\": {\"outlinewidth\": 0, \"ticks\": \"\"}}, \"type\": \"scattergeo\"}], \"scattergl\": [{\"marker\": {\"colorbar\": {\"outlinewidth\": 0, \"ticks\": \"\"}}, \"type\": \"scattergl\"}], \"scattermapbox\": [{\"marker\": {\"colorbar\": {\"outlinewidth\": 0, \"ticks\": \"\"}}, \"type\": \"scattermapbox\"}], \"scatterpolargl\": [{\"marker\": {\"colorbar\": {\"outlinewidth\": 0, \"ticks\": \"\"}}, \"type\": \"scatterpolargl\"}], \"scatterpolar\": [{\"marker\": {\"colorbar\": {\"outlinewidth\": 0, \"ticks\": \"\"}}, \"type\": \"scatterpolar\"}], \"scatter\": [{\"marker\": {\"colorbar\": {\"outlinewidth\": 0, \"ticks\": \"\"}}, \"type\": \"scatter\"}], \"scatterternary\": [{\"marker\": {\"colorbar\": {\"outlinewidth\": 0, \"ticks\": \"\"}}, \"type\": \"scatterternary\"}], \"surface\": [{\"colorbar\": {\"outlinewidth\": 0, \"ticks\": \"\"}, \"type\": \"surface\"}], \"table\": [{\"cells\": {\"fill\": {\"color\": \"#EBF0F8\"}, \"line\": {\"color\": \"white\"}}, \"header\": {\"fill\": {\"color\": \"#C8D4E3\"}, \"line\": {\"color\": \"white\"}}, \"type\": \"table\"}]}, \"layout\": {\"annotationdefaults\": {\"arrowcolor\": \"#506784\", \"arrowhead\": 0, \"arrowwidth\": 1}, \"colorscale\": {\"diverging\": [[0, \"#8e0152\"], [0.1, \"#c51b7d\"], [0.2, \"#de77ae\"], [0.3, \"#f1b6da\"], [0.4, \"#fde0ef\"], [0.5, \"#f7f7f7\"], [0.6, \"#e6f5d0\"], [0.7, \"#b8e186\"], [0.8, \"#7fbc41\"], [0.9, \"#4d9221\"], [1, \"#276419\"]], \"sequential\": [[0.0, \"#0508b8\"], [0.0893854748603352, \"#1910d8\"], [0.1787709497206704, \"#3c19f0\"], [0.2681564245810056, \"#6b1cfb\"], [0.3575418994413408, \"#981cfd\"], [0.44692737430167595, \"#bf1cfd\"], [0.5363128491620112, \"#dd2bfd\"], [0.6256983240223464, \"#f246fe\"], [0.7150837988826816, \"#fc67fd\"], [0.8044692737430168, \"#fe88fc\"], [0.8938547486033519, \"#fea5fd\"], [0.9832402234636871, \"#febefe\"], [1.0, \"#fec3fe\"]], \"sequentialminus\": [[0.0, \"#0508b8\"], [0.0893854748603352, \"#1910d8\"], [0.1787709497206704, \"#3c19f0\"], [0.2681564245810056, \"#6b1cfb\"], [0.3575418994413408, \"#981cfd\"], [0.44692737430167595, \"#bf1cfd\"], [0.5363128491620112, \"#dd2bfd\"], [0.6256983240223464, \"#f246fe\"], [0.7150837988826816, \"#fc67fd\"], [0.8044692737430168, \"#fe88fc\"], [0.8938547486033519, \"#fea5fd\"], [0.9832402234636871, \"#febefe\"], [1.0, \"#fec3fe\"]]}, \"colorway\": [\"#636efa\", \"#EF553B\", \"#00cc96\", \"#ab63fa\", \"#19d3f3\", \"#e763fa\", \"#FECB52\", \"#FFA15A\", \"#FF6692\", \"#B6E880\"], \"font\": {\"color\": \"#2a3f5f\"}, \"geo\": {\"bgcolor\": \"white\", \"lakecolor\": \"white\", \"landcolor\": \"#E5ECF6\", \"showlakes\": true, \"showland\": true, \"subunitcolor\": \"white\"}, \"hovermode\": \"closest\", \"mapbox\": {\"style\": \"light\"}, \"paper_bgcolor\": \"white\", \"plot_bgcolor\": \"#E5ECF6\", \"polar\": {\"angularaxis\": {\"gridcolor\": \"white\", \"linecolor\": \"white\", \"ticks\": \"\"}, \"bgcolor\": \"#E5ECF6\", \"radialaxis\": {\"gridcolor\": \"white\", \"linecolor\": \"white\", \"ticks\": \"\"}}, \"scene\": {\"xaxis\": {\"backgroundcolor\": \"#E5ECF6\", \"gridcolor\": \"white\", \"gridwidth\": 2, \"linecolor\": \"white\", \"showbackground\": true, \"ticks\": \"\", \"zerolinecolor\": \"white\"}, \"yaxis\": {\"backgroundcolor\": \"#E5ECF6\", \"gridcolor\": \"white\", \"gridwidth\": 2, \"linecolor\": \"white\", \"showbackground\": true, \"ticks\": \"\", \"zerolinecolor\": \"white\"}, \"zaxis\": {\"backgroundcolor\": \"#E5ECF6\", \"gridcolor\": \"white\", \"gridwidth\": 2, \"linecolor\": \"white\", \"showbackground\": true, \"ticks\": \"\", \"zerolinecolor\": \"white\"}}, \"shapedefaults\": {\"fillcolor\": \"#506784\", \"line\": {\"width\": 0}, \"opacity\": 0.4}, \"ternary\": {\"aaxis\": {\"gridcolor\": \"white\", \"linecolor\": \"white\", \"ticks\": \"\"}, \"baxis\": {\"gridcolor\": \"white\", \"linecolor\": \"white\", \"ticks\": \"\"}, \"bgcolor\": \"#E5ECF6\", \"caxis\": {\"gridcolor\": \"white\", \"linecolor\": \"white\", \"ticks\": \"\"}}, \"title\": {\"x\": 0.05}, \"xaxis\": {\"automargin\": true, \"gridcolor\": \"white\", \"linecolor\": \"white\", \"ticks\": \"\", \"zerolinecolor\": \"white\", \"zerolinewidth\": 2}, \"yaxis\": {\"automargin\": true, \"gridcolor\": \"white\", \"linecolor\": \"white\", \"ticks\": \"\", \"zerolinecolor\": \"white\", \"zerolinewidth\": 2}}}, \"title\": {\"text\": \"Interest Rate\"}, \"grid\": {\"xaxes\": [\"x\"], \"yaxes\": [\"y\"], \"xgap\": 0.1, \"ygap\": 0.1, \"xside\": \"bottom\", \"yside\": \"left\"}, \"xaxis\": {\"title\": {\"text\": \"Risk Category\"}}, \"yaxis\": {\"title\": {\"text\": \"Pct (%)\"}}}, {\"showLink\": false, \"linkText\": \"Export to plot.ly\", \"plotlyServerURL\": \"https://plot.ly\"}); \n}\n});</script><script type=\"text/javascript\">window.addEventListener(\"resize\", function(){if (document.getElementById(\"85577498-5ebd-49d9-8ca2-5ab7e8277edc\")) {window._Plotly.Plots.resize(document.getElementById(\"85577498-5ebd-49d9-8ca2-5ab7e8277edc\"));};})</script>"
         },
         "metadata": {},
         "output_type": "display_data"
        },
        {
         "data": {
          "text/html": "<style  type=\"text/css\" >\n    #T_039a6576_5c0d_11e9_8a13_f48c509c873arow0_col2 {\n            background-color:  #a1d9a1;\n            : ;\n        }    #T_039a6576_5c0d_11e9_8a13_f48c509c873arow1_col2 {\n            background-color:  #008000;\n            background-color:  yellow;\n        }    #T_039a6576_5c0d_11e9_8a13_f48c509c873arow2_col2 {\n            background-color:  #e5ffe5;\n            : ;\n        }</style>  \n<table id=\"T_039a6576_5c0d_11e9_8a13_f48c509c873a\" > \n<thead>    <tr> \n        <th class=\"blank level0\" ></th> \n        <th class=\"col_heading level0 col0\" >risk_catI</th> \n        <th class=\"col_heading level0 col1\" >risk_catII</th> \n        <th class=\"col_heading level0 col2\" >IG_FIN_US</th> \n    </tr></thead> \n<tbody>    <tr> \n        <th id=\"T_039a6576_5c0d_11e9_8a13_f48c509c873alevel0_row0\" class=\"row_heading level0 row0\" >14</th> \n        <td id=\"T_039a6576_5c0d_11e9_8a13_f48c509c873arow0_col0\" class=\"data row0 col0\" >IR_variability</td> \n        <td id=\"T_039a6576_5c0d_11e9_8a13_f48c509c873arow0_col1\" class=\"data row0 col1\" >Fixed</td> \n        <td id=\"T_039a6576_5c0d_11e9_8a13_f48c509c873arow0_col2\" class=\"data row0 col2\" >24.21</td> \n    </tr>    <tr> \n        <th id=\"T_039a6576_5c0d_11e9_8a13_f48c509c873alevel0_row1\" class=\"row_heading level0 row1\" >15</th> \n        <td id=\"T_039a6576_5c0d_11e9_8a13_f48c509c873arow1_col0\" class=\"data row1 col0\" >IR_variability</td> \n        <td id=\"T_039a6576_5c0d_11e9_8a13_f48c509c873arow1_col1\" class=\"data row1 col1\" >Floating</td> \n        <td id=\"T_039a6576_5c0d_11e9_8a13_f48c509c873arow1_col2\" class=\"data row1 col2\" >67.61</td> \n    </tr>    <tr> \n        <th id=\"T_039a6576_5c0d_11e9_8a13_f48c509c873alevel0_row2\" class=\"row_heading level0 row2\" >16</th> \n        <td id=\"T_039a6576_5c0d_11e9_8a13_f48c509c873arow2_col0\" class=\"data row2 col0\" >IR_variability</td> \n        <td id=\"T_039a6576_5c0d_11e9_8a13_f48c509c873arow2_col1\" class=\"data row2 col1\" >Mixed</td> \n        <td id=\"T_039a6576_5c0d_11e9_8a13_f48c509c873arow2_col2\" class=\"data row2 col2\" >5.81</td> \n    </tr></tbody> \n</table> ",
          "text/plain": "<pandas.io.formats.style.Styler at 0x1f0ccc986a0>"
         },
         "metadata": {},
         "output_type": "display_data"
        }
       ]
      }
     },
     "ccc0d3cd467f4ef69ec2365707008cd8": {
      "model_module": "@jupyter-widgets/controls",
      "model_module_version": "1.4.0",
      "model_name": "DropdownModel",
      "state": {
       "_options_labels": [
        "Financial Sector",
        "Non-financial Sector"
       ],
       "description": "Sector:",
       "index": 1,
       "layout": "IPY_MODEL_2d4465d2e5ee4d2798c48fac5cff370f",
       "style": "IPY_MODEL_58f99d49a7bc4c10802825adf14157b5"
      }
     },
     "cf1841b3e9d0488a8da206086b44e379": {
      "model_module": "@jupyter-widgets/controls",
      "model_module_version": "1.4.0",
      "model_name": "VBoxModel",
      "state": {
       "children": [
        "IPY_MODEL_0600c8d0dbad4e3c957d341bdd622ea2",
        "IPY_MODEL_ccc0d3cd467f4ef69ec2365707008cd8",
        "IPY_MODEL_a563cf5c63cd4a04a23a7d43ac5b19ef",
        "IPY_MODEL_d07dfd8fbcd04b63b4fb4ba74ed8e5c4",
        "IPY_MODEL_58505c82f0cc4a17a84488da8bf3c64a"
       ],
       "layout": "IPY_MODEL_7d7cf1e6f9dc41d3a6dddc6542226770"
      }
     },
     "d07dfd8fbcd04b63b4fb4ba74ed8e5c4": {
      "model_module": "@jupyter-widgets/controls",
      "model_module_version": "1.4.0",
      "model_name": "RadioButtonsModel",
      "state": {
       "_options_labels": [
        "Facility Type",
        "Rating",
        "Lien Position",
        "Interest Rate",
        "Industry",
        "Guarantor",
        "Other",
        "Loss Rate"
       ],
       "description": "Risk Category:",
       "index": 7,
       "layout": "IPY_MODEL_d78c0495539a4e6f826ff0b7ba532fe2",
       "style": "IPY_MODEL_188a47535c4f416899a2be677ff6a2d1"
      }
     },
     "d62a3915f4c34a2d9d535c30e04c816e": {
      "model_module": "@jupyter-widgets/base",
      "model_module_version": "1.1.0",
      "model_name": "LayoutModel",
      "state": {}
     },
     "d78c0495539a4e6f826ff0b7ba532fe2": {
      "model_module": "@jupyter-widgets/base",
      "model_module_version": "1.1.0",
      "model_name": "LayoutModel",
      "state": {}
     },
     "dc44df364cee4896b7db1c820395e2e0": {
      "model_module": "@jupyter-widgets/controls",
      "model_module_version": "1.4.0",
      "model_name": "DescriptionStyleModel",
      "state": {
       "description_width": ""
      }
     },
     "dc57cc66527541209424c0948e441de4": {
      "model_module": "@jupyter-widgets/base",
      "model_module_version": "1.1.0",
      "model_name": "LayoutModel",
      "state": {}
     },
     "dcd2c16a4af049de9b4777c4a47e2ee6": {
      "model_module": "@jupyter-widgets/base",
      "model_module_version": "1.1.0",
      "model_name": "LayoutModel",
      "state": {}
     },
     "df1981de43f745a0a2e81d7794dcaec4": {
      "model_module": "@jupyter-widgets/controls",
      "model_module_version": "1.4.0",
      "model_name": "DropdownModel",
      "state": {
       "_options_labels": [
        "Financial Sector",
        "Non-financial Sector"
       ],
       "description": "Sector:",
       "index": 1,
       "layout": "IPY_MODEL_86c03bca083c44cdbf52a080a24eb221",
       "style": "IPY_MODEL_14a0a1aaa1a0437bbf66272dcb5fd47e"
      }
     },
     "df1fb567eb7a4b3d9f92d257e8f8e2b7": {
      "model_module": "@jupyter-widgets/output",
      "model_module_version": "1.0.0",
      "model_name": "OutputModel",
      "state": {
       "layout": "IPY_MODEL_a57ca29829fe43ec9e7306a5776446e0",
       "outputs": [
        {
         "data": {
          "application/vnd.plotly.v1+json": {
           "config": {
            "linkText": "Export to plot.ly",
            "plotlyServerURL": "https://plot.ly",
            "showLink": false
           },
           "data": [
            {
             "alignmentgroup": "True",
             "hovertemplate": "Risk Category=%{x}<br>Pct (%)=%{y}<extra></extra>",
             "legendgroup": "",
             "marker": {
              "color": "#636efa"
             },
             "name": " ",
             "offsetgroup": "",
             "orientation": "v",
             "showlegend": false,
             "textposition": "auto",
             "type": "bar",
             "uid": "786cb0a2-db20-4556-b291-5488d7734b8e",
             "x": [
              "AAA",
              "AA",
              "A",
              "BBB",
              "BB",
              "B",
              "CCC or below"
             ],
             "xaxis": "x",
             "y": [
              0,
              0,
              0,
              0,
              72.16,
              22.27,
              5.57
             ],
             "yaxis": "y"
            }
           ],
           "layout": {
            "barmode": "relative",
            "grid": {
             "xaxes": [
              "x"
             ],
             "xgap": 0.1,
             "xside": "bottom",
             "yaxes": [
              "y"
             ],
             "ygap": 0.1,
             "yside": "left"
            },
            "height": 600,
            "legend": {
             "tracegroupgap": 0
            },
            "template": {
             "data": {
              "bar": [
               {
                "marker": {
                 "line": {
                  "color": "#E5ECF6",
                  "width": 0.5
                 }
                },
                "type": "bar"
               }
              ],
              "barpolar": [
               {
                "marker": {
                 "line": {
                  "color": "#E5ECF6",
                  "width": 0.5
                 }
                },
                "type": "barpolar"
               }
              ],
              "carpet": [
               {
                "aaxis": {
                 "endlinecolor": "#2a3f5f",
                 "gridcolor": "white",
                 "linecolor": "white",
                 "minorgridcolor": "white",
                 "startlinecolor": "#2a3f5f"
                },
                "baxis": {
                 "endlinecolor": "#2a3f5f",
                 "gridcolor": "white",
                 "linecolor": "white",
                 "minorgridcolor": "white",
                 "startlinecolor": "#2a3f5f"
                },
                "type": "carpet"
               }
              ],
              "choropleth": [
               {
                "colorbar": {
                 "outlinewidth": 0,
                 "ticks": ""
                },
                "type": "choropleth"
               }
              ],
              "contour": [
               {
                "autocolorscale": true,
                "colorbar": {
                 "outlinewidth": 0,
                 "ticks": ""
                },
                "type": "contour"
               }
              ],
              "contourcarpet": [
               {
                "colorbar": {
                 "outlinewidth": 0,
                 "ticks": ""
                },
                "type": "contourcarpet"
               }
              ],
              "heatmap": [
               {
                "autocolorscale": true,
                "colorbar": {
                 "outlinewidth": 0,
                 "ticks": ""
                },
                "type": "heatmap"
               }
              ],
              "heatmapgl": [
               {
                "colorbar": {
                 "outlinewidth": 0,
                 "ticks": ""
                },
                "type": "heatmapgl"
               }
              ],
              "histogram": [
               {
                "marker": {
                 "colorbar": {
                  "outlinewidth": 0,
                  "ticks": ""
                 }
                },
                "type": "histogram"
               }
              ],
              "histogram2d": [
               {
                "autocolorscale": true,
                "colorbar": {
                 "outlinewidth": 0,
                 "ticks": ""
                },
                "type": "histogram2d"
               }
              ],
              "histogram2dcontour": [
               {
                "autocolorscale": true,
                "colorbar": {
                 "outlinewidth": 0,
                 "ticks": ""
                },
                "type": "histogram2dcontour"
               }
              ],
              "mesh3d": [
               {
                "colorbar": {
                 "outlinewidth": 0,
                 "ticks": ""
                },
                "type": "mesh3d"
               }
              ],
              "parcoords": [
               {
                "line": {
                 "colorbar": {
                  "outlinewidth": 0,
                  "ticks": ""
                 }
                },
                "type": "parcoords"
               }
              ],
              "scatter": [
               {
                "marker": {
                 "colorbar": {
                  "outlinewidth": 0,
                  "ticks": ""
                 }
                },
                "type": "scatter"
               }
              ],
              "scatter3d": [
               {
                "marker": {
                 "colorbar": {
                  "outlinewidth": 0,
                  "ticks": ""
                 }
                },
                "type": "scatter3d"
               }
              ],
              "scattercarpet": [
               {
                "marker": {
                 "colorbar": {
                  "outlinewidth": 0,
                  "ticks": ""
                 }
                },
                "type": "scattercarpet"
               }
              ],
              "scattergeo": [
               {
                "marker": {
                 "colorbar": {
                  "outlinewidth": 0,
                  "ticks": ""
                 }
                },
                "type": "scattergeo"
               }
              ],
              "scattergl": [
               {
                "marker": {
                 "colorbar": {
                  "outlinewidth": 0,
                  "ticks": ""
                 }
                },
                "type": "scattergl"
               }
              ],
              "scattermapbox": [
               {
                "marker": {
                 "colorbar": {
                  "outlinewidth": 0,
                  "ticks": ""
                 }
                },
                "type": "scattermapbox"
               }
              ],
              "scatterpolar": [
               {
                "marker": {
                 "colorbar": {
                  "outlinewidth": 0,
                  "ticks": ""
                 }
                },
                "type": "scatterpolar"
               }
              ],
              "scatterpolargl": [
               {
                "marker": {
                 "colorbar": {
                  "outlinewidth": 0,
                  "ticks": ""
                 }
                },
                "type": "scatterpolargl"
               }
              ],
              "scatterternary": [
               {
                "marker": {
                 "colorbar": {
                  "outlinewidth": 0,
                  "ticks": ""
                 }
                },
                "type": "scatterternary"
               }
              ],
              "surface": [
               {
                "colorbar": {
                 "outlinewidth": 0,
                 "ticks": ""
                },
                "type": "surface"
               }
              ],
              "table": [
               {
                "cells": {
                 "fill": {
                  "color": "#EBF0F8"
                 },
                 "line": {
                  "color": "white"
                 }
                },
                "header": {
                 "fill": {
                  "color": "#C8D4E3"
                 },
                 "line": {
                  "color": "white"
                 }
                },
                "type": "table"
               }
              ]
             },
             "layout": {
              "annotationdefaults": {
               "arrowcolor": "#506784",
               "arrowhead": 0,
               "arrowwidth": 1
              },
              "colorscale": {
               "diverging": [
                [
                 0,
                 "#8e0152"
                ],
                [
                 0.1,
                 "#c51b7d"
                ],
                [
                 0.2,
                 "#de77ae"
                ],
                [
                 0.3,
                 "#f1b6da"
                ],
                [
                 0.4,
                 "#fde0ef"
                ],
                [
                 0.5,
                 "#f7f7f7"
                ],
                [
                 0.6,
                 "#e6f5d0"
                ],
                [
                 0.7,
                 "#b8e186"
                ],
                [
                 0.8,
                 "#7fbc41"
                ],
                [
                 0.9,
                 "#4d9221"
                ],
                [
                 1,
                 "#276419"
                ]
               ],
               "sequential": [
                [
                 0,
                 "#0508b8"
                ],
                [
                 0.0893854748603352,
                 "#1910d8"
                ],
                [
                 0.1787709497206704,
                 "#3c19f0"
                ],
                [
                 0.2681564245810056,
                 "#6b1cfb"
                ],
                [
                 0.3575418994413408,
                 "#981cfd"
                ],
                [
                 0.44692737430167595,
                 "#bf1cfd"
                ],
                [
                 0.5363128491620112,
                 "#dd2bfd"
                ],
                [
                 0.6256983240223464,
                 "#f246fe"
                ],
                [
                 0.7150837988826816,
                 "#fc67fd"
                ],
                [
                 0.8044692737430168,
                 "#fe88fc"
                ],
                [
                 0.8938547486033519,
                 "#fea5fd"
                ],
                [
                 0.9832402234636871,
                 "#febefe"
                ],
                [
                 1,
                 "#fec3fe"
                ]
               ],
               "sequentialminus": [
                [
                 0,
                 "#0508b8"
                ],
                [
                 0.0893854748603352,
                 "#1910d8"
                ],
                [
                 0.1787709497206704,
                 "#3c19f0"
                ],
                [
                 0.2681564245810056,
                 "#6b1cfb"
                ],
                [
                 0.3575418994413408,
                 "#981cfd"
                ],
                [
                 0.44692737430167595,
                 "#bf1cfd"
                ],
                [
                 0.5363128491620112,
                 "#dd2bfd"
                ],
                [
                 0.6256983240223464,
                 "#f246fe"
                ],
                [
                 0.7150837988826816,
                 "#fc67fd"
                ],
                [
                 0.8044692737430168,
                 "#fe88fc"
                ],
                [
                 0.8938547486033519,
                 "#fea5fd"
                ],
                [
                 0.9832402234636871,
                 "#febefe"
                ],
                [
                 1,
                 "#fec3fe"
                ]
               ]
              },
              "colorway": [
               "#636efa",
               "#EF553B",
               "#00cc96",
               "#ab63fa",
               "#19d3f3",
               "#e763fa",
               "#FECB52",
               "#FFA15A",
               "#FF6692",
               "#B6E880"
              ],
              "font": {
               "color": "#2a3f5f"
              },
              "geo": {
               "bgcolor": "white",
               "lakecolor": "white",
               "landcolor": "#E5ECF6",
               "showlakes": true,
               "showland": true,
               "subunitcolor": "white"
              },
              "hovermode": "closest",
              "mapbox": {
               "style": "light"
              },
              "paper_bgcolor": "white",
              "plot_bgcolor": "#E5ECF6",
              "polar": {
               "angularaxis": {
                "gridcolor": "white",
                "linecolor": "white",
                "ticks": ""
               },
               "bgcolor": "#E5ECF6",
               "radialaxis": {
                "gridcolor": "white",
                "linecolor": "white",
                "ticks": ""
               }
              },
              "scene": {
               "xaxis": {
                "backgroundcolor": "#E5ECF6",
                "gridcolor": "white",
                "gridwidth": 2,
                "linecolor": "white",
                "showbackground": true,
                "ticks": "",
                "zerolinecolor": "white"
               },
               "yaxis": {
                "backgroundcolor": "#E5ECF6",
                "gridcolor": "white",
                "gridwidth": 2,
                "linecolor": "white",
                "showbackground": true,
                "ticks": "",
                "zerolinecolor": "white"
               },
               "zaxis": {
                "backgroundcolor": "#E5ECF6",
                "gridcolor": "white",
                "gridwidth": 2,
                "linecolor": "white",
                "showbackground": true,
                "ticks": "",
                "zerolinecolor": "white"
               }
              },
              "shapedefaults": {
               "fillcolor": "#506784",
               "line": {
                "width": 0
               },
               "opacity": 0.4
              },
              "ternary": {
               "aaxis": {
                "gridcolor": "white",
                "linecolor": "white",
                "ticks": ""
               },
               "baxis": {
                "gridcolor": "white",
                "linecolor": "white",
                "ticks": ""
               },
               "bgcolor": "#E5ECF6",
               "caxis": {
                "gridcolor": "white",
                "linecolor": "white",
                "ticks": ""
               }
              },
              "title": {
               "x": 0.05
              },
              "xaxis": {
               "automargin": true,
               "gridcolor": "white",
               "linecolor": "white",
               "ticks": "",
               "zerolinecolor": "white",
               "zerolinewidth": 2
              },
              "yaxis": {
               "automargin": true,
               "gridcolor": "white",
               "linecolor": "white",
               "ticks": "",
               "zerolinecolor": "white",
               "zerolinewidth": 2
              }
             }
            },
            "title": {
             "text": "Rating"
            },
            "xaxis": {
             "title": {
              "text": "Risk Category"
             }
            },
            "yaxis": {
             "title": {
              "text": "Pct (%)"
             }
            }
           }
          },
          "text/html": "<div id=\"187e21f7-80eb-43cc-8f24-480e5668b784\" style=\"height: 600px; width: 100%;\" class=\"plotly-graph-div\"></div><script type=\"text/javascript\">require([\"plotly\"], function(Plotly) { window.PLOTLYENV=window.PLOTLYENV || {};window.PLOTLYENV.BASE_URL=\"https://plot.ly\";\nif (document.getElementById(\"187e21f7-80eb-43cc-8f24-480e5668b784\")) {\n    Plotly.newPlot(\"187e21f7-80eb-43cc-8f24-480e5668b784\", [{\"alignmentgroup\": \"True\", \"hovertemplate\": \"Risk Category=%{x}<br>Pct (%)=%{y}<extra></extra>\", \"legendgroup\": \"\", \"marker\": {\"color\": \"#636efa\"}, \"name\": \" \", \"offsetgroup\": \"\", \"orientation\": \"v\", \"showlegend\": false, \"textposition\": \"auto\", \"x\": [\"AAA\", \"AA\", \"A\", \"BBB\", \"BB\", \"B\", \"CCC or below\"], \"xaxis\": \"x\", \"y\": [0.0, 0.0, 0.0, 0.0, 72.16, 22.27, 5.57], \"yaxis\": \"y\", \"type\": \"bar\", \"uid\": \"786cb0a2-db20-4556-b291-5488d7734b8e\"}], {\"barmode\": \"relative\", \"height\": 600, \"legend\": {\"tracegroupgap\": 0}, \"template\": {\"data\": {\"barpolar\": [{\"marker\": {\"line\": {\"color\": \"#E5ECF6\", \"width\": 0.5}}, \"type\": \"barpolar\"}], \"bar\": [{\"marker\": {\"line\": {\"color\": \"#E5ECF6\", \"width\": 0.5}}, \"type\": \"bar\"}], \"carpet\": [{\"aaxis\": {\"endlinecolor\": \"#2a3f5f\", \"gridcolor\": \"white\", \"linecolor\": \"white\", \"minorgridcolor\": \"white\", \"startlinecolor\": \"#2a3f5f\"}, \"baxis\": {\"endlinecolor\": \"#2a3f5f\", \"gridcolor\": \"white\", \"linecolor\": \"white\", \"minorgridcolor\": \"white\", \"startlinecolor\": \"#2a3f5f\"}, \"type\": \"carpet\"}], \"choropleth\": [{\"colorbar\": {\"outlinewidth\": 0, \"ticks\": \"\"}, \"type\": \"choropleth\"}], \"contourcarpet\": [{\"colorbar\": {\"outlinewidth\": 0, \"ticks\": \"\"}, \"type\": \"contourcarpet\"}], \"contour\": [{\"autocolorscale\": true, \"colorbar\": {\"outlinewidth\": 0, \"ticks\": \"\"}, \"type\": \"contour\"}], \"heatmapgl\": [{\"colorbar\": {\"outlinewidth\": 0, \"ticks\": \"\"}, \"type\": \"heatmapgl\"}], \"heatmap\": [{\"autocolorscale\": true, \"colorbar\": {\"outlinewidth\": 0, \"ticks\": \"\"}, \"type\": \"heatmap\"}], \"histogram2dcontour\": [{\"autocolorscale\": true, \"colorbar\": {\"outlinewidth\": 0, \"ticks\": \"\"}, \"type\": \"histogram2dcontour\"}], \"histogram2d\": [{\"autocolorscale\": true, \"colorbar\": {\"outlinewidth\": 0, \"ticks\": \"\"}, \"type\": \"histogram2d\"}], \"histogram\": [{\"marker\": {\"colorbar\": {\"outlinewidth\": 0, \"ticks\": \"\"}}, \"type\": \"histogram\"}], \"mesh3d\": [{\"colorbar\": {\"outlinewidth\": 0, \"ticks\": \"\"}, \"type\": \"mesh3d\"}], \"parcoords\": [{\"line\": {\"colorbar\": {\"outlinewidth\": 0, \"ticks\": \"\"}}, \"type\": \"parcoords\"}], \"scatter3d\": [{\"marker\": {\"colorbar\": {\"outlinewidth\": 0, \"ticks\": \"\"}}, \"type\": \"scatter3d\"}], \"scattercarpet\": [{\"marker\": {\"colorbar\": {\"outlinewidth\": 0, \"ticks\": \"\"}}, \"type\": \"scattercarpet\"}], \"scattergeo\": [{\"marker\": {\"colorbar\": {\"outlinewidth\": 0, \"ticks\": \"\"}}, \"type\": \"scattergeo\"}], \"scattergl\": [{\"marker\": {\"colorbar\": {\"outlinewidth\": 0, \"ticks\": \"\"}}, \"type\": \"scattergl\"}], \"scattermapbox\": [{\"marker\": {\"colorbar\": {\"outlinewidth\": 0, \"ticks\": \"\"}}, \"type\": \"scattermapbox\"}], \"scatterpolargl\": [{\"marker\": {\"colorbar\": {\"outlinewidth\": 0, \"ticks\": \"\"}}, \"type\": \"scatterpolargl\"}], \"scatterpolar\": [{\"marker\": {\"colorbar\": {\"outlinewidth\": 0, \"ticks\": \"\"}}, \"type\": \"scatterpolar\"}], \"scatter\": [{\"marker\": {\"colorbar\": {\"outlinewidth\": 0, \"ticks\": \"\"}}, \"type\": \"scatter\"}], \"scatterternary\": [{\"marker\": {\"colorbar\": {\"outlinewidth\": 0, \"ticks\": \"\"}}, \"type\": \"scatterternary\"}], \"surface\": [{\"colorbar\": {\"outlinewidth\": 0, \"ticks\": \"\"}, \"type\": \"surface\"}], \"table\": [{\"cells\": {\"fill\": {\"color\": \"#EBF0F8\"}, \"line\": {\"color\": \"white\"}}, \"header\": {\"fill\": {\"color\": \"#C8D4E3\"}, \"line\": {\"color\": \"white\"}}, \"type\": \"table\"}]}, \"layout\": {\"annotationdefaults\": {\"arrowcolor\": \"#506784\", \"arrowhead\": 0, \"arrowwidth\": 1}, \"colorscale\": {\"diverging\": [[0, \"#8e0152\"], [0.1, \"#c51b7d\"], [0.2, \"#de77ae\"], [0.3, \"#f1b6da\"], [0.4, \"#fde0ef\"], [0.5, \"#f7f7f7\"], [0.6, \"#e6f5d0\"], [0.7, \"#b8e186\"], [0.8, \"#7fbc41\"], [0.9, \"#4d9221\"], [1, \"#276419\"]], \"sequential\": [[0.0, \"#0508b8\"], [0.0893854748603352, \"#1910d8\"], [0.1787709497206704, \"#3c19f0\"], [0.2681564245810056, \"#6b1cfb\"], [0.3575418994413408, \"#981cfd\"], [0.44692737430167595, \"#bf1cfd\"], [0.5363128491620112, \"#dd2bfd\"], [0.6256983240223464, \"#f246fe\"], [0.7150837988826816, \"#fc67fd\"], [0.8044692737430168, \"#fe88fc\"], [0.8938547486033519, \"#fea5fd\"], [0.9832402234636871, \"#febefe\"], [1.0, \"#fec3fe\"]], \"sequentialminus\": [[0.0, \"#0508b8\"], [0.0893854748603352, \"#1910d8\"], [0.1787709497206704, \"#3c19f0\"], [0.2681564245810056, \"#6b1cfb\"], [0.3575418994413408, \"#981cfd\"], [0.44692737430167595, \"#bf1cfd\"], [0.5363128491620112, \"#dd2bfd\"], [0.6256983240223464, \"#f246fe\"], [0.7150837988826816, \"#fc67fd\"], [0.8044692737430168, \"#fe88fc\"], [0.8938547486033519, \"#fea5fd\"], [0.9832402234636871, \"#febefe\"], [1.0, \"#fec3fe\"]]}, \"colorway\": [\"#636efa\", \"#EF553B\", \"#00cc96\", \"#ab63fa\", \"#19d3f3\", \"#e763fa\", \"#FECB52\", \"#FFA15A\", \"#FF6692\", \"#B6E880\"], \"font\": {\"color\": \"#2a3f5f\"}, \"geo\": {\"bgcolor\": \"white\", \"lakecolor\": \"white\", \"landcolor\": \"#E5ECF6\", \"showlakes\": true, \"showland\": true, \"subunitcolor\": \"white\"}, \"hovermode\": \"closest\", \"mapbox\": {\"style\": \"light\"}, \"paper_bgcolor\": \"white\", \"plot_bgcolor\": \"#E5ECF6\", \"polar\": {\"angularaxis\": {\"gridcolor\": \"white\", \"linecolor\": \"white\", \"ticks\": \"\"}, \"bgcolor\": \"#E5ECF6\", \"radialaxis\": {\"gridcolor\": \"white\", \"linecolor\": \"white\", \"ticks\": \"\"}}, \"scene\": {\"xaxis\": {\"backgroundcolor\": \"#E5ECF6\", \"gridcolor\": \"white\", \"gridwidth\": 2, \"linecolor\": \"white\", \"showbackground\": true, \"ticks\": \"\", \"zerolinecolor\": \"white\"}, \"yaxis\": {\"backgroundcolor\": \"#E5ECF6\", \"gridcolor\": \"white\", \"gridwidth\": 2, \"linecolor\": \"white\", \"showbackground\": true, \"ticks\": \"\", \"zerolinecolor\": \"white\"}, \"zaxis\": {\"backgroundcolor\": \"#E5ECF6\", \"gridcolor\": \"white\", \"gridwidth\": 2, \"linecolor\": \"white\", \"showbackground\": true, \"ticks\": \"\", \"zerolinecolor\": \"white\"}}, \"shapedefaults\": {\"fillcolor\": \"#506784\", \"line\": {\"width\": 0}, \"opacity\": 0.4}, \"ternary\": {\"aaxis\": {\"gridcolor\": \"white\", \"linecolor\": \"white\", \"ticks\": \"\"}, \"baxis\": {\"gridcolor\": \"white\", \"linecolor\": \"white\", \"ticks\": \"\"}, \"bgcolor\": \"#E5ECF6\", \"caxis\": {\"gridcolor\": \"white\", \"linecolor\": \"white\", \"ticks\": \"\"}}, \"title\": {\"x\": 0.05}, \"xaxis\": {\"automargin\": true, \"gridcolor\": \"white\", \"linecolor\": \"white\", \"ticks\": \"\", \"zerolinecolor\": \"white\", \"zerolinewidth\": 2}, \"yaxis\": {\"automargin\": true, \"gridcolor\": \"white\", \"linecolor\": \"white\", \"ticks\": \"\", \"zerolinecolor\": \"white\", \"zerolinewidth\": 2}}}, \"title\": {\"text\": \"Rating\"}, \"grid\": {\"xaxes\": [\"x\"], \"yaxes\": [\"y\"], \"xgap\": 0.1, \"ygap\": 0.1, \"xside\": \"bottom\", \"yside\": \"left\"}, \"xaxis\": {\"title\": {\"text\": \"Risk Category\"}}, \"yaxis\": {\"title\": {\"text\": \"Pct (%)\"}}}, {\"showLink\": false, \"linkText\": \"Export to plot.ly\", \"plotlyServerURL\": \"https://plot.ly\"}); \n}\n});</script><script type=\"text/javascript\">window.addEventListener(\"resize\", function(){if (document.getElementById(\"187e21f7-80eb-43cc-8f24-480e5668b784\")) {window._Plotly.Plots.resize(document.getElementById(\"187e21f7-80eb-43cc-8f24-480e5668b784\"));};})</script>",
          "text/vnd.plotly.v1+html": "<div id=\"187e21f7-80eb-43cc-8f24-480e5668b784\" style=\"height: 600px; width: 100%;\" class=\"plotly-graph-div\"></div><script type=\"text/javascript\">require([\"plotly\"], function(Plotly) { window.PLOTLYENV=window.PLOTLYENV || {};window.PLOTLYENV.BASE_URL=\"https://plot.ly\";\nif (document.getElementById(\"187e21f7-80eb-43cc-8f24-480e5668b784\")) {\n    Plotly.newPlot(\"187e21f7-80eb-43cc-8f24-480e5668b784\", [{\"alignmentgroup\": \"True\", \"hovertemplate\": \"Risk Category=%{x}<br>Pct (%)=%{y}<extra></extra>\", \"legendgroup\": \"\", \"marker\": {\"color\": \"#636efa\"}, \"name\": \" \", \"offsetgroup\": \"\", \"orientation\": \"v\", \"showlegend\": false, \"textposition\": \"auto\", \"x\": [\"AAA\", \"AA\", \"A\", \"BBB\", \"BB\", \"B\", \"CCC or below\"], \"xaxis\": \"x\", \"y\": [0.0, 0.0, 0.0, 0.0, 72.16, 22.27, 5.57], \"yaxis\": \"y\", \"type\": \"bar\", \"uid\": \"786cb0a2-db20-4556-b291-5488d7734b8e\"}], {\"barmode\": \"relative\", \"height\": 600, \"legend\": {\"tracegroupgap\": 0}, \"template\": {\"data\": {\"barpolar\": [{\"marker\": {\"line\": {\"color\": \"#E5ECF6\", \"width\": 0.5}}, \"type\": \"barpolar\"}], \"bar\": [{\"marker\": {\"line\": {\"color\": \"#E5ECF6\", \"width\": 0.5}}, \"type\": \"bar\"}], \"carpet\": [{\"aaxis\": {\"endlinecolor\": \"#2a3f5f\", \"gridcolor\": \"white\", \"linecolor\": \"white\", \"minorgridcolor\": \"white\", \"startlinecolor\": \"#2a3f5f\"}, \"baxis\": {\"endlinecolor\": \"#2a3f5f\", \"gridcolor\": \"white\", \"linecolor\": \"white\", \"minorgridcolor\": \"white\", \"startlinecolor\": \"#2a3f5f\"}, \"type\": \"carpet\"}], \"choropleth\": [{\"colorbar\": {\"outlinewidth\": 0, \"ticks\": \"\"}, \"type\": \"choropleth\"}], \"contourcarpet\": [{\"colorbar\": {\"outlinewidth\": 0, \"ticks\": \"\"}, \"type\": \"contourcarpet\"}], \"contour\": [{\"autocolorscale\": true, \"colorbar\": {\"outlinewidth\": 0, \"ticks\": \"\"}, \"type\": \"contour\"}], \"heatmapgl\": [{\"colorbar\": {\"outlinewidth\": 0, \"ticks\": \"\"}, \"type\": \"heatmapgl\"}], \"heatmap\": [{\"autocolorscale\": true, \"colorbar\": {\"outlinewidth\": 0, \"ticks\": \"\"}, \"type\": \"heatmap\"}], \"histogram2dcontour\": [{\"autocolorscale\": true, \"colorbar\": {\"outlinewidth\": 0, \"ticks\": \"\"}, \"type\": \"histogram2dcontour\"}], \"histogram2d\": [{\"autocolorscale\": true, \"colorbar\": {\"outlinewidth\": 0, \"ticks\": \"\"}, \"type\": \"histogram2d\"}], \"histogram\": [{\"marker\": {\"colorbar\": {\"outlinewidth\": 0, \"ticks\": \"\"}}, \"type\": \"histogram\"}], \"mesh3d\": [{\"colorbar\": {\"outlinewidth\": 0, \"ticks\": \"\"}, \"type\": \"mesh3d\"}], \"parcoords\": [{\"line\": {\"colorbar\": {\"outlinewidth\": 0, \"ticks\": \"\"}}, \"type\": \"parcoords\"}], \"scatter3d\": [{\"marker\": {\"colorbar\": {\"outlinewidth\": 0, \"ticks\": \"\"}}, \"type\": \"scatter3d\"}], \"scattercarpet\": [{\"marker\": {\"colorbar\": {\"outlinewidth\": 0, \"ticks\": \"\"}}, \"type\": \"scattercarpet\"}], \"scattergeo\": [{\"marker\": {\"colorbar\": {\"outlinewidth\": 0, \"ticks\": \"\"}}, \"type\": \"scattergeo\"}], \"scattergl\": [{\"marker\": {\"colorbar\": {\"outlinewidth\": 0, \"ticks\": \"\"}}, \"type\": \"scattergl\"}], \"scattermapbox\": [{\"marker\": {\"colorbar\": {\"outlinewidth\": 0, \"ticks\": \"\"}}, \"type\": \"scattermapbox\"}], \"scatterpolargl\": [{\"marker\": {\"colorbar\": {\"outlinewidth\": 0, \"ticks\": \"\"}}, \"type\": \"scatterpolargl\"}], \"scatterpolar\": [{\"marker\": {\"colorbar\": {\"outlinewidth\": 0, \"ticks\": \"\"}}, \"type\": \"scatterpolar\"}], \"scatter\": [{\"marker\": {\"colorbar\": {\"outlinewidth\": 0, \"ticks\": \"\"}}, \"type\": \"scatter\"}], \"scatterternary\": [{\"marker\": {\"colorbar\": {\"outlinewidth\": 0, \"ticks\": \"\"}}, \"type\": \"scatterternary\"}], \"surface\": [{\"colorbar\": {\"outlinewidth\": 0, \"ticks\": \"\"}, \"type\": \"surface\"}], \"table\": [{\"cells\": {\"fill\": {\"color\": \"#EBF0F8\"}, \"line\": {\"color\": \"white\"}}, \"header\": {\"fill\": {\"color\": \"#C8D4E3\"}, \"line\": {\"color\": \"white\"}}, \"type\": \"table\"}]}, \"layout\": {\"annotationdefaults\": {\"arrowcolor\": \"#506784\", \"arrowhead\": 0, \"arrowwidth\": 1}, \"colorscale\": {\"diverging\": [[0, \"#8e0152\"], [0.1, \"#c51b7d\"], [0.2, \"#de77ae\"], [0.3, \"#f1b6da\"], [0.4, \"#fde0ef\"], [0.5, \"#f7f7f7\"], [0.6, \"#e6f5d0\"], [0.7, \"#b8e186\"], [0.8, \"#7fbc41\"], [0.9, \"#4d9221\"], [1, \"#276419\"]], \"sequential\": [[0.0, \"#0508b8\"], [0.0893854748603352, \"#1910d8\"], [0.1787709497206704, \"#3c19f0\"], [0.2681564245810056, \"#6b1cfb\"], [0.3575418994413408, \"#981cfd\"], [0.44692737430167595, \"#bf1cfd\"], [0.5363128491620112, \"#dd2bfd\"], [0.6256983240223464, \"#f246fe\"], [0.7150837988826816, \"#fc67fd\"], [0.8044692737430168, \"#fe88fc\"], [0.8938547486033519, \"#fea5fd\"], [0.9832402234636871, \"#febefe\"], [1.0, \"#fec3fe\"]], \"sequentialminus\": [[0.0, \"#0508b8\"], [0.0893854748603352, \"#1910d8\"], [0.1787709497206704, \"#3c19f0\"], [0.2681564245810056, \"#6b1cfb\"], [0.3575418994413408, \"#981cfd\"], [0.44692737430167595, \"#bf1cfd\"], [0.5363128491620112, \"#dd2bfd\"], [0.6256983240223464, \"#f246fe\"], [0.7150837988826816, \"#fc67fd\"], [0.8044692737430168, \"#fe88fc\"], [0.8938547486033519, \"#fea5fd\"], [0.9832402234636871, \"#febefe\"], [1.0, \"#fec3fe\"]]}, \"colorway\": [\"#636efa\", \"#EF553B\", \"#00cc96\", \"#ab63fa\", \"#19d3f3\", \"#e763fa\", \"#FECB52\", \"#FFA15A\", \"#FF6692\", \"#B6E880\"], \"font\": {\"color\": \"#2a3f5f\"}, \"geo\": {\"bgcolor\": \"white\", \"lakecolor\": \"white\", \"landcolor\": \"#E5ECF6\", \"showlakes\": true, \"showland\": true, \"subunitcolor\": \"white\"}, \"hovermode\": \"closest\", \"mapbox\": {\"style\": \"light\"}, \"paper_bgcolor\": \"white\", \"plot_bgcolor\": \"#E5ECF6\", \"polar\": {\"angularaxis\": {\"gridcolor\": \"white\", \"linecolor\": \"white\", \"ticks\": \"\"}, \"bgcolor\": \"#E5ECF6\", \"radialaxis\": {\"gridcolor\": \"white\", \"linecolor\": \"white\", \"ticks\": \"\"}}, \"scene\": {\"xaxis\": {\"backgroundcolor\": \"#E5ECF6\", \"gridcolor\": \"white\", \"gridwidth\": 2, \"linecolor\": \"white\", \"showbackground\": true, \"ticks\": \"\", \"zerolinecolor\": \"white\"}, \"yaxis\": {\"backgroundcolor\": \"#E5ECF6\", \"gridcolor\": \"white\", \"gridwidth\": 2, \"linecolor\": \"white\", \"showbackground\": true, \"ticks\": \"\", \"zerolinecolor\": \"white\"}, \"zaxis\": {\"backgroundcolor\": \"#E5ECF6\", \"gridcolor\": \"white\", \"gridwidth\": 2, \"linecolor\": \"white\", \"showbackground\": true, \"ticks\": \"\", \"zerolinecolor\": \"white\"}}, \"shapedefaults\": {\"fillcolor\": \"#506784\", \"line\": {\"width\": 0}, \"opacity\": 0.4}, \"ternary\": {\"aaxis\": {\"gridcolor\": \"white\", \"linecolor\": \"white\", \"ticks\": \"\"}, \"baxis\": {\"gridcolor\": \"white\", \"linecolor\": \"white\", \"ticks\": \"\"}, \"bgcolor\": \"#E5ECF6\", \"caxis\": {\"gridcolor\": \"white\", \"linecolor\": \"white\", \"ticks\": \"\"}}, \"title\": {\"x\": 0.05}, \"xaxis\": {\"automargin\": true, \"gridcolor\": \"white\", \"linecolor\": \"white\", \"ticks\": \"\", \"zerolinecolor\": \"white\", \"zerolinewidth\": 2}, \"yaxis\": {\"automargin\": true, \"gridcolor\": \"white\", \"linecolor\": \"white\", \"ticks\": \"\", \"zerolinecolor\": \"white\", \"zerolinewidth\": 2}}}, \"title\": {\"text\": \"Rating\"}, \"grid\": {\"xaxes\": [\"x\"], \"yaxes\": [\"y\"], \"xgap\": 0.1, \"ygap\": 0.1, \"xside\": \"bottom\", \"yside\": \"left\"}, \"xaxis\": {\"title\": {\"text\": \"Risk Category\"}}, \"yaxis\": {\"title\": {\"text\": \"Pct (%)\"}}}, {\"showLink\": false, \"linkText\": \"Export to plot.ly\", \"plotlyServerURL\": \"https://plot.ly\"}); \n}\n});</script><script type=\"text/javascript\">window.addEventListener(\"resize\", function(){if (document.getElementById(\"187e21f7-80eb-43cc-8f24-480e5668b784\")) {window._Plotly.Plots.resize(document.getElementById(\"187e21f7-80eb-43cc-8f24-480e5668b784\"));};})</script>"
         },
         "metadata": {},
         "output_type": "display_data"
        },
        {
         "data": {
          "text/html": "<style  type=\"text/css\" >\n    #T_bbf29034_5c5f_11e9_a62b_fc77742e8519row0_col2 {\n            background-color:  #e5ffe5;\n            : ;\n        }    #T_bbf29034_5c5f_11e9_a62b_fc77742e8519row1_col2 {\n            background-color:  #e5ffe5;\n            : ;\n        }    #T_bbf29034_5c5f_11e9_a62b_fc77742e8519row2_col2 {\n            background-color:  #e5ffe5;\n            : ;\n        }    #T_bbf29034_5c5f_11e9_a62b_fc77742e8519row3_col2 {\n            background-color:  #e5ffe5;\n            : ;\n        }    #T_bbf29034_5c5f_11e9_a62b_fc77742e8519row4_col2 {\n            background-color:  #008000;\n            background-color:  yellow;\n        }    #T_bbf29034_5c5f_11e9_a62b_fc77742e8519row5_col2 {\n            background-color:  #9ed89e;\n            : ;\n        }    #T_bbf29034_5c5f_11e9_a62b_fc77742e8519row6_col2 {\n            background-color:  #d4f6d4;\n            : ;\n        }</style>  \n<table id=\"T_bbf29034_5c5f_11e9_a62b_fc77742e8519\" > \n<thead>    <tr> \n        <th class=\"blank level0\" ></th> \n        <th class=\"col_heading level0 col0\" >risk_catI</th> \n        <th class=\"col_heading level0 col1\" >risk_catII</th> \n        <th class=\"col_heading level0 col2\" >NIG_NFIN_S</th> \n    </tr></thead> \n<tbody>    <tr> \n        <th id=\"T_bbf29034_5c5f_11e9_a62b_fc77742e8519level0_row0\" class=\"row_heading level0 row0\" >4</th> \n        <td id=\"T_bbf29034_5c5f_11e9_a62b_fc77742e8519row0_col0\" class=\"data row0 col0\" >Rating</td> \n        <td id=\"T_bbf29034_5c5f_11e9_a62b_fc77742e8519row0_col1\" class=\"data row0 col1\" >AAA</td> \n        <td id=\"T_bbf29034_5c5f_11e9_a62b_fc77742e8519row0_col2\" class=\"data row0 col2\" >0</td> \n    </tr>    <tr> \n        <th id=\"T_bbf29034_5c5f_11e9_a62b_fc77742e8519level0_row1\" class=\"row_heading level0 row1\" >5</th> \n        <td id=\"T_bbf29034_5c5f_11e9_a62b_fc77742e8519row1_col0\" class=\"data row1 col0\" >Rating</td> \n        <td id=\"T_bbf29034_5c5f_11e9_a62b_fc77742e8519row1_col1\" class=\"data row1 col1\" >AA</td> \n        <td id=\"T_bbf29034_5c5f_11e9_a62b_fc77742e8519row1_col2\" class=\"data row1 col2\" >0</td> \n    </tr>    <tr> \n        <th id=\"T_bbf29034_5c5f_11e9_a62b_fc77742e8519level0_row2\" class=\"row_heading level0 row2\" >6</th> \n        <td id=\"T_bbf29034_5c5f_11e9_a62b_fc77742e8519row2_col0\" class=\"data row2 col0\" >Rating</td> \n        <td id=\"T_bbf29034_5c5f_11e9_a62b_fc77742e8519row2_col1\" class=\"data row2 col1\" >A</td> \n        <td id=\"T_bbf29034_5c5f_11e9_a62b_fc77742e8519row2_col2\" class=\"data row2 col2\" >0</td> \n    </tr>    <tr> \n        <th id=\"T_bbf29034_5c5f_11e9_a62b_fc77742e8519level0_row3\" class=\"row_heading level0 row3\" >7</th> \n        <td id=\"T_bbf29034_5c5f_11e9_a62b_fc77742e8519row3_col0\" class=\"data row3 col0\" >Rating</td> \n        <td id=\"T_bbf29034_5c5f_11e9_a62b_fc77742e8519row3_col1\" class=\"data row3 col1\" >BBB</td> \n        <td id=\"T_bbf29034_5c5f_11e9_a62b_fc77742e8519row3_col2\" class=\"data row3 col2\" >0</td> \n    </tr>    <tr> \n        <th id=\"T_bbf29034_5c5f_11e9_a62b_fc77742e8519level0_row4\" class=\"row_heading level0 row4\" >8</th> \n        <td id=\"T_bbf29034_5c5f_11e9_a62b_fc77742e8519row4_col0\" class=\"data row4 col0\" >Rating</td> \n        <td id=\"T_bbf29034_5c5f_11e9_a62b_fc77742e8519row4_col1\" class=\"data row4 col1\" >BB</td> \n        <td id=\"T_bbf29034_5c5f_11e9_a62b_fc77742e8519row4_col2\" class=\"data row4 col2\" >72.16</td> \n    </tr>    <tr> \n        <th id=\"T_bbf29034_5c5f_11e9_a62b_fc77742e8519level0_row5\" class=\"row_heading level0 row5\" >9</th> \n        <td id=\"T_bbf29034_5c5f_11e9_a62b_fc77742e8519row5_col0\" class=\"data row5 col0\" >Rating</td> \n        <td id=\"T_bbf29034_5c5f_11e9_a62b_fc77742e8519row5_col1\" class=\"data row5 col1\" >B</td> \n        <td id=\"T_bbf29034_5c5f_11e9_a62b_fc77742e8519row5_col2\" class=\"data row5 col2\" >22.27</td> \n    </tr>    <tr> \n        <th id=\"T_bbf29034_5c5f_11e9_a62b_fc77742e8519level0_row6\" class=\"row_heading level0 row6\" >10</th> \n        <td id=\"T_bbf29034_5c5f_11e9_a62b_fc77742e8519row6_col0\" class=\"data row6 col0\" >Rating</td> \n        <td id=\"T_bbf29034_5c5f_11e9_a62b_fc77742e8519row6_col1\" class=\"data row6 col1\" >CCC or below</td> \n        <td id=\"T_bbf29034_5c5f_11e9_a62b_fc77742e8519row6_col2\" class=\"data row6 col2\" >5.57</td> \n    </tr></tbody> \n</table> ",
          "text/plain": "<pandas.io.formats.style.Styler at 0x2c7493fb4a8>"
         },
         "metadata": {},
         "output_type": "display_data"
        }
       ]
      }
     },
     "df8a1098a410451a9b7d5df11ec37f34": {
      "model_module": "@jupyter-widgets/base",
      "model_module_version": "1.1.0",
      "model_name": "LayoutModel",
      "state": {}
     },
     "dfb983de4ea842ff81e07a91eead379a": {
      "model_module": "@jupyter-widgets/controls",
      "model_module_version": "1.4.0",
      "model_name": "VBoxModel",
      "state": {
       "_dom_classes": [
        "widget-interact"
       ],
       "children": [
        "IPY_MODEL_0600c8d0dbad4e3c957d341bdd622ea2",
        "IPY_MODEL_ccc0d3cd467f4ef69ec2365707008cd8",
        "IPY_MODEL_a563cf5c63cd4a04a23a7d43ac5b19ef",
        "IPY_MODEL_d07dfd8fbcd04b63b4fb4ba74ed8e5c4",
        "IPY_MODEL_58505c82f0cc4a17a84488da8bf3c64a"
       ],
       "layout": "IPY_MODEL_36b1810558aa4446ae2ae0b5dd472b3c"
      }
     },
     "e0719fe499834d20b59e95888568260b": {
      "model_module": "@jupyter-widgets/controls",
      "model_module_version": "1.4.0",
      "model_name": "DescriptionStyleModel",
      "state": {
       "description_width": ""
      }
     },
     "e171646281af4f37818923c7aaf14027": {
      "model_module": "@jupyter-widgets/controls",
      "model_module_version": "1.4.0",
      "model_name": "DropdownModel",
      "state": {
       "_options_labels": [
        "Investment Grade",
        "Non-investment Grade"
       ],
       "description": "Rating:",
       "index": 0,
       "layout": "IPY_MODEL_8bf5d0b0e486428f9bbb77cd89438ec5",
       "style": "IPY_MODEL_7f2345d7949f45d28a613a3e18ab09a2"
      }
     },
     "e57dae0a40d74c74a554600f1a061b2d": {
      "model_module": "@jupyter-widgets/base",
      "model_module_version": "1.1.0",
      "model_name": "LayoutModel",
      "state": {}
     },
     "e9033796319a477ca42a9ed69d63f622": {
      "model_module": "@jupyter-widgets/base",
      "model_module_version": "1.1.0",
      "model_name": "LayoutModel",
      "state": {}
     },
     "ec64c51db0ee43d4a5d8ea1a8ded10e0": {
      "model_module": "@jupyter-widgets/base",
      "model_module_version": "1.1.0",
      "model_name": "LayoutModel",
      "state": {}
     },
     "ed92cdb83b4f4bab81062ad569a22197": {
      "model_module": "@jupyter-widgets/controls",
      "model_module_version": "1.4.0",
      "model_name": "VBoxModel",
      "state": {
       "children": [
        "IPY_MODEL_af37e634f26a4c6782ebf7a4038a38c1",
        "IPY_MODEL_7663fe29965e4d93aa984460cd7a58e0",
        "IPY_MODEL_609f7e3905e84e7f99538b23226cd30a",
        "IPY_MODEL_c31863bb302c4a66b5f179f286e074a9",
        "IPY_MODEL_54d68c9d535844fe84d3e31dcdcdf470"
       ],
       "layout": "IPY_MODEL_9849ff9db2ec41b38ab2243680d9b35b"
      }
     },
     "f3bcd218c3fd48beaada8dbbb8388695": {
      "model_module": "@jupyter-widgets/controls",
      "model_module_version": "1.4.0",
      "model_name": "TabModel",
      "state": {
       "_titles": {
        "0": "Interactive Plots"
       },
       "children": [
        "IPY_MODEL_0adf70213aad4d148dbf434d1723f3b1"
       ],
       "layout": "IPY_MODEL_ec64c51db0ee43d4a5d8ea1a8ded10e0"
      }
     },
     "f6ecf980d89b4190b298d1932070b3a8": {
      "model_module": "@jupyter-widgets/controls",
      "model_module_version": "1.4.0",
      "model_name": "RadioButtonsModel",
      "state": {
       "_options_labels": [
        "Facility Type",
        "Rating",
        "Lien Position",
        "Interest Rate",
        "Industry",
        "Guarantor",
        "Other",
        "Loss Rate"
       ],
       "description": "Risk Category:",
       "index": 4,
       "layout": "IPY_MODEL_dc57cc66527541209424c0948e441de4",
       "style": "IPY_MODEL_8c1bc2cb576b4bf0ad49405a3c0d91a0"
      }
     },
     "fa588bd9ed73499796f7fff582e86ec3": {
      "model_module": "@jupyter-widgets/controls",
      "model_module_version": "1.4.0",
      "model_name": "DescriptionStyleModel",
      "state": {
       "description_width": ""
      }
     },
     "fac109feab6a4ce19edb6da98f5b642f": {
      "model_module": "@jupyter-widgets/controls",
      "model_module_version": "1.4.0",
      "model_name": "DescriptionStyleModel",
      "state": {
       "description_width": ""
      }
     },
     "fc193502d49c4e2aaffb0dbf579927c8": {
      "model_module": "@jupyter-widgets/controls",
      "model_module_version": "1.4.0",
      "model_name": "DropdownModel",
      "state": {
       "_options_labels": [
        "Financial Sector",
        "Non-financial Sector"
       ],
       "description": "Sector:",
       "index": 1,
       "layout": "IPY_MODEL_834e62416c514baf9b637bd2327279ad",
       "style": "IPY_MODEL_a8f2c9c60bfc4466aef157552d3f23bf"
      }
     },
     "fc52523f62994f078cfdbf384ef46484": {
      "model_module": "@jupyter-widgets/controls",
      "model_module_version": "1.4.0",
      "model_name": "DescriptionStyleModel",
      "state": {
       "description_width": ""
      }
     }
    },
    "version_major": 2,
    "version_minor": 0
   }
  }
 },
 "nbformat": 4,
 "nbformat_minor": 2
}
